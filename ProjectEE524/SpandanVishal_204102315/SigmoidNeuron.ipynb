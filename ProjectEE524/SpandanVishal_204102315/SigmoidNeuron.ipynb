{
  "nbformat": 4,
  "nbformat_minor": 0,
  "metadata": {
    "colab": {
      "name": "SigmoidNeuron.ipynb",
      "provenance": [],
      "collapsed_sections": []
    },
    "kernelspec": {
      "name": "python3",
      "display_name": "Python 3"
    },
    "widgets": {
      "application/vnd.jupyter.widget-state+json": {
        "8f951b2a92244725b8c10c488558f280": {
          "model_module": "@jupyter-widgets/controls",
          "model_name": "HBoxModel",
          "state": {
            "_view_name": "HBoxView",
            "_dom_classes": [],
            "_model_name": "HBoxModel",
            "_view_module": "@jupyter-widgets/controls",
            "_model_module_version": "1.5.0",
            "_view_count": null,
            "_view_module_version": "1.5.0",
            "box_style": "",
            "layout": "IPY_MODEL_32c29c1a4e8f454287492fcba54768bc",
            "_model_module": "@jupyter-widgets/controls",
            "children": [
              "IPY_MODEL_c56ed7389d5f4e0489ee118cf6984518",
              "IPY_MODEL_b65404942c2948c9b260ce00daa5b2df"
            ]
          }
        },
        "32c29c1a4e8f454287492fcba54768bc": {
          "model_module": "@jupyter-widgets/base",
          "model_name": "LayoutModel",
          "state": {
            "_view_name": "LayoutView",
            "grid_template_rows": null,
            "right": null,
            "justify_content": null,
            "_view_module": "@jupyter-widgets/base",
            "overflow": null,
            "_model_module_version": "1.2.0",
            "_view_count": null,
            "flex_flow": null,
            "width": null,
            "min_width": null,
            "border": null,
            "align_items": null,
            "bottom": null,
            "_model_module": "@jupyter-widgets/base",
            "top": null,
            "grid_column": null,
            "overflow_y": null,
            "overflow_x": null,
            "grid_auto_flow": null,
            "grid_area": null,
            "grid_template_columns": null,
            "flex": null,
            "_model_name": "LayoutModel",
            "justify_items": null,
            "grid_row": null,
            "max_height": null,
            "align_content": null,
            "visibility": null,
            "align_self": null,
            "height": null,
            "min_height": null,
            "padding": null,
            "grid_auto_rows": null,
            "grid_gap": null,
            "max_width": null,
            "order": null,
            "_view_module_version": "1.2.0",
            "grid_template_areas": null,
            "object_position": null,
            "object_fit": null,
            "grid_auto_columns": null,
            "margin": null,
            "display": null,
            "left": null
          }
        },
        "c56ed7389d5f4e0489ee118cf6984518": {
          "model_module": "@jupyter-widgets/controls",
          "model_name": "FloatProgressModel",
          "state": {
            "_view_name": "ProgressView",
            "style": "IPY_MODEL_56cfd681006c47a3a866d8d41059673f",
            "_dom_classes": [],
            "description": "100%",
            "_model_name": "FloatProgressModel",
            "bar_style": "success",
            "max": 2000,
            "_view_module": "@jupyter-widgets/controls",
            "_model_module_version": "1.5.0",
            "value": 2000,
            "_view_count": null,
            "_view_module_version": "1.5.0",
            "orientation": "horizontal",
            "min": 0,
            "description_tooltip": null,
            "_model_module": "@jupyter-widgets/controls",
            "layout": "IPY_MODEL_41dda992865f4c999f834db9612fe953"
          }
        },
        "b65404942c2948c9b260ce00daa5b2df": {
          "model_module": "@jupyter-widgets/controls",
          "model_name": "HTMLModel",
          "state": {
            "_view_name": "HTMLView",
            "style": "IPY_MODEL_62a93c83cde3416b8e54d7756e93cc36",
            "_dom_classes": [],
            "description": "",
            "_model_name": "HTMLModel",
            "placeholder": "​",
            "_view_module": "@jupyter-widgets/controls",
            "_model_module_version": "1.5.0",
            "value": " 2000/2000 [1:16:19&lt;00:00,  2.29s/epoch]",
            "_view_count": null,
            "_view_module_version": "1.5.0",
            "description_tooltip": null,
            "_model_module": "@jupyter-widgets/controls",
            "layout": "IPY_MODEL_31b29d7477984442a87a1e5bbcc35b27"
          }
        },
        "56cfd681006c47a3a866d8d41059673f": {
          "model_module": "@jupyter-widgets/controls",
          "model_name": "ProgressStyleModel",
          "state": {
            "_view_name": "StyleView",
            "_model_name": "ProgressStyleModel",
            "description_width": "initial",
            "_view_module": "@jupyter-widgets/base",
            "_model_module_version": "1.5.0",
            "_view_count": null,
            "_view_module_version": "1.2.0",
            "bar_color": null,
            "_model_module": "@jupyter-widgets/controls"
          }
        },
        "41dda992865f4c999f834db9612fe953": {
          "model_module": "@jupyter-widgets/base",
          "model_name": "LayoutModel",
          "state": {
            "_view_name": "LayoutView",
            "grid_template_rows": null,
            "right": null,
            "justify_content": null,
            "_view_module": "@jupyter-widgets/base",
            "overflow": null,
            "_model_module_version": "1.2.0",
            "_view_count": null,
            "flex_flow": null,
            "width": null,
            "min_width": null,
            "border": null,
            "align_items": null,
            "bottom": null,
            "_model_module": "@jupyter-widgets/base",
            "top": null,
            "grid_column": null,
            "overflow_y": null,
            "overflow_x": null,
            "grid_auto_flow": null,
            "grid_area": null,
            "grid_template_columns": null,
            "flex": null,
            "_model_name": "LayoutModel",
            "justify_items": null,
            "grid_row": null,
            "max_height": null,
            "align_content": null,
            "visibility": null,
            "align_self": null,
            "height": null,
            "min_height": null,
            "padding": null,
            "grid_auto_rows": null,
            "grid_gap": null,
            "max_width": null,
            "order": null,
            "_view_module_version": "1.2.0",
            "grid_template_areas": null,
            "object_position": null,
            "object_fit": null,
            "grid_auto_columns": null,
            "margin": null,
            "display": null,
            "left": null
          }
        },
        "62a93c83cde3416b8e54d7756e93cc36": {
          "model_module": "@jupyter-widgets/controls",
          "model_name": "DescriptionStyleModel",
          "state": {
            "_view_name": "StyleView",
            "_model_name": "DescriptionStyleModel",
            "description_width": "",
            "_view_module": "@jupyter-widgets/base",
            "_model_module_version": "1.5.0",
            "_view_count": null,
            "_view_module_version": "1.2.0",
            "_model_module": "@jupyter-widgets/controls"
          }
        },
        "31b29d7477984442a87a1e5bbcc35b27": {
          "model_module": "@jupyter-widgets/base",
          "model_name": "LayoutModel",
          "state": {
            "_view_name": "LayoutView",
            "grid_template_rows": null,
            "right": null,
            "justify_content": null,
            "_view_module": "@jupyter-widgets/base",
            "overflow": null,
            "_model_module_version": "1.2.0",
            "_view_count": null,
            "flex_flow": null,
            "width": null,
            "min_width": null,
            "border": null,
            "align_items": null,
            "bottom": null,
            "_model_module": "@jupyter-widgets/base",
            "top": null,
            "grid_column": null,
            "overflow_y": null,
            "overflow_x": null,
            "grid_auto_flow": null,
            "grid_area": null,
            "grid_template_columns": null,
            "flex": null,
            "_model_name": "LayoutModel",
            "justify_items": null,
            "grid_row": null,
            "max_height": null,
            "align_content": null,
            "visibility": null,
            "align_self": null,
            "height": null,
            "min_height": null,
            "padding": null,
            "grid_auto_rows": null,
            "grid_gap": null,
            "max_width": null,
            "order": null,
            "_view_module_version": "1.2.0",
            "grid_template_areas": null,
            "object_position": null,
            "object_fit": null,
            "grid_auto_columns": null,
            "margin": null,
            "display": null,
            "left": null
          }
        }
      }
    }
  },
  "cells": [
    {
      "cell_type": "markdown",
      "metadata": {
        "id": "XvXDTCyr70Z6"
      },
      "source": [
        "Sigmoid neuron\n",
        "\n",
        "$S_{w,b}(x) = \\frac{1}{1 + e^{-(w^Tx + b)}}$"
      ]
    },
    {
      "cell_type": "code",
      "metadata": {
        "colab": {
          "base_uri": "https://localhost:8080/",
          "height": 265
        },
        "id": "j_LAUggd8oIh",
        "outputId": "db9a5aec-b852-4301-ac42-8e5e8cd826a3"
      },
      "source": [
        "#Plotting 2d sigmoid\n",
        "from mpl_toolkits import mplot3d\n",
        "import matplotlib.colors\n",
        "\n",
        "def sigmoid_2d(x1, x2, w1, w2, b):\n",
        "  return 1/(1 + np.exp(-(w1*x1 + w2*x2 + b)))\n",
        "\n",
        "X1 = np.linspace(-10, 10, 100)\n",
        "X2 = np.linspace(-10, 10, 100)\n",
        "w1 = 3\n",
        "w2 = -1\n",
        "b = 0\n",
        "Y = sigmoid_2d(XX1, XX2, w1, w2, b)\n",
        "XX1, XX2 = np.meshgrid(X1, X2)\n",
        "fig = plt.figure()\n",
        "ax = plt.axes(projection='3d')\n",
        "ax.plot_surface(XX1, XX2, Y, cmap='viridis')\n",
        "ax.set_xlabel('x1')\n",
        "ax.set_ylabel('x2')\n",
        "ax.set_zlabel('y')"
      ],
      "execution_count": 129,
      "outputs": [
        {
          "output_type": "execute_result",
          "data": {
            "text/plain": [
              "Text(0.5, 0, 'y')"
            ]
          },
          "metadata": {
            "tags": []
          },
          "execution_count": 129
        },
        {
          "output_type": "display_data",
          "data": {
            "image/png": "[encoded data removed]",
            "text/plain": [
              "<Figure size 432x288 with 1 Axes>"
            ]
          },
          "metadata": {
            "tags": [],
            "needs_background": "light"
          }
        }
      ]
    },
    {
      "cell_type": "code",
      "metadata": {
        "id": "Sd-KZF0Z_SOA"
      },
      "source": [
        "#importing the libraries\n",
        "import numpy as np\n",
        "import matplotlib.pyplot as plt\n",
        "import pandas as pd\n",
        "from sklearn.preprocessing import StandardScaler\n",
        "from sklearn.model_selection import train_test_split\n",
        "from sklearn.metrics import accuracy_score, mean_squared_error\n",
        "from tqdm import tqdm_notebook\n",
        "\n",
        "\n",
        "#Loading the dataset\n",
        "breast_cancer = sklearn.datasets.load_breast_cancer()\n",
        "\n",
        "X = breast_cancer.data   #input data\n",
        "Y = breast_cancer.target #classes corresponding to the data\n",
        "\n",
        "data = pd.DataFrame(breast_cancer.data, columns=breast_cancer.feature_names) #Converting the data into pandas dataframe\n",
        "data['class'] = breast_cancer.target                                         #formation of class column\n",
        "\n",
        "#Splitting of data\n",
        "from sklearn.model_selection import train_test_split\n",
        "X = data.drop('class', axis=1)\n",
        "Y = data['class']  #separating class from the data"
      ],
      "execution_count": null,
      "outputs": []
    },
    {
      "cell_type": "code",
      "metadata": {
        "id": "cox9rJ-RAUnf"
      },
      "source": [
        "X_train, X_test, Y_train, Y_test = train_test_split(X, Y, random_state=0, stratify=Y) #division of dataset into test and training data maintaining the reproducibility of data(random_state)\n",
        "\n",
        "#standardization of data into mean=0 and std.deviation=0\n",
        "scaler = StandardScaler()\n",
        "X_scaled_train = scaler.fit_transform(X_train)\n",
        "X_scaled_test = scaler.transform(X_test)#transforming test data using the parameters of training data"
      ],
      "execution_count": null,
      "outputs": []
    },
    {
      "cell_type": "code",
      "metadata": {
        "id": "GXG_x_8kEXIE"
      },
      "source": [
        "#sigmoid neuron class\n",
        "class SigmoidNeuron:\n",
        "  \n",
        "  def __init__(self):\n",
        "    self.w = None\n",
        "    self.b = None\n",
        "    \n",
        "  def perceptron(self, x):\n",
        "    return np.dot(x, self.w.T) + self.b\n",
        "  \n",
        "  def sigmoid(self, x):\n",
        "    return 1.0/(1.0 + np.exp(-x))\n",
        "  \n",
        "  def grad_w(self, x, y): #gradient w.r.t weights\n",
        "    y_pred = self.sigmoid(self.perceptron(x))\n",
        "    return (y_pred - y) * y_pred * (1 - y_pred) * x\n",
        "  \n",
        "  def grad_b(self, x, y):#gradient w.r.t b\n",
        "    y_pred = self.sigmoid(self.perceptron(x))\n",
        "    return (y_pred - y) * y_pred * (1 - y_pred)\n",
        "  \n",
        "  def fit(self, X, Y, epochs=1, learning_rate=1, initialise=True, display_loss=False):\n",
        "    \n",
        "    # initialise w, b\n",
        "    if initialise:\n",
        "      self.w = np.random.randn(1, X.shape[1])\n",
        "      self.b = 0\n",
        "      \n",
        "    if display_loss:\n",
        "      loss = {}\n",
        "      L=[]\n",
        "    \n",
        "    for i in tqdm_notebook(range(epochs), total=epochs, unit=\"epoch\"): #tqdm for progress bar\n",
        "      dw = 0\n",
        "      db = 0\n",
        "      for x, y in zip(X, Y):\n",
        "        dw += self.grad_w(x, y)\n",
        "        db += self.grad_b(x, y)   \n",
        "      self.w -= learning_rate * dw  #performing gradient descent algorithm\n",
        "      self.b -= learning_rate * db\n",
        "      \n",
        "      if display_loss:\n",
        "        Y_pred = self.sigmoid(self.perceptron(X))\n",
        "        loss[i] = mean_squared_error(Y_pred, Y)\n",
        "        L.append(loss[i])\n",
        "    \n",
        "    if display_loss:\n",
        "      plt.plot(L)\n",
        "      plt.xlabel('Epochs')\n",
        "      plt.ylabel('Mean Squared Error')\n",
        "      plt.show()\n",
        "      \n",
        "  def predict(self, X):\n",
        "    Y_pred = []\n",
        "    for x in X:\n",
        "      y_pred = self.sigmoid(self.perceptron(x))\n",
        "      Y_pred.append(y_pred)\n",
        "    return np.array(Y_pred)"
      ],
      "execution_count": null,
      "outputs": []
    },
    {
      "cell_type": "code",
      "metadata": {
        "id": "mXgRFRkuEXqP"
      },
      "source": [
        "sn = SigmoidNeuron()"
      ],
      "execution_count": null,
      "outputs": []
    },
    {
      "cell_type": "code",
      "metadata": {
        "colab": {
          "base_uri": "https://localhost:8080/",
          "height": 362,
          "referenced_widgets": [
            "8f951b2a92244725b8c10c488558f280",
            "32c29c1a4e8f454287492fcba54768bc",
            "c56ed7389d5f4e0489ee118cf6984518",
            "b65404942c2948c9b260ce00daa5b2df",
            "56cfd681006c47a3a866d8d41059673f",
            "41dda992865f4c999f834db9612fe953",
            "62a93c83cde3416b8e54d7756e93cc36",
            "31b29d7477984442a87a1e5bbcc35b27"
          ]
        },
        "id": "4jXLF02lEhEf",
        "outputId": "5b00d906-e6fc-462e-bbe5-9931d0e4159b"
      },
      "source": [
        "sn.fit(X_scaled_train, Y_train, epochs=2000, learning_rate=0.2, display_loss=True)"
      ],
      "execution_count": null,
      "outputs": [
        {
          "output_type": "stream",
          "text": [
            "/usr/local/lib/python3.6/dist-packages/ipykernel_launcher.py:32: TqdmDeprecationWarning: This function will be removed in tqdm==5.0.0\n",
            "Please use `tqdm.notebook.tqdm` instead of `tqdm.tqdm_notebook`\n"
          ],
          "name": "stderr"
        },
        {
          "output_type": "display_data",
          "data": {
            "application/vnd.jupyter.widget-view+json": {
              "model_id": "8f951b2a92244725b8c10c488558f280",
              "version_minor": 0,
              "version_major": 2
            },
            "text/plain": [
              "HBox(children=(FloatProgress(value=0.0, max=2000.0), HTML(value='')))"
            ]
          },
          "metadata": {
            "tags": []
          }
        },
        {
          "output_type": "stream",
          "text": [
            "\n"
          ],
          "name": "stdout"
        },
        {
          "output_type": "display_data",
          "data": {
            "image/png": "[encoded data removed]",
            "text/plain": [
              "<Figure size 432x288 with 1 Axes>"
            ]
          },
          "metadata": {
            "tags": [],
            "needs_background": "light"
          }
        }
      ]
    },
    {
      "cell_type": "code",
      "metadata": {
        "id": "ROJuXN68Ei0f"
      },
      "source": [
        "Y_pred_test = sn.predict(X_scaled_test) #prediction of \n",
        "column_value = ['class']\n",
        "Y_pred_test1 = pd.DataFrame(data = Y_pred_test,columns = column_value) #conversion of numpy data to pandas dataframe\n",
        "Y_pred_test2 = Y_pred_test1.apply(pd.cut, bins=2, labels=[0,1]) #binarisation of test data"
      ],
      "execution_count": null,
      "outputs": []
    },
    {
      "cell_type": "code",
      "metadata": {
        "id": "EdU75309FLVe"
      },
      "source": [
        "accuracy_test  = accuracy_score(Y_pred_test2,Y_test) # accuracy of test data"
      ],
      "execution_count": null,
      "outputs": []
    },
    {
      "cell_type": "code",
      "metadata": {
        "colab": {
          "base_uri": "https://localhost:8080/"
        },
        "id": "WKpwIYL5IDXg",
        "outputId": "3d2a8a86-0a3f-458b-a0f2-4b7b45937892"
      },
      "source": [
        "accuracy_test"
      ],
      "execution_count": null,
      "outputs": [
        {
          "output_type": "execute_result",
          "data": {
            "text/plain": [
              "0.951048951048951"
            ]
          },
          "metadata": {
            "tags": []
          },
          "execution_count": 123
        }
      ]
    }
  ]
}