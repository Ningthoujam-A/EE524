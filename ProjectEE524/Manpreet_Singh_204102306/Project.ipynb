{
 "cells": [
  {
   "cell_type": "markdown",
   "metadata": {},
   "source": [
    "#                                    PIMA INDIAN DIABETS"
   ]
  },
  {
   "cell_type": "markdown",
   "metadata": {},
   "source": [
    "#### Introduction. Project is to find accuracy of Pima Indian Diabets sample dataset. The data set contains columns like Pregnancy, Glucose, Blood Pressure, Skin Thickness, Insulin, BM, Diabetes Pedigree Function, Age, Class."
   ]
  },
  {
   "cell_type": "markdown",
   "metadata": {},
   "source": [
    "#### Algorithm Used: Logistic Regression, Naive Bayes and Decision Tree"
   ]
  },
  {
   "cell_type": "markdown",
   "metadata": {},
   "source": [
    "# 1. Logistic Regressionor for Pima Indian Diabets sample dataset"
   ]
  },
  {
   "cell_type": "markdown",
   "metadata": {},
   "source": [
    "#### Logistic regression is one of the most popular Machine Learning algorithms, which comes under the Supervised Learning technique. It is used for predicting the categorical dependent variable using a given set of independent variables. Logistic regression predicts the output of a categorical dependent variable."
   ]
  },
  {
   "cell_type": "markdown",
   "metadata": {},
   "source": [
    "#### The curve from the logistic function indicates the likelihood of something such as whether the cells are cancerous or not, a mouse is obese or not based on its weight, etc. Logistic Regression is a significant machine learning algorithm because it has the ability to provide probabilities and classify new data using continuous and discrete datasets."
   ]
  },
  {
   "cell_type": "markdown",
   "metadata": {},
   "source": [
    "## Load Files"
   ]
  },
  {
   "cell_type": "code",
   "execution_count": 1,
   "metadata": {},
   "outputs": [],
   "source": [
    "import matplotlib.pyplot as plt\n",
    "import numpy as np\n",
    "import pandas as pd\n",
    "import seaborn as sns\n",
    "from csv import reader\n",
    "def load_csv(filename):\n",
    "    dataset=list()\n",
    "    open_file=open(filename)\n",
    "    read_file=reader(open_file)\n",
    "    for row in read_file:\n",
    "        if not row:\n",
    "            continue\n",
    "        dataset.append(row)\n",
    "    return dataset"
   ]
  },
  {
   "cell_type": "markdown",
   "metadata": {},
   "source": [
    "## Converting String column values to float values"
   ]
  },
  {
   "cell_type": "code",
   "execution_count": 2,
   "metadata": {},
   "outputs": [],
   "source": [
    "def convert_str_to_float(dataset,column):\n",
    "    for row in dataset:\n",
    "        row[column]=float(row[column])"
   ]
  },
  {
   "cell_type": "markdown",
   "metadata": {},
   "source": [
    "## Using Statistics finding min and max values for each attribute"
   ]
  },
  {
   "cell_type": "code",
   "execution_count": 3,
   "metadata": {},
   "outputs": [],
   "source": [
    "def minmax(dataset):\n",
    "    minmax=list()\n",
    "    for i in range(len(dataset[0])):\n",
    "        column_value=[row[i] for row in dataset]\n",
    "        min_value=min(column_value)\n",
    "        max_value=max(column_value)\n",
    "        minmax.append([min_value,max_value])\n",
    "    return minmax"
   ]
  },
  {
   "cell_type": "markdown",
   "metadata": {},
   "source": [
    "## Using Statistics Normalizing the dataset"
   ]
  },
  {
   "cell_type": "code",
   "execution_count": 4,
   "metadata": {},
   "outputs": [],
   "source": [
    "def normalize_scale(dataset,minmax):\n",
    "    for row in dataset:\n",
    "        for i in range(len(row)):\n",
    "            row[i]=(row[i]-minmax[i][0])/(minmax[i][1]-minmax[i][0])"
   ]
  },
  {
   "cell_type": "markdown",
   "metadata": {},
   "source": [
    "## Using Statistics building Model Accuracy using KFold Cross validation technique"
   ]
  },
  {
   "cell_type": "code",
   "execution_count": 5,
   "metadata": {},
   "outputs": [],
   "source": [
    "from random import seed\n",
    "from random import randrange\n",
    "def KFold(dataset,folds):\n",
    "    fold_values=list()\n",
    "    dataset_copy=list(dataset)\n",
    "    fold_size=int(len(dataset)/folds)\n",
    "    for _ in range(folds):\n",
    "        fold=list()\n",
    "        while len(fold)<fold_size:\n",
    "            index=randrange(len(dataset_copy))\n",
    "            fold.append(dataset_copy.pop(index))\n",
    "        fold_values.append(fold)\n",
    "    return fold_values"
   ]
  },
  {
   "cell_type": "markdown",
   "metadata": {},
   "source": [
    "## Using Statistics Building Model Accuracy metrics prediction using classification accuracy technique"
   ]
  },
  {
   "cell_type": "code",
   "execution_count": 6,
   "metadata": {},
   "outputs": [],
   "source": [
    "def accuracy_metrics(actual,predicted):\n",
    "    correct=0\n",
    "    for i in range(len(actual)):\n",
    "        if actual[i]==predicted[i]:\n",
    "            correct+=1\n",
    "    return correct/float(len(actual))*100.0"
   ]
  },
  {
   "cell_type": "markdown",
   "metadata": {},
   "source": [
    "## Predicte model values"
   ]
  },
  {
   "cell_type": "code",
   "execution_count": 7,
   "metadata": {},
   "outputs": [],
   "source": [
    "from math import exp\n",
    "def predict(row,coeff):\n",
    "    yhat=coeff[0]\n",
    "    for i in range(len(row)-1):\n",
    "        yhat+=coeff[i+1]*row[i]\n",
    "    return 1.0/(1.0+exp(-yhat))"
   ]
  },
  {
   "cell_type": "markdown",
   "metadata": {},
   "source": [
    "## Coefficient_Sgd"
   ]
  },
  {
   "cell_type": "code",
   "execution_count": 8,
   "metadata": {},
   "outputs": [],
   "source": [
    "def coefficient_sgd(train,learning_rate,epoch):\n",
    "    coeff=[0.0 for row in range(len(dataset[0]))]\n",
    "    for _ in range(epoch):\n",
    "        for row in train:\n",
    "            yhat=predict(row,coeff)\n",
    "            error=row[-1]-yhat\n",
    "            coeff[0]=coeff[0]+learning_rate*error*yhat*(1.0-yhat)\n",
    "            for i in range(len(row)-1):\n",
    "                coeff[i+1]=coeff[i+1]+learning_rate*error*yhat*(1.0-yhat)*row[i]\n",
    "    return coeff"
   ]
  },
  {
   "cell_type": "markdown",
   "metadata": {},
   "source": [
    "## Evaluate Model accuracy"
   ]
  },
  {
   "cell_type": "code",
   "execution_count": 9,
   "metadata": {},
   "outputs": [],
   "source": [
    "def evaluate_model(dataset,algorithm,folds,*args):\n",
    "    folds=KFold(dataset,folds)\n",
    "    accuracy=list()\n",
    "    for fold in folds:\n",
    "        train_set=list(folds)\n",
    "        train_set.remove(fold)\n",
    "        train_set=sum(train_set,[])\n",
    "        test_set=list()\n",
    "        for row in fold:\n",
    "            row_copy=list(row)\n",
    "            test_set.append(row_copy)\n",
    "            row_copy[-1]=None\n",
    "        predict=algorithm(train_set,test_set,*args)\n",
    "        actual=[row[-1] for row in fold]\n",
    "        classification_accuracy=accuracy_metrics(actual,predict)\n",
    "        accuracy.append(classification_accuracy)\n",
    "    return accuracy"
   ]
  },
  {
   "cell_type": "markdown",
   "metadata": {},
   "source": [
    "## Logistic regression Algorithm"
   ]
  },
  {
   "cell_type": "code",
   "execution_count": 10,
   "metadata": {},
   "outputs": [],
   "source": [
    "def logisitic_regression_classifier(train,test,learning_rate,epoch):\n",
    "    predicted=list()\n",
    "    coeff=coefficient_sgd(train,learning_rate,epoch)\n",
    "    for row in test:\n",
    "        yhat=predict(row,coeff)\n",
    "        yhat=round(yhat)\n",
    "        predicted.append(yhat)\n",
    "    return predicted"
   ]
  },
  {
   "cell_type": "markdown",
   "metadata": {},
   "source": [
    "# Logistic regression classifier for Pima Indian Diabets sample dataset"
   ]
  },
  {
   "cell_type": "code",
   "execution_count": 11,
   "metadata": {},
   "outputs": [],
   "source": [
    "seed(1)\n",
    "filename='pima-indians-diabetes.csv'\n",
    "dataset=load_csv(filename)\n",
    "for column in range(len(dataset[0])):\n",
    "    convert_str_to_float(dataset,column)\n",
    "data_minmax=minmax(dataset)\n",
    "normalize_scale(dataset,data_minmax)\n",
    "l_rate=0.5\n",
    "epoch=1000\n",
    "folds=5\n",
    "accuracy=evaluate_model(dataset,logisitic_regression_classifier,folds,l_rate,epoch)"
   ]
  },
  {
   "cell_type": "markdown",
   "metadata": {},
   "source": [
    "## Accuracy"
   ]
  },
  {
   "cell_type": "code",
   "execution_count": 12,
   "metadata": {},
   "outputs": [
    {
     "name": "stdout",
     "output_type": "stream",
     "text": [
      "[75.81699346405229, 78.43137254901961, 82.35294117647058, 74.50980392156863, 75.16339869281046]\n"
     ]
    }
   ],
   "source": [
    "print(accuracy)"
   ]
  },
  {
   "cell_type": "markdown",
   "metadata": {},
   "source": [
    "## Mean_Accuracy"
   ]
  },
  {
   "cell_type": "code",
   "execution_count": 13,
   "metadata": {},
   "outputs": [
    {
     "name": "stdout",
     "output_type": "stream",
     "text": [
      "mean_accuracy: 77.25490196078432\n"
     ]
    }
   ],
   "source": [
    "print(\"mean_accuracy:\",(sum(accuracy)/float(len(accuracy))))"
   ]
  },
  {
   "cell_type": "code",
   "execution_count": 14,
   "metadata": {},
   "outputs": [
    {
     "data": {
      "text/plain": [
       "<seaborn.axisgrid.FacetGrid at 0x1fa3eefa1c8>"
      ]
     },
     "execution_count": 14,
     "metadata": {},
     "output_type": "execute_result"
    },
    {
     "data": {
      "image/png": "[encoded data removed]",
      "text/plain": [
       "<Figure size 329.625x288 with 1 Axes>"
      ]
     },
     "metadata": {},
     "output_type": "display_data"
    },
    {
     "data": {
      "image/png": "[encoded data removed]",
      "text/plain": [
       "<Figure size 329.625x288 with 1 Axes>"
      ]
     },
     "metadata": {},
     "output_type": "display_data"
    },
    {
     "data": {
      "image/png": "[encoded data removed]",
      "text/plain": [
       "<Figure size 329.625x288 with 1 Axes>"
      ]
     },
     "metadata": {},
     "output_type": "display_data"
    },
    {
     "data": {
      "image/png": "[encoded data removed]",
      "text/plain": [
       "<Figure size 329.625x288 with 1 Axes>"
      ]
     },
     "metadata": {},
     "output_type": "display_data"
    },
    {
     "data": {
      "image/png": "[encoded data removed]",
      "text/plain": [
       "<Figure size 329.625x288 with 1 Axes>"
      ]
     },
     "metadata": {},
     "output_type": "display_data"
    },
    {
     "data": {
      "image/png": "[encoded data removed]",
      "text/plain": [
       "<Figure size 329.625x288 with 1 Axes>"
      ]
     },
     "metadata": {},
     "output_type": "display_data"
    }
   ],
   "source": [
    "#Visualising Data set\n",
    "cols = ['Pregnancy','Glucose','BloodPressure','SkinThickness','Insulin','BMI','DiabetesPedigreeFunction','Age','Class']\n",
    "df = pd.read_csv('pima-indians-diabetes.csv',header=None,names=cols)\n",
    "\n",
    "sns.set_style('whitegrid');\n",
    "sns.FacetGrid(df, hue='Class', height = 4) \\\n",
    "   .map(plt.scatter, 'Pregnancy','Glucose') \\\n",
    "   .add_legend()\n",
    "sns.set_style('whitegrid');\n",
    "sns.FacetGrid(df, hue='Class', height = 4) \\\n",
    "   .map(plt.scatter, 'Pregnancy','SkinThickness') \\\n",
    "   .add_legend()\n",
    "sns.set_style('whitegrid');\n",
    "sns.FacetGrid(df, hue='Class', height = 4) \\\n",
    "   .map(plt.scatter, 'Pregnancy','BloodPressure') \\\n",
    "   .add_legend()\n",
    "sns.set_style('whitegrid');\n",
    "sns.FacetGrid(df, hue='Class', height = 4) \\\n",
    "   .map(plt.scatter, 'Glucose','SkinThickness') \\\n",
    "   .add_legend()\n",
    "sns.set_style('whitegrid');\n",
    "sns.FacetGrid(df, hue='Class', height = 4) \\\n",
    "   .map(plt.scatter, 'Glucose','BloodPressure') \\\n",
    "   .add_legend()\n",
    "sns.set_style('whitegrid');\n",
    "sns.FacetGrid(df, hue='Class', height = 4) \\\n",
    "   .map(plt.scatter, 'SkinThickness','BloodPressure') \\\n",
    "   .add_legend()"
   ]
  },
  {
   "cell_type": "markdown",
   "metadata": {},
   "source": [
    "# 2.Naive Bayes For Pima Indians Diabetes"
   ]
  },
  {
   "cell_type": "markdown",
   "metadata": {},
   "source": [
    "#### Naive Bayes is a Supervised Machine Learning algorithm based on the Bayes Theorem that is used to solve classification problems by following a probabilistic approach. It is based on the idea that the predictor variables in a Machine Learning model are independent of each other."
   ]
  },
  {
   "cell_type": "code",
   "execution_count": 15,
   "metadata": {},
   "outputs": [],
   "source": [
    "import csv\n",
    "import random\n",
    "import math"
   ]
  },
  {
   "cell_type": "markdown",
   "metadata": {},
   "source": [
    "## load data from file"
   ]
  },
  {
   "cell_type": "code",
   "execution_count": 16,
   "metadata": {},
   "outputs": [],
   "source": [
    "def loadCsv(filename):\n",
    "    lines = csv.reader(open(filename, \"r\"))\n",
    "    dataset = list(lines)\n",
    "    for i in range(len(dataset)):\n",
    "        dataset[i] = [float(x) for x in dataset[i]]\n",
    "    return dataset"
   ]
  },
  {
   "cell_type": "markdown",
   "metadata": {},
   "source": [
    "## Split data into train and test"
   ]
  },
  {
   "cell_type": "code",
   "execution_count": 17,
   "metadata": {},
   "outputs": [],
   "source": [
    "def splitDataset(dataset, splitRatio):\n",
    "    trainSize = int(len(dataset) * splitRatio)\n",
    "    trainSet = []\n",
    "    copy = list(dataset)\n",
    "    while len(trainSet) < trainSize:\n",
    "        index = random.randrange(len(copy))\n",
    "        trainSet.append(copy.pop(index))\n",
    "    return [trainSet, copy]"
   ]
  },
  {
   "cell_type": "markdown",
   "metadata": {},
   "source": [
    "## Group instances by class"
   ]
  },
  {
   "cell_type": "code",
   "execution_count": 18,
   "metadata": {},
   "outputs": [],
   "source": [
    "def separateByClass(dataset):\n",
    "    separated = {}\n",
    "    for i in range(len(dataset)):\n",
    "        vector = dataset[i]\n",
    "        if (vector[-1] not in separated):\n",
    "            separated[vector[-1]] = []\n",
    "        separated[vector[-1]].append(vector)\n",
    "    return separated"
   ]
  },
  {
   "cell_type": "markdown",
   "metadata": {},
   "source": [
    "## Compute mean of a vector"
   ]
  },
  {
   "cell_type": "code",
   "execution_count": 19,
   "metadata": {},
   "outputs": [],
   "source": [
    "def mean(numbers):\n",
    "    return sum(numbers)/float(len(numbers))"
   ]
  },
  {
   "cell_type": "markdown",
   "metadata": {},
   "source": [
    "## Computed std dev of a vector"
   ]
  },
  {
   "cell_type": "code",
   "execution_count": 20,
   "metadata": {},
   "outputs": [],
   "source": [
    "def stdev(numbers):\n",
    "    avg = mean(numbers)\n",
    "    variance = sum([pow(x-avg,2) for x in numbers])/float(len(numbers)-1)\n",
    "    return math.sqrt(variance)"
   ]
  },
  {
   "cell_type": "markdown",
   "metadata": {},
   "source": [
    "## Compute summaries where summary is mean and std dev of each column in a dataset"
   ]
  },
  {
   "cell_type": "code",
   "execution_count": 21,
   "metadata": {},
   "outputs": [],
   "source": [
    "def summarize(dataset):\n",
    "    summaries = [(mean(attribute), stdev(attribute)) for attribute in zip(*dataset)]\n",
    "\n",
    "    del summaries[-1]\n",
    "    return summaries"
   ]
  },
  {
   "cell_type": "markdown",
   "metadata": {},
   "source": [
    "## Compute summaries for each group where a group is part of a dataset corresponding to a class."
   ]
  },
  {
   "cell_type": "code",
   "execution_count": 22,
   "metadata": {},
   "outputs": [],
   "source": [
    "def summarizeByClass(dataset):\n",
    "    separated = separateByClass(dataset)\n",
    "    summaries = {}\n",
    "    for classValue, instances in separated.items():\n",
    "        summaries[classValue] = summarize(instances)\n",
    "    return summaries"
   ]
  },
  {
   "cell_type": "markdown",
   "metadata": {},
   "source": [
    "## Compute prob using a Gaussian distribution"
   ]
  },
  {
   "cell_type": "code",
   "execution_count": 23,
   "metadata": {},
   "outputs": [],
   "source": [
    "def calculateProbability(x, mean, stdev):\n",
    "    exponent = math.exp(-(math.pow(x-mean,2)/(2*math.pow(stdev,2))))\n",
    "    return (1 / (math.sqrt(2*math.pi) * stdev)) * exponent\n"
   ]
  },
  {
   "cell_type": "markdown",
   "metadata": {},
   "source": [
    "## Compute P(x|C)"
   ]
  },
  {
   "cell_type": "code",
   "execution_count": 24,
   "metadata": {},
   "outputs": [],
   "source": [
    "def calculateClassProbabilities(summaries, inputVector):\n",
    "    probabilities = {}\n",
    "    for classValue, classSummaries in summaries.items():\n",
    "        probabilities[classValue] = 1\n",
    "        for i in range(len(classSummaries)):\n",
    "            mean, stdev = classSummaries[i]\n",
    "            x = inputVector[i]\n",
    "            probabilities[classValue] *= calculateProbability(x, mean, stdev)\n",
    "    return probabilities"
   ]
  },
  {
   "cell_type": "markdown",
   "metadata": {},
   "source": [
    "## Predict class label for an inputVector"
   ]
  },
  {
   "cell_type": "code",
   "execution_count": 25,
   "metadata": {},
   "outputs": [],
   "source": [
    "def predict(summaries, inputVector):\n",
    "    probabilities = calculateClassProbabilities(summaries, inputVector)\n",
    "    bestLabel, bestProb = None, -1\n",
    "    for classValue, probability in probabilities.items():\n",
    "        if bestLabel is None or probability > bestProb:\n",
    "            bestProb = probability\n",
    "            bestLabel = classValue\n",
    "    return bestLabel"
   ]
  },
  {
   "cell_type": "markdown",
   "metadata": {},
   "source": [
    "## Predict class label for a test dataset"
   ]
  },
  {
   "cell_type": "code",
   "execution_count": 26,
   "metadata": {},
   "outputs": [],
   "source": [
    "def getPredictions(summaries, testSet):\n",
    "    predictions = []\n",
    "    for i in range(len(testSet)):\n",
    "        result = predict(summaries, testSet[i])\n",
    "        predictions.append(result)\n",
    "    return predictions"
   ]
  },
  {
   "cell_type": "markdown",
   "metadata": {},
   "source": [
    "## Compute accuracy of predictions for the test dataset"
   ]
  },
  {
   "cell_type": "code",
   "execution_count": 27,
   "metadata": {},
   "outputs": [],
   "source": [
    "def getAccuracy(testSet, predictions):\n",
    "    correct = 0\n",
    "    for i in range(len(testSet)):\n",
    "        if testSet[i][-1] == predictions[i]:\n",
    "            correct += 1\n",
    "    return (correct/float(len(testSet))) * 100.0"
   ]
  },
  {
   "cell_type": "code",
   "execution_count": 28,
   "metadata": {},
   "outputs": [
    {
     "name": "stdout",
     "output_type": "stream",
     "text": [
      "Split 768  rows into train= 153  and test= 615  rows\n",
      "Accuracy 73.33333333333333\n"
     ]
    }
   ],
   "source": [
    "def main():\n",
    "    filename = 'pima-indians-diabetes.csv'\n",
    "    splitRatio = 0.20\n",
    "    dataset = loadCsv(filename)\n",
    "    trainingSet, testSet = splitDataset(dataset, splitRatio)\n",
    "    print('Split',len(dataset),' rows into train=',len(trainingSet),' and test=', len(testSet),' rows')\n",
    "    # prepare model\n",
    "    summaries = summarizeByClass(trainingSet)\n",
    "    # test model\n",
    "    predictions = getPredictions(summaries, testSet)\n",
    "    accuracy = getAccuracy(testSet, predictions)\n",
    "    print('Accuracy',accuracy)\n",
    "\n",
    "main()"
   ]
  },
  {
   "cell_type": "markdown",
   "metadata": {},
   "source": [
    "# 3.Decision Tree"
   ]
  },
  {
   "cell_type": "markdown",
   "metadata": {},
   "source": [
    "#### Decision Tree is a Supervised learning technique that can be used for both classification and Regression problems, but mostly it is preferred for solving Classification problems"
   ]
  },
  {
   "cell_type": "code",
   "execution_count": 29,
   "metadata": {},
   "outputs": [],
   "source": [
    "import numpy as np\n",
    "import pandas as pd"
   ]
  },
  {
   "cell_type": "code",
   "execution_count": 30,
   "metadata": {},
   "outputs": [],
   "source": [
    "cols = ['Pregnancy','Glucose','BloodPressure','SkinThickness','Insulin','BMI','DiabetesPedigreeFunction','Age','Class']\n",
    "df = pd.read_csv('pima-indians-diabetes.csv',header=None,names=cols)\n",
    "df = df.sample(frac=1,random_state=100)\n",
    "\n",
    "train_size = int(df.shape[0] * 0.70)\n",
    "test_size = int(df.shape[0] * 0.30)\n",
    "\n",
    "[train_data,test_data] = [df[:train_size],df[train_size:]]\n",
    "\n",
    "sample_train = np.array(train_data)\n",
    "sample_test = np.array(test_data)"
   ]
  },
  {
   "cell_type": "code",
   "execution_count": 31,
   "metadata": {},
   "outputs": [
    {
     "data": {
      "text/html": [
       "<div>\n",
       "<style scoped>\n",
       "    .dataframe tbody tr th:only-of-type {\n",
       "        vertical-align: middle;\n",
       "    }\n",
       "\n",
       "    .dataframe tbody tr th {\n",
       "        vertical-align: top;\n",
       "    }\n",
       "\n",
       "    .dataframe thead th {\n",
       "        text-align: right;\n",
       "    }\n",
       "</style>\n",
       "<table border=\"1\" class=\"dataframe\">\n",
       "  <thead>\n",
       "    <tr style=\"text-align: right;\">\n",
       "      <th></th>\n",
       "      <th>Pregnancy</th>\n",
       "      <th>Glucose</th>\n",
       "      <th>BloodPressure</th>\n",
       "      <th>SkinThickness</th>\n",
       "      <th>Insulin</th>\n",
       "      <th>BMI</th>\n",
       "      <th>DiabetesPedigreeFunction</th>\n",
       "      <th>Age</th>\n",
       "      <th>Class</th>\n",
       "    </tr>\n",
       "  </thead>\n",
       "  <tbody>\n",
       "    <tr>\n",
       "      <th>173</th>\n",
       "      <td>1</td>\n",
       "      <td>79</td>\n",
       "      <td>60</td>\n",
       "      <td>42</td>\n",
       "      <td>48</td>\n",
       "      <td>43.5</td>\n",
       "      <td>0.678</td>\n",
       "      <td>23</td>\n",
       "      <td>0</td>\n",
       "    </tr>\n",
       "    <tr>\n",
       "      <th>253</th>\n",
       "      <td>0</td>\n",
       "      <td>86</td>\n",
       "      <td>68</td>\n",
       "      <td>32</td>\n",
       "      <td>0</td>\n",
       "      <td>35.8</td>\n",
       "      <td>0.238</td>\n",
       "      <td>25</td>\n",
       "      <td>0</td>\n",
       "    </tr>\n",
       "    <tr>\n",
       "      <th>207</th>\n",
       "      <td>5</td>\n",
       "      <td>162</td>\n",
       "      <td>104</td>\n",
       "      <td>0</td>\n",
       "      <td>0</td>\n",
       "      <td>37.7</td>\n",
       "      <td>0.151</td>\n",
       "      <td>52</td>\n",
       "      <td>1</td>\n",
       "    </tr>\n",
       "    <tr>\n",
       "      <th>737</th>\n",
       "      <td>8</td>\n",
       "      <td>65</td>\n",
       "      <td>72</td>\n",
       "      <td>23</td>\n",
       "      <td>0</td>\n",
       "      <td>32.0</td>\n",
       "      <td>0.600</td>\n",
       "      <td>42</td>\n",
       "      <td>0</td>\n",
       "    </tr>\n",
       "    <tr>\n",
       "      <th>191</th>\n",
       "      <td>9</td>\n",
       "      <td>123</td>\n",
       "      <td>70</td>\n",
       "      <td>44</td>\n",
       "      <td>94</td>\n",
       "      <td>33.1</td>\n",
       "      <td>0.374</td>\n",
       "      <td>40</td>\n",
       "      <td>0</td>\n",
       "    </tr>\n",
       "    <tr>\n",
       "      <th>...</th>\n",
       "      <td>...</td>\n",
       "      <td>...</td>\n",
       "      <td>...</td>\n",
       "      <td>...</td>\n",
       "      <td>...</td>\n",
       "      <td>...</td>\n",
       "      <td>...</td>\n",
       "      <td>...</td>\n",
       "      <td>...</td>\n",
       "    </tr>\n",
       "    <tr>\n",
       "      <th>578</th>\n",
       "      <td>10</td>\n",
       "      <td>133</td>\n",
       "      <td>68</td>\n",
       "      <td>0</td>\n",
       "      <td>0</td>\n",
       "      <td>27.0</td>\n",
       "      <td>0.245</td>\n",
       "      <td>36</td>\n",
       "      <td>0</td>\n",
       "    </tr>\n",
       "    <tr>\n",
       "      <th>53</th>\n",
       "      <td>8</td>\n",
       "      <td>176</td>\n",
       "      <td>90</td>\n",
       "      <td>34</td>\n",
       "      <td>300</td>\n",
       "      <td>33.7</td>\n",
       "      <td>0.467</td>\n",
       "      <td>58</td>\n",
       "      <td>1</td>\n",
       "    </tr>\n",
       "    <tr>\n",
       "      <th>350</th>\n",
       "      <td>4</td>\n",
       "      <td>92</td>\n",
       "      <td>80</td>\n",
       "      <td>0</td>\n",
       "      <td>0</td>\n",
       "      <td>42.2</td>\n",
       "      <td>0.237</td>\n",
       "      <td>29</td>\n",
       "      <td>0</td>\n",
       "    </tr>\n",
       "    <tr>\n",
       "      <th>79</th>\n",
       "      <td>2</td>\n",
       "      <td>112</td>\n",
       "      <td>66</td>\n",
       "      <td>22</td>\n",
       "      <td>0</td>\n",
       "      <td>25.0</td>\n",
       "      <td>0.307</td>\n",
       "      <td>24</td>\n",
       "      <td>0</td>\n",
       "    </tr>\n",
       "    <tr>\n",
       "      <th>520</th>\n",
       "      <td>2</td>\n",
       "      <td>68</td>\n",
       "      <td>70</td>\n",
       "      <td>32</td>\n",
       "      <td>66</td>\n",
       "      <td>25.0</td>\n",
       "      <td>0.187</td>\n",
       "      <td>25</td>\n",
       "      <td>0</td>\n",
       "    </tr>\n",
       "  </tbody>\n",
       "</table>\n",
       "<p>768 rows × 9 columns</p>\n",
       "</div>"
      ],
      "text/plain": [
       "     Pregnancy  Glucose  BloodPressure  SkinThickness  Insulin   BMI  \\\n",
       "173          1       79             60             42       48  43.5   \n",
       "253          0       86             68             32        0  35.8   \n",
       "207          5      162            104              0        0  37.7   \n",
       "737          8       65             72             23        0  32.0   \n",
       "191          9      123             70             44       94  33.1   \n",
       "..         ...      ...            ...            ...      ...   ...   \n",
       "578         10      133             68              0        0  27.0   \n",
       "53           8      176             90             34      300  33.7   \n",
       "350          4       92             80              0        0  42.2   \n",
       "79           2      112             66             22        0  25.0   \n",
       "520          2       68             70             32       66  25.0   \n",
       "\n",
       "     DiabetesPedigreeFunction  Age  Class  \n",
       "173                     0.678   23      0  \n",
       "253                     0.238   25      0  \n",
       "207                     0.151   52      1  \n",
       "737                     0.600   42      0  \n",
       "191                     0.374   40      0  \n",
       "..                        ...  ...    ...  \n",
       "578                     0.245   36      0  \n",
       "53                      0.467   58      1  \n",
       "350                     0.237   29      0  \n",
       "79                      0.307   24      0  \n",
       "520                     0.187   25      0  \n",
       "\n",
       "[768 rows x 9 columns]"
      ]
     },
     "execution_count": 31,
     "metadata": {},
     "output_type": "execute_result"
    }
   ],
   "source": [
    "df"
   ]
  },
  {
   "cell_type": "code",
   "execution_count": 32,
   "metadata": {},
   "outputs": [],
   "source": [
    "class Leaf:\n",
    "    def __init__(self,prediction):\n",
    "        self.prediction = prediction"
   ]
  },
  {
   "cell_type": "code",
   "execution_count": 33,
   "metadata": {},
   "outputs": [],
   "source": [
    "class DecisionNode:\n",
    "    def __init__(self,question,true_branch,false_branch):\n",
    "        self.question = question\n",
    "        self.true_branch = true_branch\n",
    "        self.false_branch = false_branch"
   ]
  },
  {
   "cell_type": "code",
   "execution_count": 34,
   "metadata": {},
   "outputs": [],
   "source": [
    "class Question:\n",
    "    def __init__(self,col,val):\n",
    "        self.col = col\n",
    "        self.val = val\n",
    "    def check(self,row):\n",
    "        row_val = row[self.col]\n",
    "        return row_val >= self.val\n",
    "    def show(self):\n",
    "        print('Is ',cols[self.col], ' >= ', self.val)"
   ]
  },
  {
   "cell_type": "code",
   "execution_count": 35,
   "metadata": {},
   "outputs": [],
   "source": [
    "def class_counts(data):\n",
    "    counts = {}\n",
    "    if(data.ndim == 1):\n",
    "        uniq_Lbs, uniq_cts = np.unique(data[-1], return_counts=True)\n",
    "    else:\n",
    "        uniq_Lbs, uniq_cts = np.unique(data[:,-1], return_counts=True)\n",
    "    return uniq_Lbs,uniq_cts"
   ]
  },
  {
   "cell_type": "code",
   "execution_count": 36,
   "metadata": {},
   "outputs": [],
   "source": [
    "def class_err(data):\n",
    "    labels,counts = class_counts(data)\n",
    "    if(len(labels) == 1):\n",
    "        return 0\n",
    "    return np.divide(np.min(counts),np.sum(counts))"
   ]
  },
  {
   "cell_type": "code",
   "execution_count": 37,
   "metadata": {},
   "outputs": [],
   "source": [
    "def partition(data,question):\n",
    "    true_rows = data[data[:,question.col] >= question.val]\n",
    "    false_rows = data[data[:,question.col] < question.val]\n",
    "    return true_rows,false_rows"
   ]
  },
  {
   "cell_type": "code",
   "execution_count": 38,
   "metadata": {},
   "outputs": [],
   "source": [
    "def find_best_split(data):\n",
    "    leastErr = 1\n",
    "    bestQuestion = None\n",
    "    n = data.shape[1] - 1\n",
    "    m = data.shape[0]\n",
    "    for col in range(n):\n",
    "        d = np.sort(data[:,col],axis = 0)\n",
    "        if(d.shape[0] == 1):\n",
    "            values = d\n",
    "        else:\n",
    "            first_vals = d[0:len(d)-1]\n",
    "            second_vals = d[1:len(d)]\n",
    "            values = np.divide(np.add(first_vals,second_vals),2)\n",
    "        for val in values:\n",
    "            question = Question(col,val)\n",
    "\n",
    "            true_rows,false_rows = partition(data,question)\n",
    "            \n",
    "            if(true_rows.shape[0] == 0 or false_rows.shape[0] == 0):\n",
    "                continue\n",
    "\n",
    "            true_err = class_err(true_rows)\n",
    "            false_err = class_err(false_rows)\n",
    "            err = true_err + false_err\n",
    "\n",
    "            if(err < leastErr):\n",
    "                leastErr = err\n",
    "                bestQuestion = question\n",
    "    return bestQuestion,leastErr"
   ]
  },
  {
   "cell_type": "code",
   "execution_count": 39,
   "metadata": {},
   "outputs": [],
   "source": [
    "def buildTree(data):\n",
    "    labels,counts = class_counts(data)\n",
    "    p = labels[np.argmax(counts)]\n",
    "    question,err = find_best_split(data)\n",
    "    if err == 0 or question is None:\n",
    "        return Leaf(p)\n",
    "    true_rows,false_rows = partition(data,question)\n",
    "    true_branch = buildTree(true_rows)\n",
    "    false_branch = buildTree(false_rows)\n",
    "\n",
    "    return DecisionNode(question,true_branch,false_branch)"
   ]
  },
  {
   "cell_type": "code",
   "execution_count": 40,
   "metadata": {},
   "outputs": [],
   "source": [
    "def printTree(node,spacing=''):\n",
    "    if(isinstance(node,Leaf)):\n",
    "        print(spacing + 'Predict',node.prediction)\n",
    "        return\n",
    "    node.question.show()\n",
    "    print (spacing + '--> True:')\n",
    "    printTree(node.true_branch, spacing + ' ')\n",
    "    print (spacing + '--> False:')\n",
    "    printTree(node.false_branch, spacing + ' ')"
   ]
  },
  {
   "cell_type": "code",
   "execution_count": 41,
   "metadata": {},
   "outputs": [],
   "source": [
    "def classify(data, node):\n",
    "    if isinstance(node, Leaf):\n",
    "        return node.prediction\n",
    "    if node.question.check(data):\n",
    "        return classify(data, node.true_branch)\n",
    "    else:\n",
    "        return classify(data, node.false_branch)"
   ]
  },
  {
   "cell_type": "code",
   "execution_count": null,
   "metadata": {},
   "outputs": [],
   "source": [
    "my_tree = buildTree(sample_train)\n",
    "count = 0\n",
    "\n",
    "print('actual',' <---> ','predicted')\n",
    "for row in sample_test:\n",
    "    prediction = classify(row, my_tree)\n",
    "    if(row[-1] == prediction):\n",
    "        count = count + 1\n",
    "        print(row[-1],' <---> ', prediction)"
   ]
  },
  {
   "cell_type": "code",
   "execution_count": null,
   "metadata": {},
   "outputs": [],
   "source": [
    "#Printing accuracy \n",
    "\n",
    "print('accuracy: ',count/sample_test.shape[0] * 100.0)"
   ]
  },
  {
   "cell_type": "code",
   "execution_count": null,
   "metadata": {},
   "outputs": [],
   "source": []
  },
  {
   "cell_type": "code",
   "execution_count": null,
   "metadata": {},
   "outputs": [],
   "source": []
  },
  {
   "cell_type": "code",
   "execution_count": null,
   "metadata": {},
   "outputs": [],
   "source": []
  }
 ],
 "metadata": {
  "kernelspec": {
   "display_name": "Python 3",
   "language": "python",
   "name": "python3"
  },
  "language_info": {
   "codemirror_mode": {
    "name": "ipython",
    "version": 3
   },
   "file_extension": ".py",
   "mimetype": "text/x-python",
   "name": "python",
   "nbconvert_exporter": "python",
   "pygments_lexer": "ipython3",
   "version": "3.7.6"
  }
 },
 "nbformat": 4,
 "nbformat_minor": 4
}
