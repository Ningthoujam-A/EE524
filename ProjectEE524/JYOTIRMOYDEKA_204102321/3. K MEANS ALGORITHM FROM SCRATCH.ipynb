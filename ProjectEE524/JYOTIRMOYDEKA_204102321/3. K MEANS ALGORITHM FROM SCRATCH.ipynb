{
 "cells": [
  {
   "cell_type": "markdown",
   "metadata": {},
   "source": [
    "# # K MEANS CLUSTERING ALGORITHM"
   ]
  },
  {
   "cell_type": "code",
   "execution_count": 85,
   "metadata": {},
   "outputs": [
    {
     "data": {
      "text/html": [
       "<div>\n",
       "<style scoped>\n",
       "    .dataframe tbody tr th:only-of-type {\n",
       "        vertical-align: middle;\n",
       "    }\n",
       "\n",
       "    .dataframe tbody tr th {\n",
       "        vertical-align: top;\n",
       "    }\n",
       "\n",
       "    .dataframe thead th {\n",
       "        text-align: right;\n",
       "    }\n",
       "</style>\n",
       "<table border=\"1\" class=\"dataframe\">\n",
       "  <thead>\n",
       "    <tr style=\"text-align: right;\">\n",
       "      <th></th>\n",
       "      <th>COUNTING TRUST:ctrust</th>\n",
       "      <th>COUNTING UNTRUST:cuntrust</th>\n",
       "      <th>LAST TIME : last</th>\n",
       "      <th>TRANSACTION CONTEXT:context</th>\n",
       "    </tr>\n",
       "  </thead>\n",
       "  <tbody>\n",
       "    <tr>\n",
       "      <th>count</th>\n",
       "      <td>322.000000</td>\n",
       "      <td>322.000000</td>\n",
       "      <td>322.000000</td>\n",
       "      <td>322.000000</td>\n",
       "    </tr>\n",
       "    <tr>\n",
       "      <th>mean</th>\n",
       "      <td>2.195652</td>\n",
       "      <td>1.527950</td>\n",
       "      <td>2.366460</td>\n",
       "      <td>257.453416</td>\n",
       "    </tr>\n",
       "    <tr>\n",
       "      <th>std</th>\n",
       "      <td>1.273592</td>\n",
       "      <td>1.105422</td>\n",
       "      <td>1.347384</td>\n",
       "      <td>128.095464</td>\n",
       "    </tr>\n",
       "    <tr>\n",
       "      <th>min</th>\n",
       "      <td>1.000000</td>\n",
       "      <td>1.000000</td>\n",
       "      <td>1.000000</td>\n",
       "      <td>100.000000</td>\n",
       "    </tr>\n",
       "    <tr>\n",
       "      <th>25%</th>\n",
       "      <td>1.000000</td>\n",
       "      <td>1.000000</td>\n",
       "      <td>1.000000</td>\n",
       "      <td>100.000000</td>\n",
       "    </tr>\n",
       "    <tr>\n",
       "      <th>50%</th>\n",
       "      <td>2.000000</td>\n",
       "      <td>1.000000</td>\n",
       "      <td>2.000000</td>\n",
       "      <td>200.000000</td>\n",
       "    </tr>\n",
       "    <tr>\n",
       "      <th>75%</th>\n",
       "      <td>4.000000</td>\n",
       "      <td>1.000000</td>\n",
       "      <td>4.000000</td>\n",
       "      <td>400.000000</td>\n",
       "    </tr>\n",
       "    <tr>\n",
       "      <th>max</th>\n",
       "      <td>4.000000</td>\n",
       "      <td>5.000000</td>\n",
       "      <td>4.000000</td>\n",
       "      <td>400.000000</td>\n",
       "    </tr>\n",
       "  </tbody>\n",
       "</table>\n",
       "</div>"
      ],
      "text/plain": [
       "       COUNTING TRUST:ctrust  COUNTING UNTRUST:cuntrust  LAST TIME : last  \\\n",
       "count             322.000000                 322.000000        322.000000   \n",
       "mean                2.195652                   1.527950          2.366460   \n",
       "std                 1.273592                   1.105422          1.347384   \n",
       "min                 1.000000                   1.000000          1.000000   \n",
       "25%                 1.000000                   1.000000          1.000000   \n",
       "50%                 2.000000                   1.000000          2.000000   \n",
       "75%                 4.000000                   1.000000          4.000000   \n",
       "max                 4.000000                   5.000000          4.000000   \n",
       "\n",
       "       TRANSACTION CONTEXT:context  \n",
       "count                   322.000000  \n",
       "mean                    257.453416  \n",
       "std                     128.095464  \n",
       "min                     100.000000  \n",
       "25%                     100.000000  \n",
       "50%                     200.000000  \n",
       "75%                     400.000000  \n",
       "max                     400.000000  "
      ]
     },
     "execution_count": 85,
     "metadata": {},
     "output_type": "execute_result"
    }
   ],
   "source": [
    "import pandas as pd    ## import libraries \n",
    "import numpy as np\n",
    "import matplotlib.pyplot as plt\n",
    "\n",
    "df =pd.read_csv(\"DishonestInternetUsers.csv\")   ## read dataset\n",
    "X = df.iloc[:,0:4].values\n",
    "y = df.iloc[:,-1].values\n",
    "df.describe()"
   ]
  },
  {
   "cell_type": "code",
   "execution_count": 87,
   "metadata": {},
   "outputs": [
    {
     "name": "stdout",
     "output_type": "stream",
     "text": [
      "322\n",
      "4\n"
     ]
    }
   ],
   "source": [
    "m=X.shape[0]  ## data visualization\n",
    "n=X.shape[1]\n",
    "print(m)\n",
    "print(n)"
   ]
  },
  {
   "cell_type": "code",
   "execution_count": 88,
   "metadata": {},
   "outputs": [],
   "source": [
    "K=5 # number of clusters K"
   ]
  },
  {
   "cell_type": "code",
   "execution_count": 89,
   "metadata": {},
   "outputs": [],
   "source": [
    "Centroids=np.array([]).reshape(n,0)  ## Initialize the centroids randomly from the data points"
   ]
  },
  {
   "cell_type": "code",
   "execution_count": 90,
   "metadata": {},
   "outputs": [],
   "source": [
    "import random as rd\n",
    "for i in range(K):\n",
    "    rand=rd.randint(0,m-1)\n",
    "    Centroids=np.c_[Centroids,X[rand]]"
   ]
  },
  {
   "cell_type": "code",
   "execution_count": 91,
   "metadata": {},
   "outputs": [],
   "source": [
    "Output={} ## initialize the output dictionary.The output of our algorithm should be a dictionary with cluster as Keys and the data points which belong to that cluster as values"
   ]
  },
  {
   "cell_type": "code",
   "execution_count": 92,
   "metadata": {},
   "outputs": [],
   "source": [
    "EuclidianDistance=np.array([]).reshape(m,0)  ## euclidian distance from each point to all the centroids\n",
    "for k in range(K):                 ## regroup the data points based on the cluster index C\n",
    "    tempDist=np.sum((X-Centroids[:,k])**2,axis=1)\n",
    "    EuclidianDistance=np.c_[EuclidianDistance,tempDist]\n",
    "C=np.argmin(EuclidianDistance,axis=1)+1"
   ]
  },
  {
   "cell_type": "code",
   "execution_count": 93,
   "metadata": {},
   "outputs": [],
   "source": [
    "Y={}    ## Y is a temporary dictionary to store the solution for a particular iteration\n",
    "for k in range(K):\n",
    "    Y[k+1]=np.array([]).reshape(4,0)\n",
    "for i in range(m):\n",
    "    Y[C[i]]=np.c_[Y[C[i]],X[i]]\n",
    "     \n",
    "for k in range(K):\n",
    "    Y[k+1]=Y[k+1].T\n",
    "    \n",
    "for k in range(K):\n",
    "     Centroids[:,k]=np.mean(Y[k+1],axis=0)  ## Compute the mean of separated clusters and assign it as new centroids"
   ]
  },
  {
   "cell_type": "code",
   "execution_count": 94,
   "metadata": {},
   "outputs": [],
   "source": [
    "n_iter=1000 ## number of iterations\n",
    "\n",
    "## loop run for convergance\n",
    "for i in range(n_iter):\n",
    "    \n",
    "     \n",
    "    EuclidianDistance=np.array([]).reshape(m,0)\n",
    "    for k in range(K):\n",
    "        tempDist=np.sum((X-Centroids[:,k])**2,axis=1)\n",
    "        EuclidianDistance=np.c_[EuclidianDistance,tempDist]\n",
    "    C=np.argmin(EuclidianDistance,axis=1)+1\n",
    "     \n",
    "    Y={}\n",
    "    for k in range(K):\n",
    "        Y[k+1]=np.array([]).reshape(4,0)\n",
    "    for i in range(m):\n",
    "        Y[C[i]]=np.c_[Y[C[i]],X[i]]\n",
    "     \n",
    "    for k in range(K):\n",
    "        Y[k+1]=Y[k+1].T\n",
    "    \n",
    "    for k in range(K):\n",
    "        Centroids[:,k]=np.mean(Y[k+1],axis=0)\n",
    "    Output=Y"
   ]
  },
  {
   "cell_type": "code",
   "execution_count": 95,
   "metadata": {},
   "outputs": [
    {
     "data": {
      "image/png": "[encoded data removed]",
      "text/plain": [
       "<Figure size 432x288 with 1 Axes>"
      ]
     },
     "metadata": {
      "needs_background": "light"
     },
     "output_type": "display_data"
    }
   ],
   "source": [
    "plt.scatter(X[:,0],X[:,3],c='black',label='unclustered data')  ## original data clusters\n",
    "\n",
    "plt.legend()\n",
    "plt.title('Plot of data points')  ## here the data points seem to be less than what should be depicted.It is because many points are exactly on the same spot\n",
    "plt.show()"
   ]
  },
  {
   "cell_type": "code",
   "execution_count": 84,
   "metadata": {},
   "outputs": [
    {
     "data": {
      "image/png": "[encoded data removed]",
      "text/plain": [
       "<Figure size 432x288 with 1 Axes>"
      ]
     },
     "metadata": {
      "needs_background": "light"
     },
     "output_type": "display_data"
    }
   ],
   "source": [
    "color=['red','blue','green','cyan','magenta']\n",
    "labels=['cluster1','cluster2','cluster3','cluster4','cluster5']\n",
    "for k in range(K):\n",
    "    plt.scatter(Output[k+1][:,0],Output[k+1][:,1],c=color[k],label=labels[k])\n",
    "plt.scatter(Centroids[0,:],Centroids[1,:],s=100,c='yellow',label='Centroids')\n",
    "plt.title('Plot of data points')\n",
    "plt.legend()\n",
    "plt.show() ## plot after clustering"
   ]
  },
  {
   "cell_type": "code",
   "execution_count": null,
   "metadata": {},
   "outputs": [],
   "source": []
  }
 ],
 "metadata": {
  "kernelspec": {
   "display_name": "Python 3",
   "language": "python",
   "name": "python3"
  },
  "language_info": {
   "codemirror_mode": {
    "name": "ipython",
    "version": 3
   },
   "file_extension": ".py",
   "mimetype": "text/x-python",
   "name": "python",
   "nbconvert_exporter": "python",
   "pygments_lexer": "ipython3",
   "version": "3.8.3"
  }
 },
 "nbformat": 4,
 "nbformat_minor": 4
}
