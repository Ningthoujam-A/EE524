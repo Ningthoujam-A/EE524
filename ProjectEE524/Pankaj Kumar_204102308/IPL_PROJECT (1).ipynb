{
 "cells": [
  {
   "cell_type": "markdown",
   "metadata": {
    "papermill": {
     "duration": 0.034567,
     "end_time": "2020-12-02T20:40:01.320021",
     "exception": false,
     "start_time": "2020-12-02T20:40:01.285454",
     "status": "completed"
    },
    "tags": []
   },
   "source": [
    "# IPL Data Analysis from visualisation \n",
    "\n",
    "My target for this notebook is to learn interactive data visualisation with plotly,matplotlib,cufflinks. I will try out various plots using plotly,matplotlib,cufflinks and finally try to put altogether in a dashboard. \n",
    "\n",
    "## Importing the libraries"
   ]
  },
  {
   "cell_type": "code",
   "execution_count": null,
   "metadata": {
    "_cell_guid": "b1076dfc-b9ad-4769-8c92-a6c4dae69d19",
    "_kg_hide-input": false,
    "_kg_hide-output": false,
    "_uuid": "8f2839f25d086af736a60e9eeb907d3b93b6e0e5",
    "execution": {
     "iopub.execute_input": "2020-12-02T20:40:01.395811Z",
     "iopub.status.busy": "2020-12-02T20:40:01.394817Z",
     "iopub.status.idle": "2020-12-02T20:40:05.058446Z",
     "shell.execute_reply": "2020-12-02T20:40:05.057249Z"
    },
    "papermill": {
     "duration": 3.705155,
     "end_time": "2020-12-02T20:40:05.058655",
     "exception": false,
     "start_time": "2020-12-02T20:40:01.353500",
     "status": "completed"
    },
    "tags": []
   },
   "outputs": [],
   "source": [
    "import numpy as np \n",
    "import pandas as pd \n",
    "from matplotlib import pyplot as plt\n",
    "import seaborn as sns\n",
    "import plotly.offline as pyo\n",
    "from plotly.offline import download_plotlyjs, init_notebook_mode, plot, iplot\n",
    "import plotly.graph_objs as go\n",
    "import random\n",
    "import cufflinks as cf\n",
    "cf.go_offline()\n",
    "cf.set_config_file(offline=False, world_readable=True)\n",
    "def random_colors(number_of_colors):\n",
    "    color = [\"#\"+''.join([random.choice('0123456789ABCDEF') for j in range(6)])\n",
    "                 for i in range(number_of_colors)]\n",
    "    return color\n"
   ]
  },
  {
   "cell_type": "markdown",
   "metadata": {
    "papermill": {
     "duration": 0.037067,
     "end_time": "2020-12-02T20:40:05.131459",
     "exception": false,
     "start_time": "2020-12-02T20:40:05.094392",
     "status": "completed"
    },
    "tags": []
   },
   "source": [
    "## Loading the datasets"
   ]
  },
  {
   "cell_type": "code",
   "execution_count": null,
   "metadata": {
    "execution": {
     "iopub.execute_input": "2020-12-02T20:40:05.208726Z",
     "iopub.status.busy": "2020-12-02T20:40:05.207904Z",
     "iopub.status.idle": "2020-12-02T20:40:05.954490Z",
     "shell.execute_reply": "2020-12-02T20:40:05.953761Z"
    },
    "papermill": {
     "duration": 0.788645,
     "end_time": "2020-12-02T20:40:05.954627",
     "exception": false,
     "start_time": "2020-12-02T20:40:05.165982",
     "status": "completed"
    },
    "tags": []
   },
   "outputs": [],
   "source": [
    "matches = pd.read_csv('IPL Matches 2008-2020.csv')\n",
    "balls = pd.read_csv('IPL Ball-by-Ball 2008-2020.csv')"
   ]
  },
  {
   "cell_type": "markdown",
   "metadata": {
    "papermill": {
     "duration": 0.035275,
     "end_time": "2020-12-02T20:40:06.024756",
     "exception": false,
     "start_time": "2020-12-02T20:40:05.989481",
     "status": "completed"
    },
    "tags": []
   },
   "source": [
    "### First look at the ball by ball data"
   ]
  },
  {
   "cell_type": "code",
   "execution_count": null,
   "metadata": {
    "_kg_hide-input": false,
    "execution": {
     "iopub.execute_input": "2020-12-02T20:40:06.120510Z",
     "iopub.status.busy": "2020-12-02T20:40:06.113588Z",
     "iopub.status.idle": "2020-12-02T20:40:06.136603Z",
     "shell.execute_reply": "2020-12-02T20:40:06.137194Z"
    },
    "papermill": {
     "duration": 0.077978,
     "end_time": "2020-12-02T20:40:06.137390",
     "exception": false,
     "start_time": "2020-12-02T20:40:06.059412",
     "status": "completed"
    },
    "tags": []
   },
   "outputs": [],
   "source": [
    "balls.head()"
   ]
  },
  {
   "cell_type": "markdown",
   "metadata": {
    "papermill": {
     "duration": 0.035129,
     "end_time": "2020-12-02T20:40:06.208501",
     "exception": false,
     "start_time": "2020-12-02T20:40:06.173372",
     "status": "completed"
    },
    "tags": []
   },
   "source": [
    "### First look at the matches data"
   ]
  },
  {
   "cell_type": "code",
   "execution_count": null,
   "metadata": {
    "_kg_hide-input": false,
    "execution": {
     "iopub.execute_input": "2020-12-02T20:40:06.311382Z",
     "iopub.status.busy": "2020-12-02T20:40:06.310221Z",
     "iopub.status.idle": "2020-12-02T20:40:06.315973Z",
     "shell.execute_reply": "2020-12-02T20:40:06.315378Z"
    },
    "papermill": {
     "duration": 0.067469,
     "end_time": "2020-12-02T20:40:06.316112",
     "exception": false,
     "start_time": "2020-12-02T20:40:06.248643",
     "status": "completed"
    },
    "tags": []
   },
   "outputs": [],
   "source": [
    "matches.head()"
   ]
  },
  {
   "cell_type": "code",
   "execution_count": null,
   "metadata": {},
   "outputs": [],
   "source": [
    "matches.columns"
   ]
  },
  {
   "cell_type": "code",
   "execution_count": null,
   "metadata": {},
   "outputs": [],
   "source": [
    "balls.columns"
   ]
  },
  {
   "cell_type": "code",
   "execution_count": null,
   "metadata": {},
   "outputs": [],
   "source": [
    "print(matches['winner'].unique())\n",
    "print(matches['city'].unique())"
   ]
  },
  {
   "cell_type": "code",
   "execution_count": null,
   "metadata": {},
   "outputs": [],
   "source": [
    "matches.team1.replace({'Rising Pune Supergiants' : 'Rising Pune Supergiant'},regex=True,inplace=True)\n",
    "matches.team2.replace({'Rising Pune Supergiants' : 'Rising Pune Supergiant'},regex=True,inplace=True)\n",
    "matches.winner.replace({'Rising Pune Supergiants' : 'Rising Pune Supergiant'},regex=True,inplace=True)\n",
    "matches.venue.replace({'Feroz Shah Kotla Ground':'Feroz Shah Kotla',\n",
    "                    'M Chinnaswamy Stadium':'M. Chinnaswamy Stadium',\n",
    "                    'MA Chidambaram Stadium, Chepauk':'M.A. Chidambaram Stadium',\n",
    "                     'M. A. Chidambaram Stadium':'M.A. Chidambaram Stadium',\n",
    "                     'Punjab Cricket Association IS Bindra Stadium, Mohali':'Punjab Cricket Association Stadium',\n",
    "                     'Punjab Cricket Association Stadium, Mohali':'Punjab Cricket Association Stadium',\n",
    "                     'IS Bindra Stadium':'Punjab Cricket Association Stadium',\n",
    "                    'Rajiv Gandhi International Stadium, Uppal':'Rajiv Gandhi International Stadium',\n",
    "                    'Rajiv Gandhi Intl. Cricket Stadium':'Rajiv Gandhi International Stadium'},regex=True,inplace=True)"
   ]
  },
  {
   "cell_type": "markdown",
   "metadata": {},
   "source": [
    "## Total number of matches each season "
   ]
  },
  {
   "cell_type": "code",
   "execution_count": null,
   "metadata": {},
   "outputs": [],
   "source": [
    "matches[\"season\"] = matches[\"date\"].apply(lambda x:x.split(\"-\")[0])"
   ]
  },
  {
   "cell_type": "code",
   "execution_count": null,
   "metadata": {},
   "outputs": [],
   "source": [
    "seasons_data = matches[\"season\"].value_counts()\n",
    "total_matches = matches.groupby('season')['id'].count()\n",
    "data = [go.Bar(\n",
    "    x = seasons_data.index,\n",
    "    y = seasons_data.values,\n",
    "    marker = dict(color = random_colors(len(seasons_data.index)),line=dict(color='#000000', width=1.5))\n",
    ")]\n",
    "\n",
    "layout = go.Layout(\n",
    "   {\n",
    "      \"title\":\"Total number of matches till 2020 (2008-2020)\",\n",
    "   }\n",
    ")\n",
    "\n",
    "fig = go.Figure(data=data,layout = layout)\n",
    "iplot(fig)"
   ]
  },
  {
   "cell_type": "markdown",
   "metadata": {},
   "source": [
    "## Number of Player of the match"
   ]
  },
  {
   "cell_type": "code",
   "execution_count": null,
   "metadata": {},
   "outputs": [],
   "source": [
    "matches['player_of_match'].value_counts()[0:10]"
   ]
  },
  {
   "cell_type": "code",
   "execution_count": null,
   "metadata": {},
   "outputs": [],
   "source": [
    "list(matches['player_of_match'].value_counts()[0:10].keys())"
   ]
  },
  {
   "cell_type": "code",
   "execution_count": null,
   "metadata": {},
   "outputs": [],
   "source": [
    "plt.figure(figsize=(15,10))\n",
    "plt.bar(list(matches['player_of_match'].value_counts()[0:10].keys()),list(matches['player_of_match'].value_counts()[0:10]))\n",
    "plt.show()"
   ]
  },
  {
   "cell_type": "code",
   "execution_count": null,
   "metadata": {},
   "outputs": [],
   "source": [
    "data = [go.Bar(\n",
    "    x = matches['player_of_match'].value_counts()[:20].index,\n",
    "    y = matches['player_of_match'].value_counts()[:20].values,\n",
    "    marker = dict(color = random_colors(20),line=dict(color='#000000', width=1.5))\n",
    ")]\n",
    "\n",
    "\n",
    "layout = go.Layout(title=\"Total number of Player of the match. \",\n",
    "                   xaxis=dict(title=\"Name of the top 20 Player of the match.\"),\n",
    "                   yaxis=dict(title=\"Number of Player of the match\"))\n",
    "\n",
    "# Create figure with all prepared data for plot\n",
    "fig = go.Figure(data=data, layout=layout)\n",
    "# Create a plot in your Python script directory with name \"bar-chart.html\"\n",
    "iplot(fig)"
   ]
  },
  {
   "cell_type": "markdown",
   "metadata": {},
   "source": [
    "## Total number of toss Win by Each Teams"
   ]
  },
  {
   "cell_type": "code",
   "execution_count": null,
   "metadata": {},
   "outputs": [],
   "source": [
    "matches['toss_winner'].value_counts().keys()"
   ]
  },
  {
   "cell_type": "code",
   "execution_count": null,
   "metadata": {},
   "outputs": [],
   "source": [
    "plt.figure(figsize=(22,12))\n",
    "plt.bar(list(matches['toss_winner'].value_counts()[0:10].keys()),list(matches['toss_winner'].value_counts()[0:10]))\n",
    "plt.show()"
   ]
  },
  {
   "cell_type": "markdown",
   "metadata": {},
   "source": [
    "## Total number of matches Win by Each Teams"
   ]
  },
  {
   "cell_type": "code",
   "execution_count": null,
   "metadata": {},
   "outputs": [],
   "source": [
    "matches['winner'].value_counts()"
   ]
  },
  {
   "cell_type": "code",
   "execution_count": null,
   "metadata": {},
   "outputs": [],
   "source": [
    "plt.figure(figsize=(32,18))\n",
    "plt.bar(list(matches['winner'].value_counts()[0:10].keys()),list(matches['winner'].value_counts()[0:10]))\n",
    "plt.show()"
   ]
  },
  {
   "cell_type": "code",
   "execution_count": null,
   "metadata": {},
   "outputs": [],
   "source": [
    "data = [go.Bar(\n",
    "    x = matches['winner'].value_counts().index,\n",
    "    y = matches['winner'].value_counts().values,\n",
    "    marker = dict(color = random_colors(len(matches['winner'].value_counts().index)),line=dict(color='#000000', width=1.5))\n",
    ")]\n",
    "\n",
    "layout = go.Layout(\n",
    "   {\n",
    "      \"title\":\"Total number of wins by each team till 2020\",\n",
    "   }\n",
    ")\n",
    "\n",
    "fig = go.Figure(data=data,layout = layout)\n",
    "iplot(fig)"
   ]
  },
  {
   "cell_type": "markdown",
   "metadata": {},
   "source": [
    "### pie plot Total number of matches Win by Each Teams"
   ]
  },
  {
   "cell_type": "code",
   "execution_count": null,
   "metadata": {},
   "outputs": [],
   "source": [
    "plt.figure(figsize=(13,13))\n",
    "plt.pie(list(matches['winner'].value_counts()),labels=list(matches['winner'].value_counts().keys()),autopct='%0.1f%%')\n",
    "plt.show()"
   ]
  },
  {
   "cell_type": "markdown",
   "metadata": {},
   "source": [
    "### Top Cities that have hosted IPL Matches"
   ]
  },
  {
   "cell_type": "code",
   "execution_count": null,
   "metadata": {},
   "outputs": [],
   "source": [
    "city_counts= matches.groupby('city').apply(lambda x:x['city'].count()).reset_index(name='Match Counts')\n",
    "top_cities_order=city_counts.sort_values(by='Match Counts',ascending=False)\n",
    "top_cities=top_cities_order[:10]\n",
    "\n",
    "trace = go.Pie(labels = top_cities.city.values, values =top_cities[\"Match Counts\"].values,\n",
    "               marker=dict(colors = random_colors(10), \n",
    "                           line=dict(color='#000000', width=5)\n",
    "                           ))\n",
    "data = [trace]\n",
    "layout = go.Layout(\n",
    "   {\n",
    "      \"title\":\"Top Cities that have hosted IPL Matches\",\n",
    "   }\n",
    ")\n",
    "\n",
    "fig = go.Figure(data=data,layout = layout)\n",
    "iplot(fig)"
   ]
  },
  {
   "cell_type": "markdown",
   "metadata": {},
   "source": [
    "## Total number of toss and match wins for every team till 2020"
   ]
  },
  {
   "cell_type": "code",
   "execution_count": null,
   "metadata": {},
   "outputs": [],
   "source": [
    "trace1 = go.Bar(x=matches[\"winner\"].value_counts().index, y=matches[\"winner\"].value_counts().values,name=\"match win\")\n",
    "trace2 = go.Bar(x=matches[\"toss_winner\"].value_counts().index, y=matches[\"toss_winner\"].value_counts().values,name=\"toss win\")\n",
    "\n",
    "# Fill out  data with our traces\n",
    "data = [trace1, trace2]\n",
    "# Create layout and specify title, legend and so on\n",
    "\n",
    "layout = go.Layout(title=\"Total number of wins for every team till 2020\",\n",
    "                   xaxis=dict(title=\"Teams\"),\n",
    "                   yaxis=dict(title=\"Number of Matches\"),\n",
    "                   legend=dict(x=1.0, y=0.5)\n",
    "                   ,barmode=\"group\")\n",
    "\n",
    "\n",
    "# Create figure with all prepared data for plot\n",
    "fig = go.Figure(data=data, layout=layout)\n",
    "# Create a plot in your Python script directory with name \"bar-chart.html\"\n",
    "iplot(fig)"
   ]
  },
  {
   "cell_type": "markdown",
   "metadata": {},
   "source": [
    "### Toss Win success ratio for every team"
   ]
  },
  {
   "cell_type": "code",
   "execution_count": null,
   "metadata": {},
   "outputs": [],
   "source": [
    "Total_matches_played = matches['team1'].value_counts() + matches['team2'].value_counts()\n",
    "\n",
    "toss_won = matches['toss_winner'].value_counts()\n",
    "toss_win_success_rate = (toss_won/Total_matches_played)*100\n",
    "toss_win_success_rate_sort = toss_win_success_rate.sort_values(ascending = False)\n",
    "toss_win_success_rate_sort\n",
    "\n",
    "data = [go.Bar(\n",
    "    x = toss_win_success_rate.sort_values(ascending=False).index,\n",
    "    y = toss_win_success_rate.sort_values(ascending=False).values,\n",
    "    marker = dict(color = random_colors(len(toss_win_success_rate.sort_values(ascending=False).index)),line=dict(color='#000000', width=1.5))\n",
    ")]\n",
    "\n",
    "layout = go.Layout(title=\"Toss Win success ratio.\",\n",
    "                   xaxis=dict(title=\"Teams\"),\n",
    "                   yaxis=dict(title=\"Number of Matches\"))\n",
    "\n",
    "# Create figure with all prepared data for plot\n",
    "fig = go.Figure(data=data, layout=layout)\n",
    "# Create a plot in your Python script directory with name \"bar-chart.html\"\n",
    "iplot(fig)"
   ]
  },
  {
   "cell_type": "code",
   "execution_count": null,
   "metadata": {},
   "outputs": [],
   "source": [
    "matches_won = matches.groupby('winner').count()\n",
    "total_matches = matches['team1'].value_counts() + matches['team2'].value_counts()\n",
    "\n",
    "matches_won['Total matches'] = total_matches\n",
    "win_df = matches_won[[\"Total matches\",\"result\"]]\n",
    "success_ratio = round((matches_won['id']/total_matches),4)*100\n",
    "success_ratio_sort = success_ratio.sort_values(ascending = False)\n",
    "\n",
    "data = [go.Bar(\n",
    "    x = success_ratio_sort.index,\n",
    "    y = success_ratio_sort.values,\n",
    "    marker = dict(color = random_colors(len(success_ratio_sort.index)),line=dict(color='#000000', width=1.5))\n",
    ")]\n",
    "\n",
    "layout = go.Layout(title=\"Success rate of Teams\",\n",
    "                   xaxis=dict(title=\"Teams\"),\n",
    "                   yaxis=dict(title=\"Success rate of wining\"))\n",
    "\n",
    "# Create figure with all prepared data for plot\n",
    "fig = go.Figure(data=data, layout=layout)\n",
    "# Create a plot in your Python script directory with name \"bar-chart.html\"\n",
    "iplot(fig)"
   ]
  },
  {
   "cell_type": "markdown",
   "metadata": {},
   "source": [
    "### Number of seasons won by any team"
   ]
  },
  {
   "cell_type": "code",
   "execution_count": null,
   "metadata": {
    "scrolled": true
   },
   "outputs": [],
   "source": [
    "each_season_winner = matches.groupby('season')['season','winner'].tail(1)\n",
    "each_season_winner_sort = each_season_winner.sort_values('season',ascending = True)\n",
    "\n",
    "data = [go.Bar(\n",
    "    x = each_season_winner_sort[\"winner\"].value_counts().index,\n",
    "    y = each_season_winner_sort[\"winner\"].value_counts().values,\n",
    "    marker = dict(color = random_colors(len(each_season_winner_sort[\"winner\"].value_counts().index)),line=dict(color='#000000', width=1.5))\n",
    ")]\n",
    "\n",
    "layout = go.Layout(title=\"Most Titles Wins\",\n",
    "                   xaxis=dict(title=\"Teams\"),\n",
    "                   yaxis=dict(title=\"Number of seasons won by any team.\"))\n",
    "\n",
    "# Create figure with all prepared data for plot\n",
    "fig = go.Figure(data=data, layout=layout)\n",
    "# Create a plot in your Python script directory with name \"bar-chart.html\"\n",
    "iplot(fig)"
   ]
  },
  {
   "cell_type": "markdown",
   "metadata": {},
   "source": [
    "## Top 10 Batsman in IPL- Seasons till 2020"
   ]
  },
  {
   "cell_type": "code",
   "execution_count": null,
   "metadata": {},
   "outputs": [],
   "source": [
    "batting_tot=balls.groupby('batsman').apply(lambda x:np.sum(x['batsman_runs'])).reset_index(name='Runs')\n",
    "batting_sorted=batting_tot.sort_values(by='Runs',ascending=False)\n",
    "top_batsmen=batting_sorted[:10] \n",
    "\n",
    "data = [go.Bar(\n",
    "    x = top_batsmen.batsman,\n",
    "    y = top_batsmen.Runs,\n",
    "    marker = dict(color = random_colors(10),line=dict(color='#000000', width=1.5))\n",
    ")]\n",
    "\n",
    "layout = go.Layout(title=\"Top 10 Batsmen in IPL- Seasons till 2020\",\n",
    "                   xaxis=dict(title=\"Top 10 Batsmen\"),\n",
    "                   yaxis=dict(title=\"Runs Scored\"))\n",
    "\n",
    "# Create figure with all prepared data for plot\n",
    "fig = go.Figure(data=data, layout=layout)\n",
    "# Create a plot in your Python script directory with name \"bar-chart.html\"\n",
    "iplot(fig)"
   ]
  },
  {
   "cell_type": "markdown",
   "metadata": {},
   "source": [
    "## Top 10 Bowler in IPL- Seasons till 2020"
   ]
  },
  {
   "cell_type": "code",
   "execution_count": null,
   "metadata": {},
   "outputs": [],
   "source": [
    "bowling_tot=balls.groupby('bowler').apply(lambda x:np.sum(x['is_wicket'])).reset_index(name='wicket')\n",
    "bowling_sorted=bowling_tot.sort_values(by='wicket',ascending=False)\n",
    "top_bowler=bowling_sorted[:10] \n",
    "\n",
    "data = [go.Bar(\n",
    "    x = top_bowler.bowler,\n",
    "    y = top_bowler.wicket,\n",
    "    marker = dict(color = random_colors(10),line=dict(color='#000000', width=1.5))\n",
    ")]\n",
    "\n",
    "layout = go.Layout(title=\"Top 10 Bowler in IPL- Seasons till 2020\",\n",
    "                   xaxis=dict(title=\"Top 10 Bowler\"),\n",
    "                   yaxis=dict(title=\"Wicket\"))\n",
    "\n",
    "# Create figure with all prepared data for plot\n",
    "fig = go.Figure(data=data, layout=layout)\n",
    "# Create a plot in your Python script directory with name \"bar-chart.html\"\n",
    "iplot(fig)"
   ]
  },
  {
   "cell_type": "markdown",
   "metadata": {},
   "source": [
    "## Merging the two datasets"
   ]
  },
  {
   "cell_type": "code",
   "execution_count": null,
   "metadata": {},
   "outputs": [],
   "source": [
    "data = pd.merge(left=matches, right=balls, on='id', how='right')\n",
    "data.head()"
   ]
  },
  {
   "cell_type": "code",
   "execution_count": null,
   "metadata": {},
   "outputs": [],
   "source": [
    "print(matches.shape)\n",
    "print(balls.shape)\n",
    "print(data.shape)"
   ]
  },
  {
   "cell_type": "code",
   "execution_count": null,
   "metadata": {},
   "outputs": [],
   "source": [
    "data.info()"
   ]
  },
  {
   "cell_type": "code",
   "execution_count": null,
   "metadata": {},
   "outputs": [],
   "source": [
    "data.describe()"
   ]
  },
  {
   "cell_type": "code",
   "execution_count": null,
   "metadata": {},
   "outputs": [],
   "source": [
    "data['season'].unique()"
   ]
  },
  {
   "cell_type": "markdown",
   "metadata": {
    "papermill": {
     "duration": 0.038644,
     "end_time": "2020-12-02T20:40:07.763625",
     "exception": false,
     "start_time": "2020-12-02T20:40:07.724981",
     "status": "completed"
    },
    "tags": []
   },
   "source": [
    "# Extracting year from the date"
   ]
  },
  {
   "cell_type": "code",
   "execution_count": null,
   "metadata": {
    "_kg_hide-input": false,
    "execution": {
     "iopub.execute_input": "2020-12-02T20:40:07.864566Z",
     "iopub.status.busy": "2020-12-02T20:40:07.853087Z",
     "iopub.status.idle": "2020-12-02T20:40:07.990849Z",
     "shell.execute_reply": "2020-12-02T20:40:07.990079Z"
    },
    "papermill": {
     "duration": 0.187612,
     "end_time": "2020-12-02T20:40:07.991006",
     "exception": false,
     "start_time": "2020-12-02T20:40:07.803394",
     "status": "completed"
    },
    "tags": []
   },
   "outputs": [],
   "source": [
    "data['date'] = pd.to_datetime(data['date'])\n",
    "data['year'] = pd.DatetimeIndex(data['date']).year"
   ]
  },
  {
   "cell_type": "code",
   "execution_count": null,
   "metadata": {
    "_kg_hide-input": false,
    "execution": {
     "iopub.execute_input": "2020-12-02T20:40:08.119221Z",
     "iopub.status.busy": "2020-12-02T20:40:08.118160Z",
     "iopub.status.idle": "2020-12-02T20:40:08.123994Z",
     "shell.execute_reply": "2020-12-02T20:40:08.123378Z"
    },
    "papermill": {
     "duration": 0.092255,
     "end_time": "2020-12-02T20:40:08.124148",
     "exception": false,
     "start_time": "2020-12-02T20:40:08.031893",
     "status": "completed"
    },
    "tags": []
   },
   "outputs": [],
   "source": [
    "data.head()"
   ]
  },
  {
   "cell_type": "code",
   "execution_count": null,
   "metadata": {},
   "outputs": [],
   "source": [
    "runs_by_years = data.groupby(by='year').sum()['total_runs']\n",
    "runs_by_years = pd.DataFrame(runs_by_years)\n",
    "runs_by_years.reset_index(inplace=True)\n",
    "runs_by_years"
   ]
  },
  {
   "cell_type": "markdown",
   "metadata": {},
   "source": [
    "## wicket taken over the year"
   ]
  },
  {
   "cell_type": "code",
   "execution_count": null,
   "metadata": {},
   "outputs": [],
   "source": [
    "wicket_by_years = data.groupby(by='year').sum()['is_wicket']\n",
    "wicket_by_years = pd.DataFrame(wicket_by_years)\n",
    "wicket_by_years.reset_index(inplace=True)"
   ]
  },
  {
   "cell_type": "code",
   "execution_count": null,
   "metadata": {},
   "outputs": [],
   "source": [
    "wicket_by_years"
   ]
  },
  {
   "cell_type": "code",
   "execution_count": null,
   "metadata": {},
   "outputs": [],
   "source": [
    "total_wicket = go.Scatter(\n",
    "                    x=wicket_by_years['year'],\n",
    "                    y=wicket_by_years['is_wicket'],\n",
    "                    mode='lines',\n",
    "                    name='wickets')\n",
    "\n",
    "data = [total_wicket]\n",
    "\n",
    "layout = go.Layout(title='wicket taken by year',\n",
    "                  xaxis = dict(title='Year'),\n",
    "                  yaxis = dict(title='Wicket'))\n",
    "\n",
    "fig = go.Figure(data=data, layout=layout)\n",
    "\n",
    "pyo.iplot(fig)"
   ]
  },
  {
   "cell_type": "markdown",
   "metadata": {
    "papermill": {
     "duration": 0.04024,
     "end_time": "2020-12-02T20:40:08.205727",
     "exception": false,
     "start_time": "2020-12-02T20:40:08.165487",
     "status": "completed"
    },
    "tags": []
   },
   "source": [
    "## Runs scored over the years"
   ]
  },
  {
   "cell_type": "code",
   "execution_count": null,
   "metadata": {},
   "outputs": [],
   "source": [
    "runs_by_years"
   ]
  },
  {
   "cell_type": "markdown",
   "metadata": {
    "papermill": {
     "duration": 0.040763,
     "end_time": "2020-12-02T20:40:08.505664",
     "exception": false,
     "start_time": "2020-12-02T20:40:08.464901",
     "status": "completed"
    },
    "tags": []
   },
   "source": [
    "### Using plotly"
   ]
  },
  {
   "cell_type": "code",
   "execution_count": null,
   "metadata": {
    "execution": {
     "iopub.execute_input": "2020-12-02T20:40:08.600085Z",
     "iopub.status.busy": "2020-12-02T20:40:08.599130Z",
     "iopub.status.idle": "2020-12-02T20:40:09.759397Z",
     "shell.execute_reply": "2020-12-02T20:40:09.760022Z"
    },
    "papermill": {
     "duration": 1.211281,
     "end_time": "2020-12-02T20:40:09.760177",
     "exception": false,
     "start_time": "2020-12-02T20:40:08.548896",
     "status": "completed"
    },
    "scrolled": true,
    "tags": []
   },
   "outputs": [],
   "source": [
    "total_runs = go.Scatter(\n",
    "                    x=runs_by_years['year'],\n",
    "                    y=runs_by_years['total_runs'],\n",
    "                    mode='lines',\n",
    "                    name='runs')\n",
    "\n",
    "data = [total_runs]\n",
    "\n",
    "layout = go.Layout(title='Runs scored by year',\n",
    "                  xaxis = dict(title='Year'),\n",
    "                  yaxis = dict(title='Runs'))\n",
    "\n",
    "fig = go.Figure(data=data, layout=layout)\n",
    "\n",
    "pyo.iplot(fig)"
   ]
  },
  {
   "cell_type": "markdown",
   "metadata": {
    "papermill": {
     "duration": 0.049378,
     "end_time": "2020-12-02T20:40:09.858443",
     "exception": false,
     "start_time": "2020-12-02T20:40:09.809065",
     "status": "completed"
    },
    "tags": []
   },
   "source": [
    "### Using cufflinks"
   ]
  },
  {
   "cell_type": "code",
   "execution_count": null,
   "metadata": {
    "execution": {
     "iopub.execute_input": "2020-12-02T20:40:09.963969Z",
     "iopub.status.busy": "2020-12-02T20:40:09.962950Z",
     "iopub.status.idle": "2020-12-02T20:40:10.126346Z",
     "shell.execute_reply": "2020-12-02T20:40:10.125604Z"
    },
    "papermill": {
     "duration": 0.219429,
     "end_time": "2020-12-02T20:40:10.126489",
     "exception": false,
     "start_time": "2020-12-02T20:40:09.907060",
     "status": "completed"
    },
    "scrolled": true,
    "tags": []
   },
   "outputs": [],
   "source": [
    "runs_by_years.iplot(kind='scatter', x='year', y='total_runs', title='Runs scored by year', xTitle='Year', yTitle='Runs')"
   ]
  },
  {
   "cell_type": "markdown",
   "metadata": {
    "papermill": {
     "duration": 0.062194,
     "end_time": "2020-12-02T20:40:10.361901",
     "exception": false,
     "start_time": "2020-12-02T20:40:10.299707",
     "status": "completed"
    },
    "tags": []
   },
   "source": [
    "# Preferred toss decision"
   ]
  },
  {
   "cell_type": "code",
   "execution_count": null,
   "metadata": {
    "execution": {
     "iopub.execute_input": "2020-12-02T20:40:10.494072Z",
     "iopub.status.busy": "2020-12-02T20:40:10.486532Z",
     "iopub.status.idle": "2020-12-02T20:40:10.499133Z",
     "shell.execute_reply": "2020-12-02T20:40:10.498470Z"
    },
    "papermill": {
     "duration": 0.079669,
     "end_time": "2020-12-02T20:40:10.499262",
     "exception": false,
     "start_time": "2020-12-02T20:40:10.419593",
     "status": "completed"
    },
    "tags": []
   },
   "outputs": [],
   "source": [
    "toss_decisions = matches.groupby(by='toss_decision').count()\n",
    "toss_decisions = pd.DataFrame(toss_decisions['id'])\n",
    "toss_decisions.reset_index(inplace=True)\n",
    "toss_decisions"
   ]
  },
  {
   "cell_type": "markdown",
   "metadata": {
    "papermill": {
     "duration": 0.057818,
     "end_time": "2020-12-02T20:40:10.616081",
     "exception": false,
     "start_time": "2020-12-02T20:40:10.558263",
     "status": "completed"
    },
    "tags": []
   },
   "source": [
    "### Using plotly"
   ]
  },
  {
   "cell_type": "code",
   "execution_count": null,
   "metadata": {
    "execution": {
     "iopub.execute_input": "2020-12-02T20:40:10.744565Z",
     "iopub.status.busy": "2020-12-02T20:40:10.743653Z",
     "iopub.status.idle": "2020-12-02T20:40:10.793984Z",
     "shell.execute_reply": "2020-12-02T20:40:10.794668Z"
    },
    "papermill": {
     "duration": 0.119565,
     "end_time": "2020-12-02T20:40:10.794834",
     "exception": false,
     "start_time": "2020-12-02T20:40:10.675269",
     "status": "completed"
    },
    "scrolled": true,
    "tags": []
   },
   "outputs": [],
   "source": [
    "toss_decision = go.Bar(\n",
    "                    x=toss_decisions['toss_decision'],\n",
    "                    y=toss_decisions['id']\n",
    "                )\n",
    "\n",
    "data = [toss_decision]\n",
    "\n",
    "layout = go.Layout(title='Toss decision',\n",
    "                  xaxis = dict(title='Decision'),\n",
    "                  yaxis = dict(title='count'))\n",
    "\n",
    "fig = go.Figure(data=data, layout=layout)\n",
    "\n",
    "pyo.iplot(fig)"
   ]
  },
  {
   "cell_type": "markdown",
   "metadata": {
    "papermill": {
     "duration": 0.0654,
     "end_time": "2020-12-02T20:40:10.930467",
     "exception": false,
     "start_time": "2020-12-02T20:40:10.865067",
     "status": "completed"
    },
    "tags": []
   },
   "source": [
    "### Using cufflinks"
   ]
  },
  {
   "cell_type": "code",
   "execution_count": null,
   "metadata": {
    "execution": {
     "iopub.execute_input": "2020-12-02T20:40:11.070654Z",
     "iopub.status.busy": "2020-12-02T20:40:11.069800Z",
     "iopub.status.idle": "2020-12-02T20:40:11.135783Z",
     "shell.execute_reply": "2020-12-02T20:40:11.134985Z"
    },
    "papermill": {
     "duration": 0.139876,
     "end_time": "2020-12-02T20:40:11.135910",
     "exception": false,
     "start_time": "2020-12-02T20:40:10.996034",
     "status": "completed"
    },
    "tags": []
   },
   "outputs": [],
   "source": [
    "toss_decisions.iplot(kind='bar', x='toss_decision', y='id', title='Toss Decision', xTitle='Decision', yTitle='count')"
   ]
  },
  {
   "cell_type": "markdown",
   "metadata": {
    "papermill": {
     "duration": 0.07828,
     "end_time": "2020-12-02T20:40:11.292175",
     "exception": false,
     "start_time": "2020-12-02T20:40:11.213895",
     "status": "completed"
    },
    "tags": []
   },
   "source": [
    "# Totals runs and wickets by over"
   ]
  },
  {
   "cell_type": "code",
   "execution_count": null,
   "metadata": {
    "execution": {
     "iopub.execute_input": "2020-12-02T20:40:11.455545Z",
     "iopub.status.busy": "2020-12-02T20:40:11.454726Z",
     "iopub.status.idle": "2020-12-02T20:40:11.512067Z",
     "shell.execute_reply": "2020-12-02T20:40:11.511382Z"
    },
    "papermill": {
     "duration": 0.143514,
     "end_time": "2020-12-02T20:40:11.512205",
     "exception": false,
     "start_time": "2020-12-02T20:40:11.368691",
     "status": "completed"
    },
    "tags": []
   },
   "outputs": [],
   "source": [
    "runs_and_wickets_by_over = balls.groupby(by='over').sum()\n",
    "runs_and_wickets_by_over = pd.DataFrame(runs_and_wickets_by_over[['total_runs', 'is_wicket']])\n",
    "runs_and_wickets_by_over.reset_index(inplace=True)\n",
    "runs_and_wickets_by_over"
   ]
  },
  {
   "cell_type": "markdown",
   "metadata": {
    "papermill": {
     "duration": 0.076101,
     "end_time": "2020-12-02T20:40:11.665181",
     "exception": false,
     "start_time": "2020-12-02T20:40:11.589080",
     "status": "completed"
    },
    "tags": []
   },
   "source": [
    "### Using plotly"
   ]
  },
  {
   "cell_type": "code",
   "execution_count": null,
   "metadata": {
    "execution": {
     "iopub.execute_input": "2020-12-02T20:40:11.828722Z",
     "iopub.status.busy": "2020-12-02T20:40:11.827818Z",
     "iopub.status.idle": "2020-12-02T20:40:12.012651Z",
     "shell.execute_reply": "2020-12-02T20:40:12.013362Z"
    },
    "papermill": {
     "duration": 0.270909,
     "end_time": "2020-12-02T20:40:12.013541",
     "exception": false,
     "start_time": "2020-12-02T20:40:11.742632",
     "status": "completed"
    },
    "tags": []
   },
   "outputs": [],
   "source": [
    "runs_and_wickets_by_overs = go.Scatter(\n",
    "                    x=runs_and_wickets_by_over['over'],\n",
    "                    y=runs_and_wickets_by_over['total_runs'],\n",
    "                    text=runs_and_wickets_by_over['is_wicket'],\n",
    "                    mode='markers',\n",
    "                    marker=dict(size=runs_and_wickets_by_over['is_wicket']/10,\n",
    "                               color=runs_and_wickets_by_over['total_runs']/10,\n",
    "                               showscale=True)\n",
    "                )\n",
    "\n",
    "data = [runs_and_wickets_by_overs]\n",
    "\n",
    "layout = go.Layout(title='Runs and wicket by over',\n",
    "                  xaxis = dict(title='Over'),\n",
    "                  yaxis = dict(title='Runs'))\n",
    "\n",
    "fig = go.Figure(data=data, layout=layout)\n",
    "\n",
    "pyo.iplot(fig)"
   ]
  },
  {
   "cell_type": "markdown",
   "metadata": {
    "papermill": {
     "duration": 0.084795,
     "end_time": "2020-12-02T20:40:12.247131",
     "exception": false,
     "start_time": "2020-12-02T20:40:12.162336",
     "status": "completed"
    },
    "tags": []
   },
   "source": [
    "### Using cufflinks\n",
    "\n",
    "Failed to get colorscale in cufflinks"
   ]
  },
  {
   "cell_type": "code",
   "execution_count": null,
   "metadata": {
    "execution": {
     "iopub.execute_input": "2020-12-02T20:40:12.427315Z",
     "iopub.status.busy": "2020-12-02T20:40:12.426461Z",
     "iopub.status.idle": "2020-12-02T20:40:12.491655Z",
     "shell.execute_reply": "2020-12-02T20:40:12.492349Z"
    },
    "papermill": {
     "duration": 0.157153,
     "end_time": "2020-12-02T20:40:12.492513",
     "exception": false,
     "start_time": "2020-12-02T20:40:12.335360",
     "status": "completed"
    },
    "tags": []
   },
   "outputs": [],
   "source": [
    "runs_and_wickets_by_over.iplot(kind='scatter', x='over', y='total_runs', mode='markers',\n",
    "                               title='Runs and wickets by over',\n",
    "                               xTitle='Over', yTitle='Runs', size=runs_and_wickets_by_over['is_wicket']/10)"
   ]
  },
  {
   "cell_type": "markdown",
   "metadata": {
    "papermill": {
     "duration": 0.092334,
     "end_time": "2020-12-02T20:40:12.677955",
     "exception": false,
     "start_time": "2020-12-02T20:40:12.585621",
     "status": "completed"
    },
    "tags": []
   },
   "source": [
    "# Runs distribution over wise"
   ]
  },
  {
   "cell_type": "code",
   "execution_count": null,
   "metadata": {
    "execution": {
     "iopub.execute_input": "2020-12-02T20:40:12.873861Z",
     "iopub.status.busy": "2020-12-02T20:40:12.872739Z",
     "iopub.status.idle": "2020-12-02T20:40:13.370057Z",
     "shell.execute_reply": "2020-12-02T20:40:13.369233Z"
    },
    "papermill": {
     "duration": 0.597993,
     "end_time": "2020-12-02T20:40:13.370191",
     "exception": false,
     "start_time": "2020-12-02T20:40:12.772198",
     "status": "completed"
    },
    "tags": []
   },
   "outputs": [],
   "source": [
    "balls = pd.read_csv('IPL Ball-by-Ball 2008-2020.csv')\n",
    "runs_overs = balls[['total_runs', 'over']]\n",
    "runs_overs"
   ]
  },
  {
   "cell_type": "markdown",
   "metadata": {
    "papermill": {
     "duration": 0.139802,
     "end_time": "2020-12-02T20:40:13.616362",
     "exception": false,
     "start_time": "2020-12-02T20:40:13.476560",
     "status": "completed"
    },
    "tags": []
   },
   "source": [
    "### Using plotly"
   ]
  },
  {
   "cell_type": "code",
   "execution_count": null,
   "metadata": {
    "execution": {
     "iopub.execute_input": "2020-12-02T20:40:13.835055Z",
     "iopub.status.busy": "2020-12-02T20:40:13.834185Z",
     "iopub.status.idle": "2020-12-02T20:40:15.940547Z",
     "shell.execute_reply": "2020-12-02T20:40:15.941381Z"
    },
    "papermill": {
     "duration": 2.216398,
     "end_time": "2020-12-02T20:40:15.941556",
     "exception": false,
     "start_time": "2020-12-02T20:40:13.725158",
     "status": "completed"
    },
    "tags": []
   },
   "outputs": [],
   "source": [
    "runs_over = go.Box(\n",
    "                    x=runs_overs['over'],\n",
    "                    y=runs_overs['total_runs']\n",
    "                )\n",
    "\n",
    "data = [runs_over]\n",
    "\n",
    "layout = go.Layout(title='Runs distribution over wise',\n",
    "                  xaxis = dict(title='Over'),\n",
    "                  yaxis = dict(title='Runs'))\n",
    "\n",
    "fig = go.Figure(data=data, layout=layout)\n",
    "\n",
    "pyo.iplot(fig)"
   ]
  },
  {
   "cell_type": "markdown",
   "metadata": {
    "papermill": {
     "duration": 1.140682,
     "end_time": "2020-12-02T20:40:18.247466",
     "exception": false,
     "start_time": "2020-12-02T20:40:17.106784",
     "status": "completed"
    },
    "tags": []
   },
   "source": [
    "### Using cufflinks\n",
    "\n",
    "A simple one-liner doesn't seem to work here. See the last plot which is correct."
   ]
  },
  {
   "cell_type": "code",
   "execution_count": null,
   "metadata": {
    "execution": {
     "iopub.execute_input": "2020-12-02T20:40:20.562060Z",
     "iopub.status.busy": "2020-12-02T20:40:20.561255Z",
     "iopub.status.idle": "2020-12-02T20:40:30.015354Z",
     "shell.execute_reply": "2020-12-02T20:40:30.016268Z"
    },
    "papermill": {
     "duration": 10.630947,
     "end_time": "2020-12-02T20:40:30.016454",
     "exception": false,
     "start_time": "2020-12-02T20:40:19.385507",
     "status": "completed"
    },
    "tags": []
   },
   "outputs": [],
   "source": [
    "runs_overs.iplot(kind='box', y='over',title='Runs distribution over wise', xTitle='Over', yTitle='Runs')"
   ]
  },
  {
   "cell_type": "markdown",
   "metadata": {
    "papermill": {
     "duration": 2.143224,
     "end_time": "2020-12-02T20:40:34.318682",
     "exception": false,
     "start_time": "2020-12-02T20:40:32.175458",
     "status": "completed"
    },
    "tags": []
   },
   "source": [
    "# Runs distribution match wise"
   ]
  },
  {
   "cell_type": "code",
   "execution_count": null,
   "metadata": {
    "execution": {
     "iopub.execute_input": "2020-12-02T20:40:38.671727Z",
     "iopub.status.busy": "2020-12-02T20:40:38.660705Z",
     "iopub.status.idle": "2020-12-02T20:40:38.718694Z",
     "shell.execute_reply": "2020-12-02T20:40:38.717933Z"
    },
    "papermill": {
     "duration": 2.258949,
     "end_time": "2020-12-02T20:40:38.718822",
     "exception": false,
     "start_time": "2020-12-02T20:40:36.459873",
     "status": "completed"
    },
    "tags": []
   },
   "outputs": [],
   "source": [
    "runs_by_match = balls.groupby(by='id').sum()\n",
    "runs_by_match = pd.DataFrame(runs_by_match[['total_runs']])\n",
    "runs_by_match.reset_index(inplace=True)\n",
    "runs_by_match"
   ]
  },
  {
   "cell_type": "code",
   "execution_count": null,
   "metadata": {
    "execution": {
     "iopub.execute_input": "2020-12-02T20:40:43.052017Z",
     "iopub.status.busy": "2020-12-02T20:40:43.051169Z",
     "iopub.status.idle": "2020-12-02T20:40:43.100170Z",
     "shell.execute_reply": "2020-12-02T20:40:43.100780Z"
    },
    "papermill": {
     "duration": 2.21471,
     "end_time": "2020-12-02T20:40:43.100956",
     "exception": false,
     "start_time": "2020-12-02T20:40:40.886246",
     "status": "completed"
    },
    "tags": []
   },
   "outputs": [],
   "source": [
    "runs_by_match = go.Histogram(\n",
    "                    x=runs_by_match['total_runs']\n",
    "                )\n",
    "\n",
    "data = [runs_by_match]\n",
    "\n",
    "layout = go.Layout(title='Runs distribution match wise',\n",
    "                  xaxis = dict(title='Runs'))\n",
    "\n",
    "fig = go.Figure(data=data, layout=layout)\n",
    "\n",
    "pyo.iplot(fig)"
   ]
  },
  {
   "cell_type": "markdown",
   "metadata": {
    "papermill": {
     "duration": 2.166611,
     "end_time": "2020-12-02T20:40:47.435119",
     "exception": false,
     "start_time": "2020-12-02T20:40:45.268508",
     "status": "completed"
    },
    "tags": []
   },
   "source": [
    "# Runs balls wise distributions"
   ]
  },
  {
   "cell_type": "code",
   "execution_count": null,
   "metadata": {
    "execution": {
     "iopub.execute_input": "2020-12-02T20:40:51.870998Z",
     "iopub.status.busy": "2020-12-02T20:40:51.869971Z",
     "iopub.status.idle": "2020-12-02T20:40:56.759056Z",
     "shell.execute_reply": "2020-12-02T20:40:56.759881Z"
    },
    "papermill": {
     "duration": 7.125034,
     "end_time": "2020-12-02T20:40:56.760082",
     "exception": false,
     "start_time": "2020-12-02T20:40:49.635048",
     "status": "completed"
    },
    "tags": []
   },
   "outputs": [],
   "source": [
    "balls['total_runs'].iplot(kind='hist', title='Runs balls wise distributions', xTitle='Runs', yTitle='Count')"
   ]
  },
  {
   "cell_type": "markdown",
   "metadata": {
    "papermill": {
     "duration": 2.68505,
     "end_time": "2020-12-02T20:41:02.180785",
     "exception": false,
     "start_time": "2020-12-02T20:40:59.495735",
     "status": "completed"
    },
    "tags": []
   },
   "source": [
    "### Testing the different themes"
   ]
  },
  {
   "cell_type": "code",
   "execution_count": null,
   "metadata": {
    "execution": {
     "iopub.execute_input": "2020-12-02T20:41:07.622590Z",
     "iopub.status.busy": "2020-12-02T20:41:07.621462Z",
     "iopub.status.idle": "2020-12-02T20:41:07.626374Z",
     "shell.execute_reply": "2020-12-02T20:41:07.625593Z"
    },
    "papermill": {
     "duration": 2.689107,
     "end_time": "2020-12-02T20:41:07.626507",
     "exception": false,
     "start_time": "2020-12-02T20:41:04.937400",
     "status": "completed"
    },
    "tags": []
   },
   "outputs": [],
   "source": [
    "themes = cf.getThemes()\n",
    "themes"
   ]
  },
  {
   "cell_type": "code",
   "execution_count": null,
   "metadata": {
    "execution": {
     "iopub.execute_input": "2020-12-02T20:41:13.058160Z",
     "iopub.status.busy": "2020-12-02T20:41:13.057288Z",
     "iopub.status.idle": "2020-12-02T20:41:51.983975Z",
     "shell.execute_reply": "2020-12-02T20:41:51.984803Z"
    },
    "papermill": {
     "duration": 41.625149,
     "end_time": "2020-12-02T20:41:51.985000",
     "exception": false,
     "start_time": "2020-12-02T20:41:10.359851",
     "status": "completed"
    },
    "scrolled": true,
    "tags": []
   },
   "outputs": [],
   "source": [
    "for theme in themes:\n",
    "    balls['total_runs'].iplot(kind='hist', theme=theme, title=theme+' :Runs balls wise distributions ', xTitle='Runs', yTitle='Count')"
   ]
  },
  {
   "cell_type": "markdown",
   "metadata": {
    "papermill": {
     "duration": 6.36121,
     "end_time": "2020-12-02T20:42:04.762984",
     "exception": false,
     "start_time": "2020-12-02T20:41:58.401774",
     "status": "completed"
    },
    "tags": []
   },
   "source": [
    "# Runs distribution over wise (using cufflinks)\n",
    "\n",
    "I had to put this here as it was causing a time-out and preventing other plots from loading."
   ]
  },
  {
   "cell_type": "code",
   "execution_count": null,
   "metadata": {
    "execution": {
     "iopub.execute_input": "2020-12-02T20:42:17.661779Z",
     "iopub.status.busy": "2020-12-02T20:42:17.660998Z",
     "shell.execute_reply": "2020-12-02T20:43:50.362357Z"
    },
    "papermill": {
     "duration": 118.70057,
     "end_time": "2020-12-02T20:44:09.795608",
     "exception": false,
     "start_time": "2020-12-02T20:42:11.095038",
     "status": "completed"
    },
    "tags": []
   },
   "outputs": [],
   "source": [
    "runs_overs = balls[['total_runs', 'over']]\n",
    "runs_overs.pivot(columns='over', values='total_runs').iplot(kind='box')"
   ]
  },
  {
   "cell_type": "markdown",
   "metadata": {},
   "source": [
    "### Preprocessing and normalization of the data"
   ]
  },
  {
   "cell_type": "code",
   "execution_count": null,
   "metadata": {},
   "outputs": [],
   "source": [
    "data = pd.merge(left=matches, right=balls, on='id', how='right')\n",
    "data.head()"
   ]
  },
  {
   "cell_type": "code",
   "execution_count": null,
   "metadata": {},
   "outputs": [],
   "source": [
    "data.info()"
   ]
  },
  {
   "cell_type": "code",
   "execution_count": null,
   "metadata": {},
   "outputs": [],
   "source": [
    "matches.head()"
   ]
  },
  {
   "cell_type": "code",
   "execution_count": null,
   "metadata": {},
   "outputs": [],
   "source": [
    "matches[pd.isnull(matches['winner'])]"
   ]
  },
  {
   "cell_type": "code",
   "execution_count": null,
   "metadata": {},
   "outputs": [],
   "source": [
    "matches['winner'].fillna('Draw', inplace=True)"
   ]
  },
  {
   "cell_type": "code",
   "execution_count": null,
   "metadata": {},
   "outputs": [],
   "source": [
    "matches.loc[241,'winner']"
   ]
  },
  {
   "cell_type": "code",
   "execution_count": null,
   "metadata": {},
   "outputs": [],
   "source": [
    "matches['winner'].value_counts()"
   ]
  },
  {
   "cell_type": "code",
   "execution_count": null,
   "metadata": {},
   "outputs": [],
   "source": [
    "matches[pd.isnull(matches['city'])]"
   ]
  },
  {
   "cell_type": "code",
   "execution_count": null,
   "metadata": {},
   "outputs": [],
   "source": [
    "matches['city'].fillna('UAE', inplace=True)"
   ]
  },
  {
   "cell_type": "code",
   "execution_count": null,
   "metadata": {},
   "outputs": [],
   "source": [
    "matches.loc[414,'city']"
   ]
  },
  {
   "cell_type": "code",
   "execution_count": null,
   "metadata": {},
   "outputs": [],
   "source": [
    "matches['toss_decision'].value_counts()"
   ]
  },
  {
   "cell_type": "code",
   "execution_count": null,
   "metadata": {},
   "outputs": [],
   "source": [
    "encode = {'city':{'Mumbai':1 ,'Kolkata':2,'Delhi':3,'Bangalore':4,'Hyderabad':5,'Chennai':6,'Chandigarh':7,'Jaipur':8,'Pune':9,'Abu Dhabi':10,'Dubai':11,'Bengaluru':12,'Durban':13,'Visakhapatnam':14,'Ahmedabad':15,'Centurion':16,'Sharjah':17,'Rajkot':18,'Dharamsala':19,'Indore':20,'Johannesburg':21,'Port Elizabeth':22,'Ranchi':23,'Cape Town':24,'Cuttack':25,'Raipur':26,'Kochi':27,'Kanpur':28,'Nagpur':29,'Kimberley':30,'East London':31,'Bloemfontein':32,'UAE':33},\n",
    "          'team1': {'Mumbai Indians':1,'Kolkata Knight Riders':2,'Royal Challengers Bangalore':3,'Delhi Capitals':4,'Chennai Super Kings':5,'Rajasthan Royals':6,'Delhi Daredevils':7,'Gujarat Lions':8,'Kings XI Punjab':9,'Sunrisers Hyderabad':10,'Rising Pune Supergiant':11,'Kochi Tuskers Kerala':12,'Pune Warriors':13,'Deccan Chargers':14},\n",
    "          'team2': {'Mumbai Indians':1,'Kolkata Knight Riders':2,'Royal Challengers Bangalore':3,'Delhi Capitals':4,'Chennai Super Kings':5,'Rajasthan Royals':6,'Delhi Daredevils':7,'Gujarat Lions':8,'Kings XI Punjab':9,'Sunrisers Hyderabad':10,'Rising Pune Supergiant':11,'Kochi Tuskers Kerala':12,'Pune Warriors':13,'Deccan Chargers':14},\n",
    "          'toss_winner': {'Mumbai Indians':1,'Kolkata Knight Riders':2,'Royal Challengers Bangalore':3,'Delhi Capitals':4,'Chennai Super Kings':5,'Rajasthan Royals':6,'Delhi Daredevils':7,'Gujarat Lions':8,'Kings XI Punjab':9,'Sunrisers Hyderabad':10,'Rising Pune Supergiant':11,'Kochi Tuskers Kerala':12,'Pune Warriors':13,'Deccan Chargers':14,'Rising Pune Supergiants':11},\n",
    "          'winner': {'Mumbai Indians':1,'Kolkata Knight Riders':2,'Royal Challengers Bangalore':3,'Delhi Capitals':4,'Chennai Super Kings':5,'Rajasthan Royals':6,'Delhi Daredevils':7,'Gujarat Lions':8,'Kings XI Punjab':9,'Sunrisers Hyderabad':10,'Rising Pune Supergiant':11,'Kochi Tuskers Kerala':12,'Pune Warriors':13,'Deccan Chargers':14,'Draw':15}}\n",
    "matches.replace(encode, inplace=True)\n",
    "matches.head()"
   ]
  },
  {
   "cell_type": "code",
   "execution_count": null,
   "metadata": {},
   "outputs": [],
   "source": [
    "matches['result'].value_counts()"
   ]
  },
  {
   "cell_type": "code",
   "execution_count": null,
   "metadata": {},
   "outputs": [],
   "source": [
    "matches['eliminator'].value_counts()"
   ]
  },
  {
   "cell_type": "code",
   "execution_count": null,
   "metadata": {},
   "outputs": [],
   "source": [
    "matches['method'].value_counts()"
   ]
  },
  {
   "cell_type": "code",
   "execution_count": null,
   "metadata": {},
   "outputs": [],
   "source": [
    "encode = {'toss_decision': {'field':1,'bat':2},\n",
    "          'result': {'wicket':1,'runs':2,'tie':3},\n",
    "          'eliminator': {'N':1,'Y':2}}\n",
    "matches.replace(encode, inplace=True)\n",
    "matches.head()"
   ]
  },
  {
   "cell_type": "code",
   "execution_count": null,
   "metadata": {},
   "outputs": [],
   "source": [
    "encode = {'M. Chinnaswamy Stadium':1, 'Punjab Cricket Association Stadium':2,\n",
    "       'Feroz Shah Kotla':3, 'Wankhede Stadium':4, 'Eden Gardens':5,\n",
    "       'Sawai Mansingh Stadium':6, 'Rajiv Gandhi International Stadium':7,\n",
    "       'M.A. Chidambaram Stadium':8, 'Dr DY Patil Sports Academy':9, 'Newlands':10,\n",
    "       \"St George's Park\":11, 'Kingsmead':12, 'SuperSport Park':13, 'Buffalo Park':14,\n",
    "       'New Wanderers Stadium':15, 'De Beers Diamond Oval':16, 'OUTsurance Oval':17,\n",
    "       'Brabourne Stadium':18, 'Sardar Patel Stadium, Motera':19, 'Barabati Stadium':20,\n",
    "       'Vidarbha Cricket Association Stadium, Jamtha':21,\n",
    "       'Himachal Pradesh Cricket Association Stadium':22, 'Nehru Stadium':23,\n",
    "       'Holkar Cricket Stadium':24,\n",
    "       'Dr. Y.S. Rajasekhara Reddy ACA-VDCA Cricket Stadium':25,\n",
    "       'Subrata Roy Sahara Stadium':26,\n",
    "       'Shaheed Veer Narayan Singh International Stadium':27,\n",
    "       'JSCA International Stadium Complex':28, 'Sheikh Zayed Stadium':29,\n",
    "       'Sharjah Cricket Stadium':30, 'Dubai International Cricket Stadium':31,\n",
    "       'Maharashtra Cricket Association Stadium':32,\n",
    "       'Saurashtra Cricket Association Stadium':33, 'Green Park':34,\n",
    "       'M.Chinnaswamy Stadium':35}\n",
    "matches.replace(encode, inplace=True)\n",
    "matches.head()"
   ]
  },
  {
   "cell_type": "code",
   "execution_count": null,
   "metadata": {},
   "outputs": [],
   "source": [
    "matches.info()"
   ]
  },
  {
   "cell_type": "markdown",
   "metadata": {},
   "source": [
    "### Normalization of data"
   ]
  },
  {
   "cell_type": "code",
   "execution_count": null,
   "metadata": {
    "scrolled": true
   },
   "outputs": [],
   "source": [
    "from sklearn.preprocessing import MinMaxScaler\n",
    "scaling = MinMaxScaler()\n",
    "X = scaling.fit_transform(data[['id','neutral_venue','inning','over','ball','batsman_runs','extra_runs','total_runs','non_boundary','is_wicket']])"
   ]
  },
  {
   "cell_type": "code",
   "execution_count": null,
   "metadata": {},
   "outputs": [],
   "source": [
    "X_meaned = X - np.mean(X , axis = 0)\n",
    "\n",
    "cov_mat = np.cov(X_meaned , rowvar = False)"
   ]
  },
  {
   "cell_type": "code",
   "execution_count": null,
   "metadata": {},
   "outputs": [],
   "source": [
    "mean_vec = np.mean(X, axis=0)\n",
    "cov_mat = (X - mean_vec).T.dot((X - mean_vec)) / (X.shape[0]-1)\n",
    "print('Covariance matrix \\n%s' %cov_mat)"
   ]
  },
  {
   "cell_type": "code",
   "execution_count": null,
   "metadata": {},
   "outputs": [],
   "source": [
    "matches = matches[['team1','team2','city','toss_decision','toss_winner','venue','winner']]\n",
    "matches.head()"
   ]
  },
  {
   "cell_type": "code",
   "execution_count": null,
   "metadata": {},
   "outputs": [],
   "source": [
    "matches.info()"
   ]
  },
  {
   "cell_type": "code",
   "execution_count": null,
   "metadata": {},
   "outputs": [],
   "source": [
    "df = pd.DataFrame(matches)\n",
    "df.describe()"
   ]
  },
  {
   "cell_type": "code",
   "execution_count": null,
   "metadata": {},
   "outputs": [],
   "source": [
    "pd.options.display.float_format = '{:,.0f}'.format\n",
    "df"
   ]
  },
  {
   "cell_type": "code",
   "execution_count": null,
   "metadata": {},
   "outputs": [],
   "source": [
    "df['city'].value_counts()"
   ]
  },
  {
   "cell_type": "code",
   "execution_count": null,
   "metadata": {},
   "outputs": [],
   "source": [
    "df.apply(lambda x: sum(x.isnull()),axis=0) \n",
    "    #find the null values in every column"
   ]
  },
  {
   "cell_type": "code",
   "execution_count": null,
   "metadata": {},
   "outputs": [],
   "source": [
    "df.head()"
   ]
  },
  {
   "cell_type": "markdown",
   "metadata": {},
   "source": [
    "# Implement different algorithm to report the accuracy"
   ]
  },
  {
   "cell_type": "code",
   "execution_count": null,
   "metadata": {},
   "outputs": [],
   "source": [
    "#Import models from scikit learn module:\n",
    "from sklearn.linear_model import LogisticRegression\n",
    "#from sklearn.cross_validation import KFold   #For K-fold cross validation\n",
    "from sklearn.ensemble import RandomForestClassifier\n",
    "from sklearn.tree import DecisionTreeClassifier, export_graphviz\n",
    "from sklearn import metrics\n",
    "\n",
    "#Generic function for making a classification model and accessing performance:\n",
    "def classification_model(model, data, predictors, outcome):\n",
    "      model.fit(data[predictors],data[outcome])\n",
    "      predictions = model.predict(data[predictors])\n",
    "      print(predictions)\n",
    "      accuracy = metrics.accuracy_score(predictions,data[outcome])\n",
    "      print('Accuracy : %s' % '{0:.3%}'.format(accuracy))"
   ]
  },
  {
   "cell_type": "markdown",
   "metadata": {},
   "source": [
    "### logistic Regression"
   ]
  },
  {
   "cell_type": "code",
   "execution_count": null,
   "metadata": {},
   "outputs": [],
   "source": [
    "outcome_var=['winner']\n",
    "predictor_var = ['team1', 'team2', 'venue', 'toss_winner','city','toss_decision']\n",
    "model =LogisticRegression()\n",
    "classification_model(model, df,predictor_var,outcome_var)"
   ]
  },
  {
   "cell_type": "markdown",
   "metadata": {},
   "source": [
    "### NAive bayes algorithm"
   ]
  },
  {
   "cell_type": "code",
   "execution_count": null,
   "metadata": {
    "scrolled": false
   },
   "outputs": [],
   "source": [
    "from sklearn.naive_bayes import GaussianNB\n",
    "outcome_var=['winner']\n",
    "predictor_var = ['team1', 'team2', 'venue', 'toss_winner','city','toss_decision']\n",
    "model = GaussianNB() \n",
    "classification_model(model, df,predictor_var,outcome_var)"
   ]
  },
  {
   "cell_type": "markdown",
   "metadata": {},
   "source": [
    "## KNN algorithm"
   ]
  },
  {
   "cell_type": "code",
   "execution_count": null,
   "metadata": {
    "scrolled": true
   },
   "outputs": [],
   "source": [
    "#applying knn algorithm\n",
    "from sklearn.neighbors import KNeighborsClassifier\n",
    "model = KNeighborsClassifier(n_neighbors=3)\n",
    "classification_model(model, df,predictor_var,outcome_var)"
   ]
  },
  {
   "cell_type": "markdown",
   "metadata": {},
   "source": [
    "## Linear regression"
   ]
  },
  {
   "cell_type": "code",
   "execution_count": null,
   "metadata": {},
   "outputs": [],
   "source": [
    "X = df.iloc[:, :-1].values\n",
    "y = df.iloc[:, 1].values"
   ]
  },
  {
   "cell_type": "code",
   "execution_count": null,
   "metadata": {},
   "outputs": [],
   "source": [
    "X.shape"
   ]
  },
  {
   "cell_type": "code",
   "execution_count": null,
   "metadata": {},
   "outputs": [],
   "source": [
    "y.shape"
   ]
  },
  {
   "cell_type": "code",
   "execution_count": null,
   "metadata": {},
   "outputs": [],
   "source": [
    "from sklearn.model_selection import train_test_split\n",
    "X_train, X_test, y_train, y_test = train_test_split(X, y, test_size = 0.25, random_state = 45)\n",
    "from sklearn.linear_model import LinearRegression\n",
    "regressor = LinearRegression()\n",
    "regressor.fit(X_train, y_train)\n",
    "# Predicting the Test set results\n",
    "y_pred = regressor.predict(X_test)\n",
    "print('Coefficients: \\n', regressor.coef_)\n",
    "# The mean squared error\n",
    "print(\"Mean squared error: %.2f\" % np.mean((regressor.predict(X_test) -y_test)**2))\n",
    "# Explained variance score: 1 is perfect prediction\n",
    "print('Variance score: %.2f' % regressor.score(X_test, y_test))"
   ]
  },
  {
   "cell_type": "code",
   "execution_count": null,
   "metadata": {},
   "outputs": [],
   "source": []
  }
 ],
 "metadata": {
  "kernelspec": {
   "display_name": "Python 3",
   "language": "python",
   "name": "python3"
  },
  "language_info": {
   "codemirror_mode": {
    "name": "ipython",
    "version": 3
   },
   "file_extension": ".py",
   "mimetype": "text/x-python",
   "name": "python",
   "nbconvert_exporter": "python",
   "pygments_lexer": "ipython3",
   "version": "3.6.9"
  },
  "papermill": {
   "duration": 273.744413,
   "end_time": "2020-12-02T20:44:29.679973",
   "environment_variables": {},
   "exception": null,
   "input_path": "__notebook__.ipynb",
   "output_path": "__notebook__.ipynb",
   "parameters": {},
   "start_time": "2020-12-02T20:39:55.935560",
   "version": "2.1.0"
  }
 },
 "nbformat": 4,
 "nbformat_minor": 4
}
