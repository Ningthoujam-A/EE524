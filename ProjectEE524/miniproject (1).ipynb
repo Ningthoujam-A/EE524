{
  "nbformat": 4,
  "nbformat_minor": 0,
  "metadata": {
    "colab": {
      "name": "miniproject.ipynb",
      "provenance": [],
      "collapsed_sections": []
    },
    "kernelspec": {
      "display_name": "Python 3",
      "name": "python3"
    }
  },
  "cells": [
    {
      "cell_type": "code",
      "metadata": {
        "id": "8SEpiGSpSmzy"
      },
      "source": [
        "import pandas as pd\n",
        "import seaborn as sns\n",
        "import matplotlib.pyplot as plt\n",
        "import numpy as np\n",
        "sns.set(color_codes=True)\n",
        "import scipy.linalg as la\n",
        "\n",
        "\n",
        "\n"
      ],
      "execution_count": null,
      "outputs": []
    },
    {
      "cell_type": "markdown",
      "metadata": {
        "id": "pyFcRY6MYmyE"
      },
      "source": [
        "# **loading data**"
      ]
    },
    {
      "cell_type": "code",
      "metadata": {
        "id": "VRDgW0vuYkQW"
      },
      "source": [
        "url='http://archive.ics.uci.edu/ml/machine-learning-databases/breast-cancer-wisconsin/wdbc.data'\n",
        "dataset=pd.read_csv(url,header=None)"
      ],
      "execution_count": null,
      "outputs": []
    },
    {
      "cell_type": "code",
      "metadata": {
        "id": "c52IRKy0W9i_"
      },
      "source": [
        "X = dataset.iloc[:, 2:32].values\n",
        "Y = dataset.iloc[:, 1].values\n",
        "\n"
      ],
      "execution_count": null,
      "outputs": []
    },
    {
      "cell_type": "code",
      "metadata": {
        "colab": {
          "base_uri": "https://localhost:8080/"
        },
        "id": "99Fw0205YM_E",
        "outputId": "63ff0c5b-66a4-458e-99da-32a6142d5174"
      },
      "source": [
        "print(\"Cancer data set dimensions : {}\".format(dataset.shape))"
      ],
      "execution_count": null,
      "outputs": [
        {
          "output_type": "stream",
          "text": [
            "Cancer data set dimensions : (569, 32)\n"
          ],
          "name": "stdout"
        }
      ]
    },
    {
      "cell_type": "markdown",
      "metadata": {
        "id": "6RZNfv9LYyCA"
      },
      "source": [
        "# **viewing data**"
      ]
    },
    {
      "cell_type": "code",
      "metadata": {
        "colab": {
          "base_uri": "https://localhost:8080/",
          "height": 223
        },
        "id": "DevaY0VjYiLF",
        "outputId": "e59a4867-5432-4da5-aa72-24cacb917492"
      },
      "source": [
        "dataset.head()"
      ],
      "execution_count": null,
      "outputs": [
        {
          "output_type": "execute_result",
          "data": {
            "text/html": [
              "<div>\n",
              "<style scoped>\n",
              "    .dataframe tbody tr th:only-of-type {\n",
              "        vertical-align: middle;\n",
              "    }\n",
              "\n",
              "    .dataframe tbody tr th {\n",
              "        vertical-align: top;\n",
              "    }\n",
              "\n",
              "    .dataframe thead th {\n",
              "        text-align: right;\n",
              "    }\n",
              "</style>\n",
              "<table border=\"1\" class=\"dataframe\">\n",
              "  <thead>\n",
              "    <tr style=\"text-align: right;\">\n",
              "      <th></th>\n",
              "      <th>0</th>\n",
              "      <th>1</th>\n",
              "      <th>2</th>\n",
              "      <th>3</th>\n",
              "      <th>4</th>\n",
              "      <th>5</th>\n",
              "      <th>6</th>\n",
              "      <th>7</th>\n",
              "      <th>8</th>\n",
              "      <th>9</th>\n",
              "      <th>10</th>\n",
              "      <th>11</th>\n",
              "      <th>12</th>\n",
              "      <th>13</th>\n",
              "      <th>14</th>\n",
              "      <th>15</th>\n",
              "      <th>16</th>\n",
              "      <th>17</th>\n",
              "      <th>18</th>\n",
              "      <th>19</th>\n",
              "      <th>20</th>\n",
              "      <th>21</th>\n",
              "      <th>22</th>\n",
              "      <th>23</th>\n",
              "      <th>24</th>\n",
              "      <th>25</th>\n",
              "      <th>26</th>\n",
              "      <th>27</th>\n",
              "      <th>28</th>\n",
              "      <th>29</th>\n",
              "      <th>30</th>\n",
              "      <th>31</th>\n",
              "    </tr>\n",
              "  </thead>\n",
              "  <tbody>\n",
              "    <tr>\n",
              "      <th>0</th>\n",
              "      <td>842302</td>\n",
              "      <td>M</td>\n",
              "      <td>17.99</td>\n",
              "      <td>10.38</td>\n",
              "      <td>122.80</td>\n",
              "      <td>1001.0</td>\n",
              "      <td>0.11840</td>\n",
              "      <td>0.27760</td>\n",
              "      <td>0.3001</td>\n",
              "      <td>0.14710</td>\n",
              "      <td>0.2419</td>\n",
              "      <td>0.07871</td>\n",
              "      <td>1.0950</td>\n",
              "      <td>0.9053</td>\n",
              "      <td>8.589</td>\n",
              "      <td>153.40</td>\n",
              "      <td>0.006399</td>\n",
              "      <td>0.04904</td>\n",
              "      <td>0.05373</td>\n",
              "      <td>0.01587</td>\n",
              "      <td>0.03003</td>\n",
              "      <td>0.006193</td>\n",
              "      <td>25.38</td>\n",
              "      <td>17.33</td>\n",
              "      <td>184.60</td>\n",
              "      <td>2019.0</td>\n",
              "      <td>0.1622</td>\n",
              "      <td>0.6656</td>\n",
              "      <td>0.7119</td>\n",
              "      <td>0.2654</td>\n",
              "      <td>0.4601</td>\n",
              "      <td>0.11890</td>\n",
              "    </tr>\n",
              "    <tr>\n",
              "      <th>1</th>\n",
              "      <td>842517</td>\n",
              "      <td>M</td>\n",
              "      <td>20.57</td>\n",
              "      <td>17.77</td>\n",
              "      <td>132.90</td>\n",
              "      <td>1326.0</td>\n",
              "      <td>0.08474</td>\n",
              "      <td>0.07864</td>\n",
              "      <td>0.0869</td>\n",
              "      <td>0.07017</td>\n",
              "      <td>0.1812</td>\n",
              "      <td>0.05667</td>\n",
              "      <td>0.5435</td>\n",
              "      <td>0.7339</td>\n",
              "      <td>3.398</td>\n",
              "      <td>74.08</td>\n",
              "      <td>0.005225</td>\n",
              "      <td>0.01308</td>\n",
              "      <td>0.01860</td>\n",
              "      <td>0.01340</td>\n",
              "      <td>0.01389</td>\n",
              "      <td>0.003532</td>\n",
              "      <td>24.99</td>\n",
              "      <td>23.41</td>\n",
              "      <td>158.80</td>\n",
              "      <td>1956.0</td>\n",
              "      <td>0.1238</td>\n",
              "      <td>0.1866</td>\n",
              "      <td>0.2416</td>\n",
              "      <td>0.1860</td>\n",
              "      <td>0.2750</td>\n",
              "      <td>0.08902</td>\n",
              "    </tr>\n",
              "    <tr>\n",
              "      <th>2</th>\n",
              "      <td>84300903</td>\n",
              "      <td>M</td>\n",
              "      <td>19.69</td>\n",
              "      <td>21.25</td>\n",
              "      <td>130.00</td>\n",
              "      <td>1203.0</td>\n",
              "      <td>0.10960</td>\n",
              "      <td>0.15990</td>\n",
              "      <td>0.1974</td>\n",
              "      <td>0.12790</td>\n",
              "      <td>0.2069</td>\n",
              "      <td>0.05999</td>\n",
              "      <td>0.7456</td>\n",
              "      <td>0.7869</td>\n",
              "      <td>4.585</td>\n",
              "      <td>94.03</td>\n",
              "      <td>0.006150</td>\n",
              "      <td>0.04006</td>\n",
              "      <td>0.03832</td>\n",
              "      <td>0.02058</td>\n",
              "      <td>0.02250</td>\n",
              "      <td>0.004571</td>\n",
              "      <td>23.57</td>\n",
              "      <td>25.53</td>\n",
              "      <td>152.50</td>\n",
              "      <td>1709.0</td>\n",
              "      <td>0.1444</td>\n",
              "      <td>0.4245</td>\n",
              "      <td>0.4504</td>\n",
              "      <td>0.2430</td>\n",
              "      <td>0.3613</td>\n",
              "      <td>0.08758</td>\n",
              "    </tr>\n",
              "    <tr>\n",
              "      <th>3</th>\n",
              "      <td>84348301</td>\n",
              "      <td>M</td>\n",
              "      <td>11.42</td>\n",
              "      <td>20.38</td>\n",
              "      <td>77.58</td>\n",
              "      <td>386.1</td>\n",
              "      <td>0.14250</td>\n",
              "      <td>0.28390</td>\n",
              "      <td>0.2414</td>\n",
              "      <td>0.10520</td>\n",
              "      <td>0.2597</td>\n",
              "      <td>0.09744</td>\n",
              "      <td>0.4956</td>\n",
              "      <td>1.1560</td>\n",
              "      <td>3.445</td>\n",
              "      <td>27.23</td>\n",
              "      <td>0.009110</td>\n",
              "      <td>0.07458</td>\n",
              "      <td>0.05661</td>\n",
              "      <td>0.01867</td>\n",
              "      <td>0.05963</td>\n",
              "      <td>0.009208</td>\n",
              "      <td>14.91</td>\n",
              "      <td>26.50</td>\n",
              "      <td>98.87</td>\n",
              "      <td>567.7</td>\n",
              "      <td>0.2098</td>\n",
              "      <td>0.8663</td>\n",
              "      <td>0.6869</td>\n",
              "      <td>0.2575</td>\n",
              "      <td>0.6638</td>\n",
              "      <td>0.17300</td>\n",
              "    </tr>\n",
              "    <tr>\n",
              "      <th>4</th>\n",
              "      <td>84358402</td>\n",
              "      <td>M</td>\n",
              "      <td>20.29</td>\n",
              "      <td>14.34</td>\n",
              "      <td>135.10</td>\n",
              "      <td>1297.0</td>\n",
              "      <td>0.10030</td>\n",
              "      <td>0.13280</td>\n",
              "      <td>0.1980</td>\n",
              "      <td>0.10430</td>\n",
              "      <td>0.1809</td>\n",
              "      <td>0.05883</td>\n",
              "      <td>0.7572</td>\n",
              "      <td>0.7813</td>\n",
              "      <td>5.438</td>\n",
              "      <td>94.44</td>\n",
              "      <td>0.011490</td>\n",
              "      <td>0.02461</td>\n",
              "      <td>0.05688</td>\n",
              "      <td>0.01885</td>\n",
              "      <td>0.01756</td>\n",
              "      <td>0.005115</td>\n",
              "      <td>22.54</td>\n",
              "      <td>16.67</td>\n",
              "      <td>152.20</td>\n",
              "      <td>1575.0</td>\n",
              "      <td>0.1374</td>\n",
              "      <td>0.2050</td>\n",
              "      <td>0.4000</td>\n",
              "      <td>0.1625</td>\n",
              "      <td>0.2364</td>\n",
              "      <td>0.07678</td>\n",
              "    </tr>\n",
              "  </tbody>\n",
              "</table>\n",
              "</div>"
            ],
            "text/plain": [
              "         0  1      2      3       4   ...      27      28      29      30       31\n",
              "0    842302  M  17.99  10.38  122.80  ...  0.6656  0.7119  0.2654  0.4601  0.11890\n",
              "1    842517  M  20.57  17.77  132.90  ...  0.1866  0.2416  0.1860  0.2750  0.08902\n",
              "2  84300903  M  19.69  21.25  130.00  ...  0.4245  0.4504  0.2430  0.3613  0.08758\n",
              "3  84348301  M  11.42  20.38   77.58  ...  0.8663  0.6869  0.2575  0.6638  0.17300\n",
              "4  84358402  M  20.29  14.34  135.10  ...  0.2050  0.4000  0.1625  0.2364  0.07678\n",
              "\n",
              "[5 rows x 32 columns]"
            ]
          },
          "metadata": {
            "tags": []
          },
          "execution_count": 9
        }
      ]
    },
    {
      "cell_type": "markdown",
      "metadata": {
        "id": "smeHXk_SY5fb"
      },
      "source": [
        "# **labeling data**"
      ]
    },
    {
      "cell_type": "code",
      "metadata": {
        "id": "2vdYH7SFaSlV"
      },
      "source": [
        "#Encoding categorical data values\n",
        "from sklearn.preprocessing import LabelEncoder\n",
        "labelencoder_Y = LabelEncoder()\n",
        "Y = labelencoder_Y.fit_transform(Y)\n",
        "# print(Y)\n"
      ],
      "execution_count": null,
      "outputs": []
    },
    {
      "cell_type": "markdown",
      "metadata": {
        "id": "TgeKV9HNY_p8"
      },
      "source": [
        "# **data visualizing**"
      ]
    },
    {
      "cell_type": "code",
      "metadata": {
        "colab": {
          "base_uri": "https://localhost:8080/",
          "height": 268
        },
        "id": "JJWhmrfgd2dj",
        "outputId": "0f2ef750-7bfa-4fda-c453-262605689848"
      },
      "source": [
        "colormap=np.array(['r','g'])\n",
        "plt.figure(1)\n",
        "\n",
        "plt.scatter(X[:,2],X[:, 3],c=colormap[Y])\n",
        "labels=np.unique(Y)\n",
        "plt.legend(labels)\n",
        "\n",
        "plt.show()"
      ],
      "execution_count": null,
      "outputs": [
        {
          "output_type": "display_data",
          "data": {
            "image/png": "[encoded data removed]",
            "text/plain": [
              "<Figure size 432x288 with 1 Axes>"
            ]
          },
          "metadata": {
            "tags": []
          }
        }
      ]
    },
    {
      "cell_type": "code",
      "metadata": {
        "colab": {
          "base_uri": "https://localhost:8080/",
          "height": 268
        },
        "id": "9Tp9sCnriunm",
        "outputId": "3a37d070-abde-4b4b-fee7-931939a4dd2f"
      },
      "source": [
        "plt.scatter(X[:,0],X[:,3],c=colormap[Y])\n",
        "labels=np.unique(Y)\n",
        "plt.legend(labels)\n",
        "\n",
        "plt.show()"
      ],
      "execution_count": null,
      "outputs": [
        {
          "output_type": "display_data",
          "data": {
            "image/png": "[encoded data removed]",
            "text/plain": [
              "<Figure size 432x288 with 1 Axes>"
            ]
          },
          "metadata": {
            "tags": []
          }
        }
      ]
    },
    {
      "cell_type": "markdown",
      "metadata": {
        "id": "rwy11jcsZLUS"
      },
      "source": [
        "# principal component analysis(PCA) "
      ]
    },
    {
      "cell_type": "markdown",
      "metadata": {
        "id": "8Oc9gBYqZXGp"
      },
      "source": [
        "# **feature means**"
      ]
    },
    {
      "cell_type": "code",
      "metadata": {
        "id": "j3t_5nMif-VT"
      },
      "source": [
        "mean_vectors=list()\n",
        "for i in range(30):\n",
        "  means=X[:,i].mean()\n",
        "  mean_vectors.append(means)"
      ],
      "execution_count": null,
      "outputs": []
    },
    {
      "cell_type": "markdown",
      "metadata": {
        "id": "IbFmFAbvZjVb"
      },
      "source": [
        "# **#definning covarince**"
      ]
    },
    {
      "cell_type": "code",
      "metadata": {
        "id": "AJMIUx6PQ7gn"
      },
      "source": [
        "#definning covarince\n",
        "def covar(x1,x2,m1,m2):\n",
        "    l=len(x1)\n",
        "    sum=0\n",
        "    for i in range(l):\n",
        "        sum=sum+((x1[i]-m1)*(x2[i]-m2))\n",
        "    return sum/float(l-1)"
      ],
      "execution_count": null,
      "outputs": []
    },
    {
      "cell_type": "markdown",
      "metadata": {
        "id": "eF4KXFDeZqNu"
      },
      "source": [
        "# **finding covariance matrix**"
      ]
    },
    {
      "cell_type": "code",
      "metadata": {
        "id": "6ImEZlLrRO7h"
      },
      "source": [
        "#finding covariance matrix\n",
        "co_mat =np.zeros((30,30), dtype=np.float64)\n",
        "for i in range(30):\n",
        "    for j in range(30):\n",
        "        co_mat[i][j]=covar(X[0:][i],X[0:][j],mean_vectors[i],mean_vectors[j])\n",
        "# print(co_mat)"
      ],
      "execution_count": null,
      "outputs": []
    },
    {
      "cell_type": "markdown",
      "metadata": {
        "id": "n5Evp7FQZvWx"
      },
      "source": [
        "**#finding eigen value and eigen vectors**"
      ]
    },
    {
      "cell_type": "code",
      "metadata": {
        "id": "79KG7iTuRcZ6"
      },
      "source": [
        "#finding eigen value and eigen vectors\n",
        "eigen_val=la.eig(co_mat)[0]\n",
        "eigen_vectors=la.eig(co_mat)[1]\n",
        "# print(eigen_vectors)\n",
        "#print(eigen_val)"
      ],
      "execution_count": null,
      "outputs": []
    },
    {
      "cell_type": "code",
      "metadata": {
        "id": "DgSJtWLYRiAc"
      },
      "source": [
        "v=eigen_vectors[:,0:3]\n"
      ],
      "execution_count": null,
      "outputs": []
    },
    {
      "cell_type": "markdown",
      "metadata": {
        "id": "s1UXA3vnZ44Y"
      },
      "source": [
        "**#new feature space**"
      ]
    },
    {
      "cell_type": "code",
      "metadata": {
        "id": "KY33C6b7Ru6C"
      },
      "source": [
        "\n",
        "y=np.dot(X-mean_vectors,v)\n",
        "# print(y.shape)"
      ],
      "execution_count": null,
      "outputs": []
    },
    {
      "cell_type": "markdown",
      "metadata": {
        "id": "q7Fg7Kv3Z_pP"
      },
      "source": [
        "**data visualization after pca**"
      ]
    },
    {
      "cell_type": "code",
      "metadata": {
        "colab": {
          "base_uri": "https://localhost:8080/",
          "height": 268
        },
        "id": "q_qp2JEiSHi6",
        "outputId": "9cccfc1d-279a-44e4-ee31-d73d2c732310"
      },
      "source": [
        "plt.scatter(y[:,1],y[:,2],c=colormap[Y])\n",
        "labels=np.unique(Y)\n",
        "plt.legend(labels)\n",
        "\n",
        "plt.show()"
      ],
      "execution_count": null,
      "outputs": [
        {
          "output_type": "display_data",
          "data": {
            "image/png": "[encoded data removed]",
            "text/plain": [
              "<Figure size 432x288 with 1 Axes>"
            ]
          },
          "metadata": {
            "tags": []
          }
        }
      ]
    },
    {
      "cell_type": "code",
      "metadata": {
        "id": "0BSqY2-lS3JM"
      },
      "source": [
        "from sklearn.model_selection import train_test_split\n",
        "X_train, X_test, Y_train, Y_test = train_test_split(y, Y, test_size = 0.25, random_state = 0)"
      ],
      "execution_count": null,
      "outputs": []
    },
    {
      "cell_type": "code",
      "metadata": {
        "id": "HuaAnJgWTVAJ"
      },
      "source": [
        "from sklearn.naive_bayes import GaussianNB\n",
        "classifier = GaussianNB()\n",
        "classifier.fit(X_train,Y_train)\n",
        "pred=classifier.predict(X_test)"
      ],
      "execution_count": null,
      "outputs": []
    },
    {
      "cell_type": "markdown",
      "metadata": {
        "id": "MxP_8o3taY2H"
      },
      "source": [
        "# **accuracy**"
      ]
    },
    {
      "cell_type": "code",
      "metadata": {
        "id": "u8bPkCFKXtKp"
      },
      "source": [
        "def accuracy(x,y):\n",
        "    acc=np.sum(x==y)/len(x)\n",
        "    return acc"
      ],
      "execution_count": null,
      "outputs": []
    },
    {
      "cell_type": "code",
      "metadata": {
        "colab": {
          "base_uri": "https://localhost:8080/"
        },
        "id": "ZHajVxvcXv7i",
        "outputId": "f0f39166-0dab-4e62-9b8b-88efb2a341d2"
      },
      "source": [
        "print(accuracy(pred,Y_test))"
      ],
      "execution_count": null,
      "outputs": [
        {
          "output_type": "stream",
          "text": [
            "0.9370629370629371\n"
          ],
          "name": "stdout"
        }
      ]
    },
    {
      "cell_type": "code",
      "metadata": {
        "id": "OEORaNhQakq-"
      },
      "source": [
        "from sklearn.model_selection import train_test_split\n",
        "from sklearn.naive_bayes import GaussianNB\n",
        "accuracy_list=list()\n",
        "for i in range(1,31):\n",
        "  v=eigen_vectors[:,0:i]\n",
        "  y=np.dot(X-mean_vectors,v)\n",
        "  X_train, X_test, Y_train, Y_test = train_test_split(y, Y, test_size = 0.25, random_state = 0)\n",
        "  classifier = GaussianNB()\n",
        "  classifier.fit(X_train,Y_train)\n",
        "  pred=classifier.predict(X_test)\n",
        "  acc=accuracy(pred,Y_test) \n",
        "  accuracy_list.append(acc)\n",
        "# print(accuracy_list)"
      ],
      "execution_count": null,
      "outputs": []
    },
    {
      "cell_type": "code",
      "metadata": {
        "colab": {
          "base_uri": "https://localhost:8080/",
          "height": 302
        },
        "id": "cCugVYNwb4dM",
        "outputId": "da6f1f35-9fc5-4bc7-9a10-3d523e19a6ae"
      },
      "source": [
        "n = np.arange(30)\n",
        "plt.plot(n,accuracy_list)\n",
        "plt.xlabel(\"number of first n highest magnitude eigen value\")\n",
        "plt.ylabel(\"accuracy\")\n",
        "plt.show"
      ],
      "execution_count": null,
      "outputs": [
        {
          "output_type": "execute_result",
          "data": {
            "text/plain": [
              "<function matplotlib.pyplot.show>"
            ]
          },
          "metadata": {
            "tags": []
          },
          "execution_count": 25
        },
        {
          "output_type": "display_data",
          "data": {
            "image/png": "[encoded data removed]",
            "text/plain": [
              "<Figure size 432x288 with 1 Axes>"
            ]
          },
          "metadata": {
            "tags": []
          }
        }
      ]
    },
    {
      "cell_type": "code",
      "metadata": {
        "id": "okt7YraijQNx"
      },
      "source": [
        "from sklearn.linear_model import LogisticRegression\n",
        "\n",
        "accuracy_list=list()\n",
        "for i in range(1,31):\n",
        "  v=eigen_vectors[:,0:i]\n",
        "  y=np.dot(X-mean_vectors,v)\n",
        "  X_train, X_test, Y_train, Y_test = train_test_split(y, Y, test_size = 0.25, random_state = 0)\n",
        "  classifier = LogisticRegression(random_state = 0)\n",
        "  classifier.fit(X_train,Y_train)\n",
        "  pred=classifier.predict(X_test)\n",
        "  acc=accuracy(pred,Y_test) \n",
        "  accuracy_list.append(acc)\n"
      ],
      "execution_count": null,
      "outputs": []
    },
    {
      "cell_type": "code",
      "metadata": {
        "colab": {
          "base_uri": "https://localhost:8080/",
          "height": 302
        },
        "id": "SNns1jCHj1GU",
        "outputId": "1ac918c8-b7da-4833-feab-0e2718dcd480"
      },
      "source": [
        "n = np.arange(30)\n",
        "plt.plot(n,accuracy_list)\n",
        "plt.xlabel(\"number of first n highest magnitude eigen value\")\n",
        "plt.ylabel(\"accuracy\")\n",
        "plt.show"
      ],
      "execution_count": null,
      "outputs": [
        {
          "output_type": "execute_result",
          "data": {
            "text/plain": [
              "<function matplotlib.pyplot.show>"
            ]
          },
          "metadata": {
            "tags": []
          },
          "execution_count": 27
        },
        {
          "output_type": "display_data",
          "data": {
            "image/png": "[encoded data removed]",
            "text/plain": [
              "<Figure size 432x288 with 1 Axes>"
            ]
          },
          "metadata": {
            "tags": []
          }
        }
      ]
    },
    {
      "cell_type": "code",
      "metadata": {
        "id": "wj8KK31BlMhv"
      },
      "source": [
        "from sklearn.svm import SVC\n",
        "\n",
        "accuracy_list=list()\n",
        "for i in range(1,31):\n",
        "  v=eigen_vectors[:,0:i]\n",
        "  y=np.dot(X-mean_vectors,v)\n",
        "  X_train, X_test, Y_train, Y_test = train_test_split(y, Y, test_size = 0.25, random_state = 0)\n",
        "  classifier = SVC(kernel = 'linear', random_state = 0)\n",
        "  classifier.fit(X_train,Y_train)\n",
        "  pred=classifier.predict(X_test)\n",
        "  acc=accuracy(pred,Y_test) \n",
        "  accuracy_list.append(acc)\n",
        "# print(accuracy_list)\n"
      ],
      "execution_count": null,
      "outputs": []
    },
    {
      "cell_type": "code",
      "metadata": {
        "colab": {
          "base_uri": "https://localhost:8080/",
          "height": 304
        },
        "id": "JxrRyrL1kSXv",
        "outputId": "c70767f7-341e-495d-8891-11d8280ce7b1"
      },
      "source": [
        "n = np.arange(30)\n",
        "plt.plot(n,accuracy_list)\n",
        "plt.xlabel(\"number of first n highest magnitude eigen value\")\n",
        "plt.ylabel(\"accuracy\")\n",
        "plt.show"
      ],
      "execution_count": null,
      "outputs": [
        {
          "output_type": "execute_result",
          "data": {
            "text/plain": [
              "<function matplotlib.pyplot.show>"
            ]
          },
          "metadata": {
            "tags": []
          },
          "execution_count": 29
        },
        {
          "output_type": "display_data",
          "data": {
            "image/png": "[encoded data removed]",
            "text/plain": [
              "<Figure size 432x288 with 1 Axes>"
            ]
          },
          "metadata": {
            "tags": []
          }
        }
      ]
    },
    {
      "cell_type": "code",
      "metadata": {
        "id": "Gi5YUmbGmTW7"
      },
      "source": [
        "from sklearn.neighbors import KNeighborsClassifier\n",
        "\n",
        "accuracy_list=list()\n",
        "for i in range(1,31):\n",
        "  v=eigen_vectors[:,0:i]\n",
        "  y=np.dot(X-mean_vectors,v)\n",
        "  X_train, X_test, Y_train, Y_test = train_test_split(y, Y, test_size = 0.25, random_state = 0)\n",
        "  classifier = KNeighborsClassifier(n_neighbors = 5, metric = 'minkowski', p = 2)\n",
        "  classifier.fit(X_train,Y_train)\n",
        "  pred=classifier.predict(X_test)\n",
        "  acc=accuracy(pred,Y_test) \n",
        "  accuracy_list.append(acc)\n",
        "# print(accuracy_list)"
      ],
      "execution_count": null,
      "outputs": []
    },
    {
      "cell_type": "code",
      "metadata": {
        "colab": {
          "base_uri": "https://localhost:8080/",
          "height": 302
        },
        "id": "XGGUMsGTmiGI",
        "outputId": "715b7f0c-764f-4e8c-8749-7f490ae56e08"
      },
      "source": [
        "n = np.arange(30)\n",
        "plt.plot(n,accuracy_list)\n",
        "plt.xlabel(\"number of first n highest magnitude eigen value\")\n",
        "plt.ylabel(\"accuracy\")\n",
        "plt.show"
      ],
      "execution_count": null,
      "outputs": [
        {
          "output_type": "execute_result",
          "data": {
            "text/plain": [
              "<function matplotlib.pyplot.show>"
            ]
          },
          "metadata": {
            "tags": []
          },
          "execution_count": 31
        },
        {
          "output_type": "display_data",
          "data": {
            "image/png": "[encoded data removed]",
            "text/plain": [
              "<Figure size 432x288 with 1 Axes>"
            ]
          },
          "metadata": {
            "tags": []
          }
        }
      ]
    },
    {
      "cell_type": "markdown",
      "metadata": {
        "id": "k6OuSEoDqG9J"
      },
      "source": [
        "# **linear discriminant analysis**"
      ]
    },
    {
      "cell_type": "markdown",
      "metadata": {
        "id": "wsyiQSBFpL6u"
      },
      "source": [
        "**separating class**"
      ]
    },
    {
      "cell_type": "code",
      "metadata": {
        "id": "RCYjN1EIo5R_"
      },
      "source": [
        "X1 = dataset.iloc[:, 1:32].values\n",
        "W1=list()\n",
        "W2=list()\n",
        "for i in range(len(X1[:,0])):\n",
        "  if X1[:,0][i]=='M':\n",
        "    W1.append(X1[i,1:])\n",
        "    \n",
        "  else:\n",
        "    W2.append(X1[i,1:])\n",
        "W1=np.array(W1) \n",
        "W2=np.array(W2)  \n"
      ],
      "execution_count": null,
      "outputs": []
    },
    {
      "cell_type": "markdown",
      "metadata": {
        "id": "XafCqDaLpRuC"
      },
      "source": [
        "**means of each class**"
      ]
    },
    {
      "cell_type": "code",
      "metadata": {
        "id": "FHlYRtWpvi4P"
      },
      "source": [
        "mu1=list()\n",
        "mu2=list()\n",
        "for i in range(30):\n",
        "  means=W1[:,i].mean()\n",
        "  mu1.append(means)\n",
        "for i in range(30):\n",
        "  means=W2[:,i].mean()\n",
        "  mu2.append(means)\n"
      ],
      "execution_count": null,
      "outputs": []
    },
    {
      "cell_type": "markdown",
      "metadata": {
        "id": "ydqPwPSLpaot"
      },
      "source": [
        "**covarience matrix of class 1**"
      ]
    },
    {
      "cell_type": "code",
      "metadata": {
        "id": "0WZz9b4s2RuY"
      },
      "source": [
        "S1 =np.zeros((30,30), dtype=np.float64)\n",
        "for i in range(30):\n",
        "    for j in range(30):\n",
        "        S1[i][j]=covar(W1[0:][i],W2[0:][j],mu1[i],mu1[j])"
      ],
      "execution_count": null,
      "outputs": []
    },
    {
      "cell_type": "markdown",
      "metadata": {
        "id": "kdcxL0Japh1I"
      },
      "source": [
        "**covarience matrix of class 2**"
      ]
    },
    {
      "cell_type": "code",
      "metadata": {
        "id": "gqc28_Y02epr"
      },
      "source": [
        "S2=np.zeros((30,30), dtype=np.float64)\n",
        "for i in range(30):\n",
        "    for j in range(30):\n",
        "        S2[i][j]=covar(W2[0:][i],W2[0:][j],mu2[i],mu2[j])"
      ],
      "execution_count": null,
      "outputs": []
    },
    {
      "cell_type": "code",
      "metadata": {
        "id": "IEPfkIA-4gOX"
      },
      "source": [
        "mu1=np.array([mu1])\n",
        "mu2=np.array([mu2])\n",
        "m=mu1-mu2\n",
        "\n",
        "m1=m.transpose()\n",
        "# print(m.shape)\n",
        "# print(m1.shape)\n"
      ],
      "execution_count": null,
      "outputs": []
    },
    {
      "cell_type": "markdown",
      "metadata": {
        "id": "oOuyYFVupyC7"
      },
      "source": [
        "**within class scatter and between class scatter matrix**"
      ]
    },
    {
      "cell_type": "code",
      "metadata": {
        "id": "5NnUD2TU23O8"
      },
      "source": [
        "Sw=S1+S2\n",
        "Sb=np.dot(m1,m)\n",
        "Sw_inv=np.linalg.inv(Sw)\n",
        "Sw_inv_Sb=np.dot(Sw_inv,Sb)"
      ],
      "execution_count": null,
      "outputs": []
    },
    {
      "cell_type": "markdown",
      "metadata": {
        "id": "rkjBZhLvqqFN"
      },
      "source": [
        "**eigen value and eigen vector**"
      ]
    },
    {
      "cell_type": "code",
      "metadata": {
        "id": "Ck1Ejcqw8Kq-"
      },
      "source": [
        "eigen_val=la.eig(Sw_inv_Sb)[0]\n",
        "eigen_vectors=la.eig(Sw_inv_Sb)[1]\n",
        "\n"
      ],
      "execution_count": null,
      "outputs": []
    },
    {
      "cell_type": "markdown",
      "metadata": {
        "id": "L8CKAlbYqoph"
      },
      "source": [
        "sorting eigen value and corresponding eigen vectors"
      ]
    },
    {
      "cell_type": "code",
      "metadata": {
        "colab": {
          "base_uri": "https://localhost:8080/"
        },
        "id": "qr8_jy-kC4aG",
        "outputId": "999dd0f2-3c8f-473c-d82e-6fbb155a59b6"
      },
      "source": [
        "pairs = [(np.abs(eigen_val[i]), eigen_vectors[:,i]) for i in range(len(eigen_val))]\n",
        "pairs = sorted(pairs, key=lambda x: x[0], reverse=True)\n",
        "\n",
        "pairs=np.array(pairs)\n"
      ],
      "execution_count": null,
      "outputs": [
        {
          "output_type": "stream",
          "text": [
            "[ 0.36275654+0.j -0.13747024+0.j -0.25506876+0.j -0.00170901+0.j\n",
            "  0.39847716+0.j -0.03923164+0.j -0.06997355+0.j  0.26582099+0.j\n",
            "  0.19152753+0.j -0.20894231+0.j -0.1097654 +0.j -0.11597358+0.j\n",
            " -0.05614364+0.j  0.17952775+0.j  0.00354803+0.j -0.09922312+0.j\n",
            " -0.16589404+0.j -0.24661483+0.j  0.03220861+0.j -0.05031128+0.j\n",
            "  0.02247976+0.j  0.34339745+0.j  0.16140459+0.j -0.01273225+0.j\n",
            "  0.04168185+0.j  0.02206939+0.j -0.2749177 +0.j  0.12607622+0.j\n",
            " -0.25755303+0.j -0.03010401+0.j]\n"
          ],
          "name": "stdout"
        }
      ]
    },
    {
      "cell_type": "markdown",
      "metadata": {
        "id": "qtEHTpI2q_d1"
      },
      "source": [
        "taking first n eigen vectors and creating transform matrix"
      ]
    },
    {
      "cell_type": "code",
      "metadata": {
        "id": "DLcgPHI2oeJm"
      },
      "source": [
        "\n",
        "for i in range(1,8):\n",
        "  w_=list()\n",
        "  for j in range(i):\n",
        "    w=np.hstack((pairs[j-1][1].reshape(30,1))).real\n",
        "    w_.append(w)\n",
        "    w_1=np.array(w_).transpose()\n",
        "    X_lda = np.array(X.dot(w_1))\n",
        "  \n",
        "\n"
      ],
      "execution_count": null,
      "outputs": []
    },
    {
      "cell_type": "markdown",
      "metadata": {
        "id": "HoNjRvTyrKzZ"
      },
      "source": [
        "finding accuracy for logistic regression"
      ]
    },
    {
      "cell_type": "code",
      "metadata": {
        "colab": {
          "base_uri": "https://localhost:8080/"
        },
        "id": "So8UAXcAilEh",
        "outputId": "961006af-2e42-46aa-fc5c-82acaa9f855d"
      },
      "source": [
        "\n",
        "from sklearn.linear_model import LogisticRegression\n",
        "\n",
        "X_train, X_test, Y_train, Y_test = train_test_split(X_lda, Y, test_size = 0.25, random_state = 0)\n",
        "classifier = LogisticRegression(random_state = 0)\n",
        "classifier.fit(X_train,Y_train)\n",
        "pred=classifier.predict(X_test)\n",
        "acc=accuracy(pred,Y_test) \n",
        "print(acc)"
      ],
      "execution_count": null,
      "outputs": [
        {
          "output_type": "stream",
          "text": [
            "0.6293706293706294\n"
          ],
          "name": "stdout"
        }
      ]
    },
    {
      "cell_type": "markdown",
      "metadata": {
        "id": "pNEXiIq_1ttc"
      },
      "source": [
        "accuracy for Naive Bayes classifier"
      ]
    },
    {
      "cell_type": "code",
      "metadata": {
        "colab": {
          "base_uri": "https://localhost:8080/"
        },
        "id": "_di3ltvHnZOS",
        "outputId": "8b4e319f-a32d-4010-f18d-03df5926109f"
      },
      "source": [
        "from sklearn.naive_bayes import GaussianNB\n",
        "classifier = GaussianNB()\n",
        "classifier.fit(X_train,Y_train)\n",
        "pred=classifier.predict(X_test)\n",
        "acc=accuracy(pred,Y_test)\n",
        "print(acc)"
      ],
      "execution_count": null,
      "outputs": [
        {
          "output_type": "stream",
          "text": [
            "0.7062937062937062\n"
          ],
          "name": "stdout"
        }
      ]
    },
    {
      "cell_type": "markdown",
      "metadata": {
        "id": "ocEkSi0Y13HW"
      },
      "source": [
        "using SVM"
      ]
    },
    {
      "cell_type": "code",
      "metadata": {
        "colab": {
          "base_uri": "https://localhost:8080/"
        },
        "id": "ULTWlanIn774",
        "outputId": "cb0d459a-3797-48a5-bf5f-0fe3cf4d1416"
      },
      "source": [
        "classifier = SVC(kernel = 'linear', random_state = 0)\n",
        "classifier.fit(X_train,Y_train)\n",
        "pred=classifier.predict(X_test)\n",
        "acc=accuracy(pred,Y_test) \n",
        "\n",
        "print(acc)"
      ],
      "execution_count": null,
      "outputs": [
        {
          "output_type": "stream",
          "text": [
            "0.6293706293706294\n"
          ],
          "name": "stdout"
        }
      ]
    },
    {
      "cell_type": "markdown",
      "metadata": {
        "id": "pmRll1da17OF"
      },
      "source": [
        "using KNN"
      ]
    },
    {
      "cell_type": "code",
      "metadata": {
        "colab": {
          "base_uri": "https://localhost:8080/"
        },
        "id": "6mfaOCCZomtV",
        "outputId": "7fc77da5-0bf9-46ce-d1f5-3dcf19a9b84b"
      },
      "source": [
        "classifier = KNeighborsClassifier(n_neighbors = 5, metric = 'minkowski', p = 2)\n",
        "classifier.fit(X_train,Y_train)\n",
        "pred=classifier.predict(X_test)\n",
        "acc=accuracy(pred,Y_test) \n",
        "print(acc)"
      ],
      "execution_count": null,
      "outputs": [
        {
          "output_type": "stream",
          "text": [
            "0.7202797202797203\n"
          ],
          "name": "stdout"
        }
      ]
    },
    {
      "cell_type": "code",
      "metadata": {
        "colab": {
          "base_uri": "https://localhost:8080/",
          "height": 268
        },
        "id": "gWYiE-xI2MJy",
        "outputId": "63f49d5b-7602-4edb-f9b9-10914dd33cb0"
      },
      "source": [
        "plt.scatter(X_lda[:,1],X_lda[:,2],c=colormap[Y])\n",
        "labels=np.unique(Y)\n",
        "plt.legend(labels)\n",
        "\n",
        "plt.show()"
      ],
      "execution_count": null,
      "outputs": [
        {
          "output_type": "display_data",
          "data": {
            "image/png": "[encoded data removed]",
            "text/plain": [
              "<Figure size 432x288 with 1 Axes>"
            ]
          },
          "metadata": {
            "tags": []
          }
        }
      ]
    }
  ]
}