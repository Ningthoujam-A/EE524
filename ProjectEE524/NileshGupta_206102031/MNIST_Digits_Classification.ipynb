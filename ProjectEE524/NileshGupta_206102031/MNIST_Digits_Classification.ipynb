{
  "nbformat": 4,
  "nbformat_minor": 0,
  "metadata": {
    "colab": {
      "name": "MNIST_Digits_Classification",
      "provenance": [],
      "collapsed_sections": [],
      "authorship_tag": "ABX9TyMNcosf4RbD5Aa4DdWKXbmS",
      "include_colab_link": true
    },
    "kernelspec": {
      "name": "python3",
      "display_name": "Python 3"
    }
  },
  "cells": [
    {
      "cell_type": "markdown",
      "metadata": {
        "id": "view-in-github",
        "colab_type": "text"
      },
      "source": [
        "<a href=\"https://colab.research.google.com/github/Bluelord/EE524/blob/assignments/ProjectEE524/NileshGupta_206102031/MNIST_Digits_Classification.ipynb\" target=\"_parent\"><img src=\"https://colab.research.google.com/assets/colab-badge.svg\" alt=\"Open In Colab\"/></a>"
      ]
    },
    {
      "cell_type": "markdown",
      "metadata": {
        "id": "WxxGI8bd-tVG"
      },
      "source": [
        "## **EE524 Lab Project**\n",
        "\n",
        "Name: **Nilesh Gupta**\n",
        "Roll No.:- **206102131**\n",
        "\n",
        "---\n",
        "\n"
      ]
    },
    {
      "cell_type": "markdown",
      "metadata": {
        "id": "NFNcvU2gz8qh"
      },
      "source": [
        "## **MNIST handwritten digits Classification using KNN, SVM & CNN.**"
      ]
    },
    {
      "cell_type": "code",
      "metadata": {
        "id": "9ZlHzmSmCHLd"
      },
      "source": [
        "# Importing essential Libraries\n",
        "\n",
        "import numpy as np\n",
        "import pandas as pd\n",
        "import gzip\n",
        "import matplotlib.pyplot as plt\n",
        "\n",
        "from sklearn.preprocessing import StandardScaler\n",
        "from sklearn.decomposition import PCA\n",
        "from sklearn.model_selection import train_test_split\n",
        "\n",
        "from sklearn.neighbors import KNeighborsClassifier\n",
        "from sklearn.metrics import classification_report\n",
        "from skimage import exposure\n",
        "\n",
        "from sklearn import metrics\n",
        "from sklearn.metrics import confusion_matrix\n",
        "from sklearn.svm import SVC\n",
        "\n",
        "from keras.models import Sequential\n",
        "from keras.layers import Dense\n",
        "from keras.layers import Dropout\n",
        "from keras.layers import Flatten\n",
        "from keras.layers.convolutional import Conv2D\n",
        "from keras.layers.convolutional import MaxPooling2D\n",
        "from keras.utils import np_utils"
      ],
      "execution_count": null,
      "outputs": []
    },
    {
      "cell_type": "code",
      "metadata": {
        "id": "uS0WI3D3KqBM"
      },
      "source": [
        "# Mounting Drive for accessing the downloaded data.\n",
        "\n",
        "from google.colab import drive\n",
        "drive.mount('/content/drive')"
      ],
      "execution_count": null,
      "outputs": []
    },
    {
      "cell_type": "markdown",
      "metadata": {
        "id": "OGjnN60PkbbT"
      },
      "source": [
        "**The MNIST Dataset of handwritten digits**\n",
        "\n",
        "The [MNIST](http://yann.lecun.com/exdb/mnist/) Dataset contains 70,000 images of handwritten digits (0 to 9), divided into a 60,000 image training set and a 10,000 testing images.\n",
        "The images are 28x28 pixel images; Four files are available on this site:\n",
        "*   train-images-idx3-ubyte.gz:  training set images\n",
        "*   train-labels-idx1-ubyte.gz:  training set labels\n",
        "*   t10k-images-idx3-ubyte.gz:   test set images\n",
        "*   t10k-labels-idx1-ubyte.gz:   test set labels\n"
      ]
    },
    {
      "cell_type": "code",
      "metadata": {
        "id": "23AC59GgChJe"
      },
      "source": [
        "# Function for reading Image file\n",
        "def read_image_file(filename, images):\n",
        "    width = 28\n",
        "    height = 28\n",
        "    N = images\n",
        "    f = gzip.open(filename, 'r')\n",
        "    f.read(16) \n",
        "    buffer = f.read(width * height * N) # read in \"N\" images as binary data\n",
        "    data = np.frombuffer(buffer, dtype='uint8') # convert binary data to integers : 0 - 255\n",
        "    data = data.reshape(N, width, height, 1) # reshape to Nx28x28x1 (only 1 color channel, b/w)\n",
        "    f.close()\n",
        "    return data\n",
        "\n",
        "# Function for reading label file\n",
        "def read_label_file(filename, labels):\n",
        "    N = labels\n",
        "    f = gzip.open(filename, 'r')\n",
        "    f.read(8)\n",
        "    buffer = f.read(N) # read in \"N\" labels as binary data\n",
        "    data = np.frombuffer(buffer, dtype='uint8') # convert binary data to integers : 0 - 255\n",
        "    f.close()\n",
        "    return data"
      ],
      "execution_count": null,
      "outputs": []
    },
    {
      "cell_type": "code",
      "metadata": {
        "colab": {
          "base_uri": "https://localhost:8080/"
        },
        "id": "yDaWm6mTCxbr",
        "outputId": "ec7cb4f3-a033-475b-e0e3-1d993646c0e5"
      },
      "source": [
        "# Initially reading small no. of file for displaying the image.\n",
        "X_6 = read_image_file('/content/drive/MyDrive/Colab Notebooks/Datafiles/train-images-idx3-ubyte.gz', 6)\n",
        "y_6 = read_label_file('/content/drive/MyDrive/Colab Notebooks/Datafiles/train-labels-idx1-ubyte.gz', 6)\n",
        "\n",
        "# Shape of image and its labels\n",
        "X_6.shape, y_6.shape, y_6"
      ],
      "execution_count": null,
      "outputs": [
        {
          "output_type": "execute_result",
          "data": {
            "text/plain": [
              "((6, 28, 28, 1), (6,), array([5, 0, 4, 1, 9, 2], dtype=uint8))"
            ]
          },
          "metadata": {
            "tags": []
          },
          "execution_count": 4
        }
      ]
    },
    {
      "cell_type": "code",
      "metadata": {
        "colab": {
          "base_uri": "https://localhost:8080/",
          "height": 279
        },
        "id": "B_umJ7ZqDD6F",
        "outputId": "733f3900-d630-4c06-b993-bee8f7a69e05"
      },
      "source": [
        "# Ploting Loaded 6 images.\n",
        "fig = plt.figure()\n",
        "fig.subplots_adjust(hspace=0.4, wspace=0.4)\n",
        "for i in range(1, 7):\n",
        "    ax = fig.add_subplot(2, 3, i)\n",
        "    ax.imshow(X_6[i-1].squeeze())\n",
        "    ax.set_title(y_6[i-1])"
      ],
      "execution_count": null,
      "outputs": [
        {
          "output_type": "display_data",
          "data": {
            "image/png": "[encoded data removed]",
            "text/plain": [
              "<Figure size 432x288 with 6 Axes>"
            ]
          },
          "metadata": {
            "tags": [],
            "needs_background": "light"
          }
        }
      ]
    },
    {
      "cell_type": "code",
      "metadata": {
        "id": "0sh8zIt8DE6t",
        "colab": {
          "base_uri": "https://localhost:8080/"
        },
        "outputId": "1204682c-ef15-4209-f368-3b2f23af975f"
      },
      "source": [
        "# Importing all the images as train and test data.\n",
        "X_train = read_image_file('/content/drive/MyDrive/Colab Notebooks/Datafiles/train-images-idx3-ubyte.gz', 60000)\n",
        "y_train = read_label_file('/content/drive/MyDrive/Colab Notebooks/Datafiles/train-labels-idx1-ubyte.gz', 60000)\n",
        "X_test = read_image_file('/content/drive/MyDrive/Colab Notebooks/Datafiles/t10k-images-idx3-ubyte.gz', 10000)\n",
        "y_test = read_label_file('/content/drive/MyDrive/Colab Notebooks/Datafiles/t10k-labels-idx1-ubyte.gz', 10000)\n",
        "\n",
        "# Shape of train and test\n",
        "X_train.shape, X_test.shape"
      ],
      "execution_count": null,
      "outputs": [
        {
          "output_type": "execute_result",
          "data": {
            "text/plain": [
              "((60000, 28, 28, 1), (10000, 28, 28, 1))"
            ]
          },
          "metadata": {
            "tags": []
          },
          "execution_count": 6
        }
      ]
    },
    {
      "cell_type": "code",
      "metadata": {
        "id": "PAPg8QX2DNUk",
        "colab": {
          "base_uri": "https://localhost:8080/"
        },
        "outputId": "d70e6efd-4e43-431d-838c-3f063ec80513"
      },
      "source": [
        "# Conveting all the 28*28 pixels into 784 features by reshaping all the images.\n",
        "X_train = X_train.reshape(60000, 28*28)\n",
        "X_test = X_test.reshape(10000, 28*28)\n",
        "\n",
        "# Shape of dataset after reshaping\n",
        "X_train.shape, X_test.shape"
      ],
      "execution_count": null,
      "outputs": [
        {
          "output_type": "execute_result",
          "data": {
            "text/plain": [
              "((60000, 784), (10000, 784))"
            ]
          },
          "metadata": {
            "tags": []
          },
          "execution_count": 7
        }
      ]
    },
    {
      "cell_type": "code",
      "metadata": {
        "id": "L1j-HJjWNxPf"
      },
      "source": [
        "# It is mandatory before applying PCA to convert mean=0 and standard deviation =1 for each variable.\n",
        "\n",
        "scalar = StandardScaler()\n",
        "std_X_train = scalar.fit_transform(X_train)\n",
        "\n",
        "X_test = scalar.transform(X_test)"
      ],
      "execution_count": null,
      "outputs": []
    },
    {
      "cell_type": "code",
      "metadata": {
        "colab": {
          "base_uri": "https://localhost:8080/",
          "height": 280
        },
        "id": "3hmYQ83TMyhp",
        "outputId": "76866280-b533-4fbd-aea7-e17f5c0c7e86"
      },
      "source": [
        "# using SKlearn importing PCA for dimensionality redcution\n",
        "pca = PCA()\n",
        "pca.n_components = 784\n",
        "\n",
        "pca_data = pca.fit_transform(std_X_train)\n",
        "percentage_var_explained = pca.explained_variance_ / np.sum(pca.explained_variance_);\n",
        "cum_var_explained = np.cumsum(percentage_var_explained)\n",
        "\n",
        "# Plotting the PCA spectrum\n",
        "plt.figure(1, figsize=(6, 4))\n",
        "plt.plot(cum_var_explained, linewidth=2)\n",
        "plt.xlabel('n_components')\n",
        "plt.ylabel('Cumulative_explained_variance')\n",
        "plt.show()\n",
        "# If we take 250-dimensions, approx. 90% of variance is expalined."
      ],
      "execution_count": null,
      "outputs": [
        {
          "output_type": "display_data",
          "data": {
            "image/png": "[encoded data removed]",
            "text/plain": [
              "<Figure size 432x288 with 1 Axes>"
            ]
          },
          "metadata": {
            "tags": [],
            "needs_background": "light"
          }
        }
      ]
    },
    {
      "cell_type": "code",
      "metadata": {
        "id": "eFGxdOUpOwal"
      },
      "source": [
        "# Reducing the dimension to 250 fetures using \n",
        "n_components = 250\n",
        "pca = PCA(n_components=n_components, svd_solver='randomized', whiten=True).fit(std_X_train)\n",
        "\n",
        "X_train = pca.transform(std_X_train)\n",
        "X_test = pca.transform(X_test)"
      ],
      "execution_count": null,
      "outputs": []
    },
    {
      "cell_type": "markdown",
      "metadata": {
        "id": "r63koe2Y94W_"
      },
      "source": [
        "### **K-Nearest Neighbor Classification**"
      ]
    },
    {
      "cell_type": "code",
      "metadata": {
        "colab": {
          "base_uri": "https://localhost:8080/"
        },
        "id": "yXluf_ObkVfk",
        "outputId": "020c2166-53b5-4301-eaa1-402afeee6ca6"
      },
      "source": [
        "# taking 10% of the training data and use that for validation\n",
        "(trainData, valData, trainLabels, valLabels) = train_test_split(X_train, y_train, test_size=0.1, random_state=42)\n",
        "\n",
        "# Checking sizes of each data split\n",
        "print(\"training data points: {}\".format(trainLabels.shape))\n",
        "print(\"validation data points: {}\".format(valLabels.shape))\n",
        "print(\"testing data points: {}\".format(y_test.shape))\n"
      ],
      "execution_count": null,
      "outputs": [
        {
          "output_type": "stream",
          "text": [
            "training data points: (54000,)\n",
            "validation data points: (6000,)\n",
            "testing data points: (10000,)\n"
          ],
          "name": "stdout"
        }
      ]
    },
    {
      "cell_type": "code",
      "metadata": {
        "colab": {
          "base_uri": "https://localhost:8080/"
        },
        "id": "7geixaXmGZk8",
        "outputId": "d201d774-ddeb-492e-b418-b5ed4034730c"
      },
      "source": [
        "# initialize the values of k for our k-Nearest Neighbor classifier \n",
        "kVals = range(1, 15, 3)\n",
        "accuracies = []\n",
        "\n",
        "# loop over kVals\n",
        "for k in range(1, 15, 3):\n",
        "    # train the classifier with the current value of `k`\n",
        "    model = KNeighborsClassifier(n_neighbors=k)\n",
        "    model.fit(trainData, trainLabels)\n",
        "\n",
        "    # evaluate the model and print the accuracies list\n",
        "    score = model.score(valData, valLabels)\n",
        "    print(\"k=%d, accuracy=%.2f%%\" % (k, score * 100))\n",
        "    accuracies.append(score)"
      ],
      "execution_count": null,
      "outputs": [
        {
          "output_type": "stream",
          "text": [
            "k=1, accuracy=92.47%\n",
            "k=4, accuracy=91.78%\n",
            "k=7, accuracy=92.00%\n",
            "k=10, accuracy=91.37%\n",
            "k=13, accuracy=91.10%\n"
          ],
          "name": "stdout"
        }
      ]
    },
    {
      "cell_type": "code",
      "metadata": {
        "colab": {
          "base_uri": "https://localhost:8080/"
        },
        "id": "Hqkbc-9v_Tcm",
        "outputId": "012ea6f1-47a3-4d7b-ddaa-93c72ebbb584"
      },
      "source": [
        "# largest accuracy\n",
        "i = np.argmax(accuracies)\n",
        "print(\"k=%d achieved highest accuracy of %.2f%% on validation data\" % (kVals[i], accuracies[i] * 100))"
      ],
      "execution_count": null,
      "outputs": [
        {
          "output_type": "stream",
          "text": [
            "k=1 achieved highest accuracy of 92.47% on validation data\n"
          ],
          "name": "stdout"
        }
      ]
    },
    {
      "cell_type": "code",
      "metadata": {
        "colab": {
          "base_uri": "https://localhost:8080/"
        },
        "id": "GGQx7tXV_auy",
        "outputId": "0c840bca-52fc-4852-8dd3-bd9a312ffcdc"
      },
      "source": [
        "# The best value of k, retrain the classifier\n",
        "model = KNeighborsClassifier(n_neighbors=kVals[i])\n",
        "model.fit(X_train, y_train)\n",
        "\n",
        "# Predicting labels for the test set\n",
        "predictions = model.predict(X_test)\n",
        "\n",
        "# Evaluate performance of model for each of the digits\n",
        "print(\"EVALUATION ON TESTING DATA\")\n",
        "print(classification_report(y_test, predictions))"
      ],
      "execution_count": null,
      "outputs": [
        {
          "output_type": "stream",
          "text": [
            "EVALUATION ON TESTING DATA\n",
            "              precision    recall  f1-score   support\n",
            "\n",
            "           0       0.92      0.97      0.94       980\n",
            "           1       0.93      0.99      0.96      1135\n",
            "           2       0.94      0.88      0.91      1032\n",
            "           3       0.88      0.92      0.90      1010\n",
            "           4       0.93      0.92      0.92       982\n",
            "           5       0.90      0.88      0.89       892\n",
            "           6       0.95      0.96      0.96       958\n",
            "           7       0.90      0.91      0.91      1028\n",
            "           8       0.94      0.86      0.90       974\n",
            "           9       0.90      0.89      0.89      1009\n",
            "\n",
            "    accuracy                           0.92     10000\n",
            "   macro avg       0.92      0.92      0.92     10000\n",
            "weighted avg       0.92      0.92      0.92     10000\n",
            "\n"
          ],
          "name": "stdout"
        }
      ]
    },
    {
      "cell_type": "markdown",
      "metadata": {
        "id": "c_v0pdQ5ATV4"
      },
      "source": [
        "### **Support Vector Machine.**"
      ]
    },
    {
      "cell_type": "code",
      "metadata": {
        "colab": {
          "base_uri": "https://localhost:8080/"
        },
        "id": "S64JOao2HHxK",
        "outputId": "3ab83b0f-8548-492b-f5f7-6b3b1074441e"
      },
      "source": [
        "# linear model of SVC\n",
        "model_linear = SVC(kernel='linear')\n",
        "model_linear.fit(X_train, y_train)\n",
        "\n",
        "# prediction\n",
        "y_pred = model_linear.predict(X_test)\n",
        "\n",
        "# confusion matrix and accuracy, precision, recall\n",
        "print(\"accuracy:\", metrics.accuracy_score(y_true=y_test, y_pred=y_pred), \"\\n\")\n",
        "print(metrics.confusion_matrix(y_true=y_test, y_pred=y_pred))"
      ],
      "execution_count": null,
      "outputs": [
        {
          "output_type": "stream",
          "text": [
            "accuracy: 0.942 \n",
            "\n",
            "[[ 962    0    3    3    0    6    4    1    1    0]\n",
            " [   0 1117    4    2    0    2    2    2    6    0]\n",
            " [   9    8  968    7    7    2    7    7   15    2]\n",
            " [   5    1   11  947    1   15    2    9   18    1]\n",
            " [   1    0   10    3  937    0    5    4    6   16]\n",
            " [   9    4    4   35    5  803    6    1   22    3]\n",
            " [  10    2   11    1    9   10  914    0    1    0]\n",
            " [   1    4   27    6    7    1    0  959    2   21]\n",
            " [   6    6    9   20    9   23    7    8  884    2]\n",
            " [   4    9    2   11   23    2    0   23    6  929]]\n"
          ],
          "name": "stdout"
        }
      ]
    },
    {
      "cell_type": "code",
      "metadata": {
        "colab": {
          "base_uri": "https://localhost:8080/"
        },
        "id": "NMOlI3ItHOO4",
        "outputId": "e9de0a52-b831-4474-f38f-117d30f43b4a"
      },
      "source": [
        "#precision, recall and f1-score\n",
        "scores=metrics.classification_report(y_test, y_pred, labels=[0, 1, 2, 3, 4, 5, 6, 7, 8, 9])\n",
        "print(scores)"
      ],
      "execution_count": null,
      "outputs": [
        {
          "output_type": "stream",
          "text": [
            "              precision    recall  f1-score   support\n",
            "\n",
            "           0       0.96      0.98      0.97       980\n",
            "           1       0.97      0.98      0.98      1135\n",
            "           2       0.92      0.94      0.93      1032\n",
            "           3       0.91      0.94      0.93      1010\n",
            "           4       0.94      0.95      0.95       982\n",
            "           5       0.93      0.90      0.91       892\n",
            "           6       0.97      0.95      0.96       958\n",
            "           7       0.95      0.93      0.94      1028\n",
            "           8       0.92      0.91      0.91       974\n",
            "           9       0.95      0.92      0.94      1009\n",
            "\n",
            "    accuracy                           0.94     10000\n",
            "   macro avg       0.94      0.94      0.94     10000\n",
            "weighted avg       0.94      0.94      0.94     10000\n",
            "\n"
          ],
          "name": "stdout"
        }
      ]
    },
    {
      "cell_type": "code",
      "metadata": {
        "colab": {
          "base_uri": "https://localhost:8080/"
        },
        "id": "PUfkKgmodpj0",
        "outputId": "e6305167-f259-4f5a-b6ab-40f8c2d31a1c"
      },
      "source": [
        "# non-linear model using poly kernel, C=1, default value of gamma\n",
        "non_linear_model_poly = SVC(kernel='poly')\n",
        "non_linear_model_poly.fit(X_train, y_train)\n",
        "\n",
        "# prediction\n",
        "y_pred = non_linear_model_poly.predict(X_test)\n",
        "\n",
        "# confusion matrix and accuracy, precision, recall\n",
        "print(\"accuracy:\", metrics.accuracy_score(y_true=y_test, y_pred=y_pred), \"\\n\")\n",
        "print(metrics.confusion_matrix(y_true=y_test, y_pred=y_pred))"
      ],
      "execution_count": null,
      "outputs": [
        {
          "output_type": "stream",
          "text": [
            "accuracy: 0.8942 \n",
            "\n",
            "[[ 954    8    0    3    0    3    6    0    6    0]\n",
            " [   0 1128    2    0    0    0    4    0    1    0]\n",
            " [  10   89  848   32    7    0    2    7   36    1]\n",
            " [   1   55    5  912    2    4    4    5   17    5]\n",
            " [   0   50    4    2  898    1    2    0    3   22]\n",
            " [   3   96    3   42    3  696    7    1   35    6]\n",
            " [   9   48    4    0    5   11  872    0    9    0]\n",
            " [   2   76    9    5   15    0    0  847    2   72]\n",
            " [   3   39    3    9    6    9    3    3  892    7]\n",
            " [   4   50    4    9   26    1    0   12    8  895]]\n"
          ],
          "name": "stdout"
        }
      ]
    },
    {
      "cell_type": "code",
      "metadata": {
        "colab": {
          "base_uri": "https://localhost:8080/"
        },
        "id": "jaIDbFZLdxeo",
        "outputId": "ce204b4a-9d31-4d6f-9b56-cb363c2f8181"
      },
      "source": [
        "# precision, recall and f1-score\n",
        "scores=metrics.classification_report(y_test, y_pred, labels=[0, 1, 2, 3, 4, 5, 6, 7, 8, 9])\n",
        "print(scores)"
      ],
      "execution_count": null,
      "outputs": [
        {
          "output_type": "stream",
          "text": [
            "              precision    recall  f1-score   support\n",
            "\n",
            "           0       0.97      0.97      0.97       980\n",
            "           1       0.69      0.99      0.81      1135\n",
            "           2       0.96      0.82      0.89      1032\n",
            "           3       0.90      0.90      0.90      1010\n",
            "           4       0.93      0.91      0.92       982\n",
            "           5       0.96      0.78      0.86       892\n",
            "           6       0.97      0.91      0.94       958\n",
            "           7       0.97      0.82      0.89      1028\n",
            "           8       0.88      0.92      0.90       974\n",
            "           9       0.89      0.89      0.89      1009\n",
            "\n",
            "    accuracy                           0.89     10000\n",
            "   macro avg       0.91      0.89      0.90     10000\n",
            "weighted avg       0.91      0.89      0.90     10000\n",
            "\n"
          ],
          "name": "stdout"
        }
      ]
    },
    {
      "cell_type": "code",
      "metadata": {
        "colab": {
          "base_uri": "https://localhost:8080/"
        },
        "id": "rASPHq7ydsvb",
        "outputId": "86083e06-7443-4c32-e47d-5778041ee040"
      },
      "source": [
        "# non-linear model using rbf kernel, C=1, default value of gamma\n",
        "non_linear_model = SVC(kernel='rbf')\n",
        "non_linear_model.fit(X_train, y_train)\n",
        "\n",
        "# predict\n",
        "y_pred = non_linear_model.predict(X_test)\n",
        "\n",
        "# confusion matrix and accuracy, precision, recall\n",
        "print(\"accuracy:\", metrics.accuracy_score(y_true=y_test, y_pred=y_pred), \"\\n\")\n",
        "print(metrics.confusion_matrix(y_true=y_test, y_pred=y_pred))"
      ],
      "execution_count": null,
      "outputs": [
        {
          "output_type": "stream",
          "text": [
            "accuracy: 0.9591 \n",
            "\n",
            "[[ 958    0    3    3    1    6    7    1    1    0]\n",
            " [   0 1125    3    0    1    1    4    1    0    0]\n",
            " [   5    1  993    5    3    1    4    5   14    1]\n",
            " [   0    0   16  968    1    8    0   10    6    1]\n",
            " [   0    0   16    0  942    1    5    3    3   12]\n",
            " [   3    0   11   10    1  845   11    1    8    2]\n",
            " [   6    2    8    1    4    7  926    0    4    0]\n",
            " [   0    4   25    4    4    1    0  978    3    9]\n",
            " [   5    2   18    7    3   12    2    8  916    1]\n",
            " [   4    5   11   12   14    2    0   18    3  940]]\n"
          ],
          "name": "stdout"
        }
      ]
    },
    {
      "cell_type": "code",
      "metadata": {
        "colab": {
          "base_uri": "https://localhost:8080/"
        },
        "id": "-TtZCQQXDyzU",
        "outputId": "9107e5fe-214d-434a-f535-45480560e653"
      },
      "source": [
        "#precision, recall and f1-score\n",
        "scores=metrics.classification_report(y_test, y_pred, labels=[0, 1, 2, 3, 4, 5, 6, 7, 8, 9])\n",
        "print(scores)"
      ],
      "execution_count": null,
      "outputs": [
        {
          "output_type": "stream",
          "text": [
            "              precision    recall  f1-score   support\n",
            "\n",
            "           0       0.98      0.98      0.98       980\n",
            "           1       0.99      0.99      0.99      1135\n",
            "           2       0.90      0.96      0.93      1032\n",
            "           3       0.96      0.96      0.96      1010\n",
            "           4       0.97      0.96      0.96       982\n",
            "           5       0.96      0.95      0.95       892\n",
            "           6       0.97      0.97      0.97       958\n",
            "           7       0.95      0.95      0.95      1028\n",
            "           8       0.96      0.94      0.95       974\n",
            "           9       0.97      0.93      0.95      1009\n",
            "\n",
            "    accuracy                           0.96     10000\n",
            "   macro avg       0.96      0.96      0.96     10000\n",
            "weighted avg       0.96      0.96      0.96     10000\n",
            "\n"
          ],
          "name": "stdout"
        }
      ]
    },
    {
      "cell_type": "markdown",
      "metadata": {
        "id": "C7t3OflrBgRf"
      },
      "source": [
        "### **Convolution neural network**\n",
        "\n",
        "Explanation of the working of each layer in CNN model:\n",
        "*   layer1 is Conv2d layer which convolves the image using 32 filters each of size (5*5).\n",
        "*   layer2 is MaxPooling2D layer which picks the max value out of a matrix.\n",
        "*   layer3 is showing Dropout at a rate of 0.2.\n",
        "*   layer4 is flattening the output obtained from layer3 and this flatten output is passed to layer5.\n",
        "*   layer6 is a hidden layer of neural network containng 128 neurons.\n",
        "*   layer7 is the output layer having 10 neurons for 10 classes of output that is using the softmax function."
      ]
    },
    {
      "cell_type": "code",
      "metadata": {
        "id": "BlmZ83iQoRrr"
      },
      "source": [
        "# Importing all the images for CNN without any preprocessing \n",
        "X_train = read_image_file('/content/drive/MyDrive/Colab Notebooks/Datafiles/train-images-idx3-ubyte.gz', 60000)\n",
        "y_train = read_label_file('/content/drive/MyDrive/Colab Notebooks/Datafiles/train-labels-idx1-ubyte.gz', 60000)\n",
        "X_test = read_image_file('/content/drive/MyDrive/Colab Notebooks/Datafiles/t10k-images-idx3-ubyte.gz', 10000)\n",
        "y_test = read_label_file('/content/drive/MyDrive/Colab Notebooks/Datafiles/t10k-labels-idx1-ubyte.gz', 10000)"
      ],
      "execution_count": null,
      "outputs": []
    },
    {
      "cell_type": "code",
      "metadata": {
        "id": "QlMtVXYdFLjF"
      },
      "source": [
        "# reshaping\n",
        "X_train = X_train.reshape((X_train.shape[0], 28, 28, 1)).astype('float32')\n",
        "X_test = X_test.reshape((X_test.shape[0], 28, 28, 1)).astype('float32')\n",
        "# normalize inputs from 0-255 to 0-1\n",
        "X_train = X_train / 255\n",
        "X_test = X_test / 255\n",
        "# one hot encode outputs\n",
        "y_train = np_utils.to_categorical(y_train)\n",
        "y_test = np_utils.to_categorical(y_test)\n",
        "num_classes = y_test.shape[1]"
      ],
      "execution_count": null,
      "outputs": []
    },
    {
      "cell_type": "code",
      "metadata": {
        "id": "p-xzGOQuFX7Y"
      },
      "source": [
        "# defining CNN model\n",
        "def baseline_model():\n",
        "\t# create model\n",
        "\tmodel = Sequential()\n",
        "\tmodel.add(Conv2D(32, (5, 5), input_shape=(28, 28, 1), activation='relu'))\n",
        "\tmodel.add(MaxPooling2D())\n",
        "\tmodel.add(Dropout(0.2))\n",
        "\tmodel.add(Flatten())\n",
        "\tmodel.add(Dense(128, activation='relu'))\n",
        "\tmodel.add(Dense(num_classes, activation='softmax'))\n",
        "\t# Compile model\n",
        "\tmodel.compile(loss='categorical_crossentropy', optimizer='adam', metrics=['accuracy'])\n",
        "\treturn model"
      ],
      "execution_count": null,
      "outputs": []
    },
    {
      "cell_type": "code",
      "metadata": {
        "colab": {
          "base_uri": "https://localhost:8080/"
        },
        "id": "w0WV9rxlFc8B",
        "outputId": "30bd3c80-594a-41ef-80a0-b9b9897d2411"
      },
      "source": [
        "# building and ftting the model\n",
        "model = baseline_model()\n",
        "model.fit(X_train, y_train, validation_data=(X_test, y_test), epochs=10, batch_size=200)\n",
        "\n",
        "# Final evaluation of the model\n",
        "scores = model.evaluate(X_test, y_test, verbose=0)\n",
        "print(\"CNN Error: %.2f%%\" % (100-scores[1]*100))"
      ],
      "execution_count": null,
      "outputs": [
        {
          "output_type": "stream",
          "text": [
            "Epoch 1/10\n",
            "300/300 [==============================] - 30s 100ms/step - loss: 0.2440 - accuracy: 0.9291 - val_loss: 0.0864 - val_accuracy: 0.9748\n",
            "Epoch 2/10\n",
            "300/300 [==============================] - 29s 98ms/step - loss: 0.0707 - accuracy: 0.9790 - val_loss: 0.0472 - val_accuracy: 0.9844\n",
            "Epoch 3/10\n",
            "300/300 [==============================] - 30s 98ms/step - loss: 0.0495 - accuracy: 0.9850 - val_loss: 0.0406 - val_accuracy: 0.9867\n",
            "Epoch 4/10\n",
            "300/300 [==============================] - 30s 98ms/step - loss: 0.0406 - accuracy: 0.9875 - val_loss: 0.0362 - val_accuracy: 0.9882\n",
            "Epoch 5/10\n",
            "300/300 [==============================] - 30s 100ms/step - loss: 0.0310 - accuracy: 0.9908 - val_loss: 0.0328 - val_accuracy: 0.9888\n",
            "Epoch 6/10\n",
            "300/300 [==============================] - 30s 99ms/step - loss: 0.0261 - accuracy: 0.9917 - val_loss: 0.0345 - val_accuracy: 0.9878\n",
            "Epoch 7/10\n",
            "300/300 [==============================] - 29s 97ms/step - loss: 0.0213 - accuracy: 0.9933 - val_loss: 0.0335 - val_accuracy: 0.9884\n",
            "Epoch 8/10\n",
            "300/300 [==============================] - 29s 98ms/step - loss: 0.0184 - accuracy: 0.9942 - val_loss: 0.0334 - val_accuracy: 0.9887\n",
            "Epoch 9/10\n",
            "300/300 [==============================] - 30s 98ms/step - loss: 0.0163 - accuracy: 0.9949 - val_loss: 0.0337 - val_accuracy: 0.9892\n",
            "Epoch 10/10\n",
            "300/300 [==============================] - 30s 99ms/step - loss: 0.0134 - accuracy: 0.9958 - val_loss: 0.0340 - val_accuracy: 0.9899\n",
            "CNN Error: 1.01%\n"
          ],
          "name": "stdout"
        }
      ]
    },
    {
      "cell_type": "markdown",
      "metadata": {
        "id": "DhB7OdrMmWxu"
      },
      "source": [
        "CNN is primarily a good candidate for Image recognition. You could definitely use CNN for sequence data, but they shine in going to through huge amount of image and finding non-linear correlations.\n",
        "\n",
        "SVM are margin classifier and support different kernels to perform these classificiation. Where SVM suffer is predicting the class labels when the size of the class labels is huge.\n",
        "\n",
        "**CNN** gives higest accuracy compared to other two models."
      ]
    }
  ]
}