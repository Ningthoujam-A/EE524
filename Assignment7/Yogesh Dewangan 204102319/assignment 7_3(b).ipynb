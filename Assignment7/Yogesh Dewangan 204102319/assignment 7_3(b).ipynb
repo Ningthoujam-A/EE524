{
 "cells": [
  {
   "cell_type": "code",
   "execution_count": 42,
   "metadata": {},
   "outputs": [],
   "source": [
    "import numpy as np\n",
    "import matplotlib.pyplot as plt \n",
    "import seaborn as sns\n",
    "import pandas as pd"
   ]
  },
  {
   "cell_type": "code",
   "execution_count": 43,
   "metadata": {},
   "outputs": [],
   "source": [
    "def sigmoid(x):\n",
    "    return 1/ (1 + np.exp(-x))"
   ]
  },
  {
   "cell_type": "code",
   "execution_count": 44,
   "metadata": {},
   "outputs": [],
   "source": [
    "def sigmoid_deriv(x):\n",
    "    return sigmoid(x)*(1-sigmoid(x))"
   ]
  },
  {
   "cell_type": "code",
   "execution_count": 45,
   "metadata": {},
   "outputs": [],
   "source": [
    "def forward(x,w1,w2,predict=False):\n",
    "    a1 = np.matmul(x,w1)\n",
    "    z1 = sigmoid(a1)\n",
    "    bias = np.ones((len(z1),1))\n",
    "    z1 = np.concatenate((bias,z1),axis=1)\n",
    "    a2 = np.matmul(z1,w2)\n",
    "    z2 = sigmoid(a2)\n",
    "    if predict:\n",
    "        return z2\n",
    "    return a1, z1, a2, z2"
   ]
  },
  {
   "cell_type": "code",
   "execution_count": 46,
   "metadata": {},
   "outputs": [],
   "source": [
    "def backdrop(a2,z0,z1,z2,y):\n",
    "    delta2 = z2-y\n",
    "    Delta2 = np.matmul(z1.T,delta2)\n",
    "    delta1 = (delta2.dot(w2[1:,:].T))*sigmoid_deriv(a1)\n",
    "    Delta1 = np.matmul(z0.T,delta1)\n",
    "    return delta2,Delta1,Delta2"
   ]
  },
  {
   "cell_type": "code",
   "execution_count": 47,
   "metadata": {},
   "outputs": [],
   "source": [
    "X = np.array([[1,1,0],\n",
    "              [1,0,1,],\n",
    "              [1,0,0],\n",
    "              [1,1,1]])"
   ]
  },
  {
   "cell_type": "code",
   "execution_count": 48,
   "metadata": {},
   "outputs": [],
   "source": [
    "y = np.array([[1],[1],[0],[0]])"
   ]
  },
  {
   "cell_type": "code",
   "execution_count": 49,
   "metadata": {},
   "outputs": [],
   "source": [
    "w1 = np.random.randn(3,5)\n",
    "w2 = np.random.randn(6,1)\n"
   ]
  },
  {
   "cell_type": "code",
   "execution_count": 50,
   "metadata": {},
   "outputs": [],
   "source": [
    "lr = 0.09\n",
    "epochs = 15000\n",
    "costs = []\n",
    "m = len(X)"
   ]
  },
  {
   "cell_type": "code",
   "execution_count": 51,
   "metadata": {},
   "outputs": [
    {
     "name": "stdout",
     "output_type": "stream",
     "text": [
      "iteration: 0. Error: 0.5160544685145152\n",
      "iteration: 1000. Error: 0.47238931971059683\n",
      "iteration: 2000. Error: 0.3706501773274736\n",
      "iteration: 3000. Error: 0.1611504132353007\n",
      "iteration: 4000. Error: 0.06927501890454593\n",
      "iteration: 5000. Error: 0.0405075693254264\n",
      "iteration: 6000. Error: 0.02792091719455736\n",
      "iteration: 7000. Error: 0.021083924686099674\n",
      "iteration: 8000. Error: 0.01684795076653741\n",
      "iteration: 9000. Error: 0.013986549402704421\n",
      "iteration: 10000. Error: 0.011932809991443253\n",
      "iteration: 11000. Error: 0.01039130722550271\n",
      "iteration: 12000. Error: 0.009193908211999575\n",
      "iteration: 13000. Error: 0.008238256802056608\n",
      "iteration: 14000. Error: 0.007458641188616789\n"
     ]
    }
   ],
   "source": [
    "for i in range(epochs):\n",
    "    a1,z1,a2,z2 = forward(X,w1,w2)\n",
    "    \n",
    "    delta2,Delta1,Delta2 = backdrop(a2, X, z1, z2,y)\n",
    "    w1 -= lr*(1/m)*Delta1\n",
    "    w2 -= lr*(1/m)*Delta2\n",
    "    c = np.mean(np.abs(delta2))\n",
    "    costs.append(c)\n",
    "    if i % 1000 == 0:\n",
    "        print(f\"iteration: {i}. Error: {c}\")\n",
    "        "
   ]
  },
  {
   "cell_type": "code",
   "execution_count": 40,
   "metadata": {},
   "outputs": [
    {
     "name": "stdout",
     "output_type": "stream",
     "text": [
      "tarining completed\n"
     ]
    }
   ],
   "source": [
    "print(\"tarining completed\")"
   ]
  },
  {
   "cell_type": "code",
   "execution_count": 41,
   "metadata": {},
   "outputs": [
    {
     "name": "stdout",
     "output_type": "stream",
     "text": [
      "Percentages: \n",
      "[[0.99456713]\n",
      " [0.99034777]\n",
      " [0.00267381]\n",
      " [0.0101469 ]]\n",
      "Prediction: \n",
      "[[1.]\n",
      " [1.]\n",
      " [0.]\n",
      " [0.]]\n"
     ]
    },
    {
     "data": {
      "image/png": "[encoded data removed]",
      "text/plain": [
       "<Figure size 432x288 with 1 Axes>"
      ]
     },
     "metadata": {
      "needs_background": "light"
     },
     "output_type": "display_data"
    }
   ],
   "source": [
    "z3 = forward(X,w1,w2,True)\n",
    "print(\"Percentages: \")\n",
    "print(z3)\n",
    "print(\"Prediction: \")\n",
    "print(np.round(z3))\n",
    "\n",
    "plt.plot(costs)\n",
    "plt.show()"
   ]
  },
  {
   "cell_type": "code",
   "execution_count": null,
   "metadata": {},
   "outputs": [],
   "source": []
  },
  {
   "cell_type": "code",
   "execution_count": null,
   "metadata": {},
   "outputs": [],
   "source": []
  }
 ],
 "metadata": {
  "kernelspec": {
   "display_name": "Python 3",
   "language": "python",
   "name": "python3"
  },
  "language_info": {
   "codemirror_mode": {
    "name": "ipython",
    "version": 3
   },
   "file_extension": ".py",
   "mimetype": "text/x-python",
   "name": "python",
   "nbconvert_exporter": "python",
   "pygments_lexer": "ipython3",
   "version": "3.8.3"
  }
 },
 "nbformat": 4,
 "nbformat_minor": 4
}
