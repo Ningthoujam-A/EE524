{
 "cells": [
  {
   "cell_type": "code",
   "execution_count": 17,
   "metadata": {},
   "outputs": [
    {
     "name": "stdout",
     "output_type": "stream",
     "text": [
      "Using gradient descent, the minima of the function f(x)= x**2 + 3*x + 2 occurs at x= -1.50 and the corresponding minimum value of f(x) is -0.25\n"
     ]
    }
   ],
   "source": [
    "#1 Gradient descent on 1D function\n",
    "\n",
    "import sympy as sym\n",
    "import random\n",
    "\n",
    "# Feature x\n",
    "x = sym.Symbol('x')\n",
    "\n",
    "# Objective function f(x)\n",
    "f = x**2+(3*x)+2\n",
    "\n",
    "# Gradients wrt x\n",
    "grad_f = sym.diff(f, x)\n",
    "learn_rate = 0.45\n",
    "\n",
    "# Initialize the values of x randomly\n",
    "x_val = float(random.randrange(1, 500))/100\n",
    "\n",
    "# Values of gradients at initial value of x\n",
    "grad_f_val = grad_f.subs(x,x_val)\n",
    "\n",
    "\n",
    "# Apply gradient descent technique and update the value of x till convergence\n",
    "count = 0\n",
    "while grad_f_val != 0.00:\n",
    "    x_val = x_val - (learn_rate)*grad_f_val\n",
    "    grad_f_val = grad_f.subs(x,x_val)\n",
    "    grad_f_val = round(grad_f_val,2)\n",
    "    count += 1\n",
    "    if count>=100:\n",
    "        break\n",
    "\n",
    "# Minimizer x\n",
    "x_val = round(x_val,2)\n",
    "\n",
    "# Minimum value of objective function calculated using minimizer\n",
    "min1 = round(f.subs(x,x_val),2)\n",
    "print('Using gradient descent, the minima of the function f(x)=',f,'occurs at x=',x_val,'and the corresponding minimum value of f(x) is',min1)\n",
    "\n"
   ]
  },
  {
   "cell_type": "code",
   "execution_count": 18,
   "metadata": {},
   "outputs": [
    {
     "name": "stdout",
     "output_type": "stream",
     "text": [
      "Using gradient descent, the minima of the function f(x1,x2)= x1**2 + x2**2 occurs at x1= 0.0 ,x2= 0.0 and the corresponding minimum value is 0\n"
     ]
    }
   ],
   "source": [
    "#2 Gradient descent on 2D function\n",
    "\n",
    "import sympy as sym\n",
    "import random\n",
    "\n",
    "# Feature x1 and x2\n",
    "x1,x2 = sym.symbols('x1 x2')\n",
    "\n",
    "# Objective function f(x1,x2)\n",
    "f = x1**2 + x2**2\n",
    "\n",
    "# Gradients wrt x1 and x2\n",
    "grad_f1 = sym.diff(f,x1)\n",
    "grad_f2 = sym.diff(f,x2)\n",
    "learn_rate = 0.8\n",
    "\n",
    "# Initialize the values of x1 and x2 randomly\n",
    "x1_val = float(random.randrange(1, 500))/100\n",
    "x2_val = float(random.randrange(1, 500))/100\n",
    "\n",
    "# Values of gradients at initial values of x1 and x2\n",
    "grad_f1_val = grad_f1.subs(x1,x1_val).subs(x2,x2_val)\n",
    "grad_f2_val = grad_f2.subs(x1,x1_val).subs(x2,x2_val)\n",
    "\n",
    "\n",
    "\n",
    "# Apply gradient descent technique and update the value of x1 and x2 till convergence\n",
    "count = 0\n",
    "while not (grad_f1_val == 0.00 and grad_f2_val == 0.00):\n",
    "    x1_val = x1_val - (learn_rate)*grad_f1_val\n",
    "    x2_val = x2_val - (learn_rate)*grad_f2_val\n",
    "    grad_f1_val = grad_f1.subs(x1,x1_val).subs(x2,x2_val)\n",
    "    grad_f2_val = grad_f2.subs(x1,x1_val).subs(x2,x2_val)\n",
    "    grad_f1_val = round(grad_f1_val,2)\n",
    "    grad_f2_val = round(grad_f2_val,2)\n",
    "    count += 1\n",
    "    if count>=100:\n",
    "        break\n",
    "\n",
    "\n",
    "# Minimizer x1,x2\n",
    "x1_val = round(x1_val,2)\n",
    "x2_val = round(x2_val,2)\n",
    "\n",
    "# Minimum value of objective function calculated using minimizer\n",
    "min1 = round(f.subs(x1,x1_val).subs(x2,x2_val),2)\n",
    "print('Using gradient descent, the minima of the function f(x1,x2)=',f,'occurs at x1=',x1_val,',x2=',x2_val,'and the corresponding minimum value is',min1)\n",
    "\n",
    "\n"
   ]
  },
  {
   "cell_type": "code",
   "execution_count": 19,
   "metadata": {},
   "outputs": [
    {
     "data": {
      "image/png": "[encoded data removed]",
      "text/plain": [
       "<Figure size 432x288 with 1 Axes>"
      ]
     },
     "metadata": {
      "needs_background": "light"
     },
     "output_type": "display_data"
    }
   ],
   "source": [
    "#3 Perceptron for AND logic\n",
    "\n",
    "\n",
    "import random\n",
    "import numpy as np\n",
    "import matplotlib.pyplot as plt\n",
    "\n",
    "\n",
    "# Threshold and sigmoid function definitions\n",
    "def threshold(value):\n",
    "    if value>0.0:\n",
    "        return 1\n",
    "    else:\n",
    "        return 0\n",
    "\n",
    "def sigmoid(value):\n",
    "    temp = 1/(1+np.exp(-value))\n",
    "    if temp>0.5:\n",
    "        return 1\n",
    "    else:\n",
    "        return 0\n",
    "\n",
    "\n",
    "# Augmented form of Input data points\n",
    "x0 = np.array([1,1,1,1])\n",
    "x1 = np.array([0,0,1,1])\n",
    "x2 = np.array([0,1,0,1])\n",
    "\n",
    "# Matrix corresponding to input feature vectors\n",
    "X = np.array([x0,x1,x2])\n",
    "\n",
    "# Matrices to store class1 and class2 feature vectors\n",
    "C1 = np.zeros((2,1),dtype=int)\n",
    "C2 = np.zeros((2,1),dtype=int)\n",
    "\n",
    "# Size of training data samples\n",
    "n = X.shape[1]\n",
    "\n",
    "# Actual and predicted outputs\n",
    "y_act = np.array([0,0,0,1])\n",
    "y_pred = np.zeros(4,dtype=int)\n",
    "\n",
    "# Learning rate\n",
    "learn_rate = 0.7\n",
    "\n",
    "# Weight vector augmented with bias\n",
    "w = np.empty(3)\n",
    "for i in range(3):\n",
    "    w[i] = round(float(random.randrange(1,500))/100,2)\n",
    "    \n",
    "\n",
    "# No. of iterations\n",
    "count = 0\n",
    "j = 0\n",
    "# Calculating predicted value of y at each data sample\n",
    "while not np.all((y_act-y_pred==0)) and count<=100:\n",
    "    x = X[:,j].reshape(3)\n",
    "    y_pred[j] = sigmoid(np.dot(w,x))\n",
    "    # Go to next sample if predicted and actual outputs are same for an input sample\n",
    "    if y_act[j] == y_pred[j]:\n",
    "        j+=1\n",
    "    # Update the weights and start calculating the predicted output values from 1st data sample\n",
    "    else:\n",
    "        for i in range(3):\n",
    "            w[i] = w[i] + learn_rate*(y_act[j]-y_pred[j])*X[i][j]\n",
    "            w[i] = round(w[i],2)\n",
    "        j = 0\n",
    "    count+=1\n",
    "\n",
    "\n",
    "# Store the class1 and class2 data samples into separate matrices C1 & C2\n",
    "for j in range(n):\n",
    "    if y_pred[j] == 1:\n",
    "        temp = X[1:3,j].reshape((2,1))\n",
    "        C1 = np.append(C1,temp,axis=1)\n",
    "    else:\n",
    "        temp = X[1:3,j].reshape((2,1))\n",
    "        C2 = np.append(C2,temp,axis=1)\n",
    "\n",
    "      \n",
    "\n",
    "# Calculate the line equation based on the weights and bias and plot the line for input feature vectors\n",
    "a = np.linspace(0,1.5,10)\n",
    "b = (-w[0]-(w[1]*a))/w[2] \n",
    "# str1 = 'Decision boundary' + str(w[0]) + '+' + str(w[1]) + '*x1+' + str(w[2]) + '*x2=0'     \n",
    "fig = plt.figure()\n",
    "\n",
    "# Scatter plot the class1 and class2 data samples in separate colours\n",
    "\n",
    "plt.scatter(C1[0,1:],C1[1,1:],color='red',label='Samples of class1')\n",
    "plt.scatter(C2[0,1:],C2[1,1:],color='blue',label='Samples of class2')\n",
    "plt.plot(a,b,color='black',label='Decision boundary')\n",
    "plt.legend()\n",
    "plt.title('Plot of boolean AND logic with decision boundary')\n",
    "plt.xlabel('x1 values')\n",
    "plt.ylabel('x2 values')\n",
    "plt.grid()\n",
    "\n",
    "\n",
    "\n",
    "\n",
    "\n"
   ]
  },
  {
   "cell_type": "code",
   "execution_count": 20,
   "metadata": {},
   "outputs": [
    {
     "name": "stdout",
     "output_type": "stream",
     "text": [
      "Since the sample points of XOR are not linearly separable, single layer perceptron cant be used to classify the XOR data point\n"
     ]
    }
   ],
   "source": [
    "#4 Perceptron for XOR logic\n",
    "\n",
    "print('Since the sample points of XOR are not linearly separable, single layer perceptron cant be used to classify the XOR data points')\n"
   ]
  }
 ],
 "metadata": {
  "kernelspec": {
   "display_name": "Python 3",
   "language": "python",
   "name": "python3"
  },
  "language_info": {
   "codemirror_mode": {
    "name": "ipython",
    "version": 3
   },
   "file_extension": ".py",
   "mimetype": "text/x-python",
   "name": "python",
   "nbconvert_exporter": "python",
   "pygments_lexer": "ipython3",
   "version": "3.8.3"
  }
 },
 "nbformat": 4,
 "nbformat_minor": 4
}
