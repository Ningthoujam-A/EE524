{
 "cells": [
  {
   "cell_type": "markdown",
   "metadata": {},
   "source": [
    "## Gradient Descent\n"
   ]
  },
  {
   "cell_type": "code",
   "execution_count": 14,
   "metadata": {},
   "outputs": [],
   "source": [
    "import numpy as np\n",
    "import pandas as pd\n",
    "import matplotlib.pyplot as plt\n",
    "from scipy import misc"
   ]
  },
  {
   "cell_type": "markdown",
   "metadata": {},
   "source": [
    "### 2D function\n",
    " Let the function be\n",
    "f(x) = x^2 + 3x + 2\n",
    "Use the gradient descent algorithm to find the minima of this function."
   ]
  },
  {
   "cell_type": "code",
   "execution_count": 15,
   "metadata": {},
   "outputs": [
    {
     "data": {
      "image/png": "[encoded data removed]",
      "text/plain": [
       "<Figure size 432x288 with 1 Axes>"
      ]
     },
     "metadata": {
      "needs_background": "light"
     },
     "output_type": "display_data"
    },
    {
     "name": "stdout",
     "output_type": "stream",
     "text": [
      "The Minima of the function is:-1.4870016295875035,-0.2498310423666199 \n"
     ]
    }
   ],
   "source": [
    "def f(x):\n",
    "    return x**2+3*x+2\n",
    "\n",
    "x = np.linspace(-10.0, 10.0, 100)\n",
    "y = f(x)\n",
    "\n",
    "# ploting the function for overlaying the gradiant Descent points\n",
    "plt.plot(x, y,'r-')\n",
    "\n",
    "alpha = 0.1 # learning rate\n",
    "max_iteration = 1000\n",
    "precision = 0.0001 # stop condition\n",
    "\n",
    "x0 = 9 # Initial point for finding Minima\n",
    "y0 = f(x0)\n",
    "plt.scatter(x0, f(x0))\n",
    "# start with condition greater than precision (assumption)\n",
    "condition = precision + 10.0 \n",
    "iteration = 0 \n",
    "tmp_y = y0\n",
    "while condition > precision and iteration < max_iteration: # Stop condition\n",
    "    x0 = x0 - alpha * misc.derivative(f, x0) # Using the gradiant (Derivative)\n",
    "    y0 = f(x0)\n",
    "    iterration = iteration + 1\n",
    "    condition = abs( tmp_y - y0 )\n",
    "    tmp_y = y0\n",
    "   # print (x0,y0,condition)\n",
    "    plt.scatter(x0, y0)\n",
    "plt.xlabel(\"$x$\")\n",
    "plt.ylabel(\"$f(x)$ \")\n",
    "plt.title(\"Mniima using Gradient Descent\")\n",
    "plt.show()\n",
    "# The Minima of the Function\n",
    "print(\"The Minima of the function is:{},{} \".format(x0,y0,condition))"
   ]
  },
  {
   "cell_type": "markdown",
   "metadata": {},
   "source": [
    "### 3D function\n",
    "Let the function be\n",
    "f(x1, x2) = x1^2 + x2^2 Minimize this function using the gradient descent algorithm."
   ]
  },
  {
   "cell_type": "code",
   "execution_count": 16,
   "metadata": {},
   "outputs": [
    {
     "data": {
      "image/png": "[encoded data removed]",
      "text/plain": [
       "<Figure size 432x288 with 1 Axes>"
      ]
     },
     "metadata": {
      "needs_background": "light"
     },
     "output_type": "display_data"
    },
    {
     "name": "stdout",
     "output_type": "stream",
     "text": [
      "The Minima of the function is:1.0087402946598817e-22,9.145515647539412e-23 \n"
     ]
    }
   ],
   "source": [
    "def f(x1,x2):\n",
    "    return (x1**2 + x2**2);\n",
    "\n",
    "def partial_derivative(func, var=0, point=[]):\n",
    "    args = point[:]\n",
    "    def wraps(x):\n",
    "        args[var] = x\n",
    "        return func(*args)\n",
    "    return misc.derivative(wraps, point[var], dx = 1e-6)\n",
    "\n",
    "# Plot Function\n",
    "x1 = np.linspace(-10.0, 10.0, 100)\n",
    "x2 = np.linspace(-10.0, 10.0, 100)\n",
    "xx1,xx2 = np.meshgrid(x1,x2);\n",
    "z = (xx1**2 + xx2**2);\n",
    "h = plt.contourf(x1,x2,z)\n",
    "# Gradient Descent\n",
    "alpha = 0.1 # learning rate\n",
    "max_iteration = 1000\n",
    "precision = 0.0001 # stop condition\n",
    "# start point\n",
    "x1_0 = 9 \n",
    "x2_0 = 7 \n",
    "z0 = f(x1_0,x2_0)\n",
    "plt.scatter(x1_0,x2_0)\n",
    "\n",
    "condition = precision + 10.0 # start with cond greater than eps (assumption)\n",
    "iteration = 0 \n",
    "tmp_z0 = z0\n",
    "while condition > precision and iteration < max_iteration:\n",
    "    tmp_x1_0 = x1_0 - alpha * partial_derivative(f, 0, [x1_0,x2_0])\n",
    "    tmp_x2_0 = x2_0 - alpha * partial_derivative(f, 1, [x1_0,x2_0])\n",
    "    x1_0 = tmp_x1_0\n",
    "    x2_0 = tmp_x2_0\n",
    "    z0 = f(x1_0,x2_0)\n",
    "    iteration = iteration + 1\n",
    "    cond = abs( tmp_z0 - z0 )\n",
    "    tmp_z0 = z0\n",
    "    plt.scatter(x1_0, x2_0)\n",
    "plt.title(\"Gradient Descent\")\n",
    "plt.show()\n",
    "\n",
    "# The Minima of the Function\n",
    "print(\"The Minima of the function is:{},{} \".format(x1_0,x2_0,condition))"
   ]
  },
  {
   "cell_type": "markdown",
   "metadata": {},
   "source": [
    "### Boolean Function Learning\n",
    "Consider the boolean functions:\n",
    "y = f(x1, x2) = x1.x2\n",
    "y = f(x1, x2) = x1 ⊕ x2\n",
    "Train a Perceptron with 2 inputs, and 1 output to learn these functions.\n",
    "Use the threshold according to the function. Use the Perceptron Learning\n",
    "Algorithm for this. Plot the data points with the 2 output classes(True and\n",
    "False) and the boundary that you learnt using the Perceptron Learning\n",
    "Algorithm.\n"
   ]
  },
  {
   "cell_type": "code",
   "execution_count": 17,
   "metadata": {},
   "outputs": [],
   "source": [
    "# These are XOR inputs\n",
    "x=np.array([[0,0,1,1],\n",
    "            [0,1,0,1]])\n",
    "# These are XOR outputs\n",
    "y=np.array([[0,0,0,1]])\n",
    "# Number of inputs, output & hidden layer\n",
    "n_x = 2\n",
    "n_y = 1\n",
    "n_h = 2\n",
    "\n",
    "m = x.shape[1]\n",
    "alpha = 0.1                    # Learning rate\n",
    "w1 = np.random.rand(n_h,n_x)   # Weight matrix for hidden layer\n",
    "w2 = np.random.rand(n_y,n_h)   # Weight matrix for output layer\n",
    "losses = []"
   ]
  },
  {
   "cell_type": "code",
   "execution_count": 18,
   "metadata": {},
   "outputs": [],
   "source": [
    "# sigmoid activation function for hidden layer and output\n",
    "def sigmoid(z):\n",
    "    z= 1/(1+np.exp(-z))\n",
    "    return z\n",
    "\n",
    "# Forward propagation\n",
    "def forward_prop(w1,w2,x):\n",
    "    z1 = np.dot(w1,x)\n",
    "    a1 = sigmoid(z1)    \n",
    "    z2 = np.dot(w2,a1)\n",
    "    a2 = sigmoid(z2)\n",
    "    return z1,a1,z2,a2\n",
    "\n",
    "# Backward propagation\n",
    "def back_prop(m,w1,w2,z1,a1,z2,a2,y): \n",
    "    dz2 = a2-y\n",
    "    dw2 = np.dot(dz2,a1.T)/m\n",
    "    dz1 = np.dot(w2.T,dz2) * a1*(1-a1)\n",
    "    dw1 = np.dot(dz1,x.T)/m\n",
    "    dw1 = np.reshape(dw1,w1.shape)\n",
    "    dw2 = np.reshape(dw2,w2.shape)    \n",
    "    return dz2,dw2,dz1,dw1"
   ]
  },
  {
   "cell_type": "code",
   "execution_count": 19,
   "metadata": {},
   "outputs": [
    {
     "data": {
      "text/plain": [
       "Text(0, 0.5, 'Loss value')"
      ]
     },
     "execution_count": 19,
     "metadata": {},
     "output_type": "execute_result"
    },
    {
     "data": {
      "image/png": "[encoded data removed]",
      "text/plain": [
       "<Figure size 432x288 with 1 Axes>"
      ]
     },
     "metadata": {
      "needs_background": "light"
     },
     "output_type": "display_data"
    }
   ],
   "source": [
    "iterations = 5000\n",
    "for i in range(iterations):\n",
    "    z1,a1,z2,a2 = forward_prop(w1,w2,x)\n",
    "    loss = -(1/m)*np.sum(y*np.log(a2)+(1-y)*np.log(1-a2))\n",
    "    losses.append(loss)\n",
    "    da2,dw2,dz1,dw1 = back_prop(m,w1,w2,z1,a1,z2,a2,y)\n",
    "    w2 = w2-alpha*dw2\n",
    "    w1 = w1-alpha*dw1\n",
    "\n",
    "# We plot losses to see how our network is doing\n",
    "plt.plot(losses)\n",
    "plt.xlabel(\"EPOCHS\")\n",
    "plt.ylabel(\"Loss value\")"
   ]
  },
  {
   "cell_type": "code",
   "execution_count": 20,
   "metadata": {},
   "outputs": [],
   "source": [
    "# Predicting the test input\n",
    "def predict(w1,w2,input):\n",
    "    z1,a1,z2,a2 = forward_prop(w1,w2,test)\n",
    "    a2 = np.squeeze(a2)\n",
    "    if a2>=0.5:\n",
    "        print(\"For input\", [i[0] for i in input], \"output is 1\")\n",
    "    else:\n",
    "        print(\"For input\", [i[0] for i in input], \"output is 0\")"
   ]
  },
  {
   "cell_type": "code",
   "execution_count": 21,
   "metadata": {},
   "outputs": [
    {
     "name": "stdout",
     "output_type": "stream",
     "text": [
      "For input [1, 0] output is 0\n",
      "For input [0, 0] output is 0\n",
      "For input [0, 1] output is 0\n",
      "For input [1, 1] output is 0\n"
     ]
    }
   ],
   "source": [
    "test = np.array([[1],[0]])\n",
    "predict(w1,w2,test)\n",
    "test = np.array([[0],[0]])\n",
    "predict(w1,w2,test)\n",
    "test = np.array([[0],[1]])\n",
    "predict(w1,w2,test)\n",
    "test = np.array([[1],[1]])\n",
    "predict(w1,w2,test)"
   ]
  },
  {
   "cell_type": "code",
   "execution_count": 22,
   "metadata": {},
   "outputs": [],
   "source": [
    "# These are XOR Inputs & Output\n",
    "x=np.array([[0,0,1,1],[0,1,0,1]])\n",
    "# These are XOR outputs\n",
    "y=np.array([[0,1,1,0]])\n",
    "# Number of inputs, output and hidden layers\n",
    "n_x = 2\n",
    "n_y = 1\n",
    "n_h = 2\n",
    "\n",
    "m = x.shape[1]\n",
    "\n",
    "alpha = 0.1                    # Learning rate\n",
    "w1 = np.random.rand(n_h,n_x)   # Weight matrix for hidden layer\n",
    "w2 = np.random.rand(n_y,n_h)   # Weight matrix for output layer\n",
    "losses = []"
   ]
  },
  {
   "cell_type": "code",
   "execution_count": 23,
   "metadata": {},
   "outputs": [],
   "source": [
    "# sigmoid activation function for hidden layer and output\n",
    "def sigmoid(z):\n",
    "    z= 1/(1+np.exp(-z))\n",
    "    return z\n",
    "\n",
    "# Forward propagation\n",
    "def forward_prop(w1,w2,x):\n",
    "    z1 = np.dot(w1,x)\n",
    "    a1 = sigmoid(z1)    \n",
    "    z2 = np.dot(w2,a1)\n",
    "    a2 = sigmoid(z2)\n",
    "    return z1,a1,z2,a2\n",
    "\n",
    "# Backward propagation\n",
    "def back_prop(m,w1,w2,z1,a1,z2,a2,y):\n",
    "    dz2 = a2-y\n",
    "    dw2 = np.dot(dz2,a1.T)/m\n",
    "    dz1 = np.dot(w2.T,dz2) * a1*(1-a1)\n",
    "    dw1 = np.dot(dz1,x.T)/m\n",
    "    dw1 = np.reshape(dw1,w1.shape)\n",
    "    dw2 = np.reshape(dw2,w2.shape)    \n",
    "    return dz2,dw2,dz1,dw1"
   ]
  },
  {
   "cell_type": "code",
   "execution_count": 24,
   "metadata": {},
   "outputs": [
    {
     "data": {
      "text/plain": [
       "Text(0, 0.5, 'Loss value')"
      ]
     },
     "execution_count": 24,
     "metadata": {},
     "output_type": "execute_result"
    },
    {
     "data": {
      "image/png": "[encoded data removed]",
      "text/plain": [
       "<Figure size 432x288 with 1 Axes>"
      ]
     },
     "metadata": {
      "needs_background": "light"
     },
     "output_type": "display_data"
    }
   ],
   "source": [
    "\n",
    "iterations = 50000\n",
    "for i in range(iterations):\n",
    "    z1,a1,z2,a2 = forward_prop(w1,w2,x)\n",
    "    loss = -(1/m)*np.sum(y*np.log(a2)+(1-y)*np.log(1-a2))\n",
    "    losses.append(loss)\n",
    "    da2,dw2,dz1,dw1 = back_prop(m,w1,w2,z1,a1,z2,a2,y)\n",
    "    w2 = w2-alpha*dw2\n",
    "    w1 = w1-alpha*dw1\n",
    "# We plot losses to see how our network\n",
    "plt.plot(losses)\n",
    "plt.xlabel(\"EPOCHS\")\n",
    "plt.ylabel(\"Loss value\")"
   ]
  },
  {
   "cell_type": "code",
   "execution_count": 25,
   "metadata": {},
   "outputs": [],
   "source": [
    "# Predicting the test input.\n",
    "def predict(w1,w2,input):\n",
    "    z1,a1,z2,a2 = forward_prop(w1,w2,test)\n",
    "    a2 = np.squeeze(a2)\n",
    "    if a2>=0.5:\n",
    "        print(\"For input\", [i[0] for i in input], \"output is 1\")\n",
    "    else:\n",
    "        print(\"For input\", [i[0] for i in input], \"output is 0\")"
   ]
  },
  {
   "cell_type": "code",
   "execution_count": 26,
   "metadata": {},
   "outputs": [
    {
     "name": "stdout",
     "output_type": "stream",
     "text": [
      "For input [1, 0] output is 1\n",
      "For input [0, 0] output is 0\n",
      "For input [0, 1] output is 1\n",
      "For input [1, 1] output is 0\n"
     ]
    }
   ],
   "source": [
    "\n",
    "test = np.array([[1],[0]])\n",
    "predict(w1,w2,test)\n",
    "test = np.array([[0],[0]])\n",
    "predict(w1,w2,test)\n",
    "test = np.array([[0],[1]])\n",
    "predict(w1,w2,test)\n",
    "test = np.array([[1],[1]])\n",
    "predict(w1,w2,test)"
   ]
  },
  {
   "cell_type": "code",
   "execution_count": null,
   "metadata": {},
   "outputs": [],
   "source": []
  },
  {
   "cell_type": "code",
   "execution_count": null,
   "metadata": {},
   "outputs": [],
   "source": []
  }
 ],
 "metadata": {
  "kernelspec": {
   "display_name": "Python 3",
   "language": "python",
   "name": "python3"
  },
  "language_info": {
   "codemirror_mode": {
    "name": "ipython",
    "version": 3
   },
   "file_extension": ".py",
   "mimetype": "text/x-python",
   "name": "python",
   "nbconvert_exporter": "python",
   "pygments_lexer": "ipython3",
   "version": "3.8.3"
  }
 },
 "nbformat": 4,
 "nbformat_minor": 4
}
