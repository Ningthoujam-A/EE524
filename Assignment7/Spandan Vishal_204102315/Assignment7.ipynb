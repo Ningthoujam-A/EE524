{
  "nbformat": 4,
  "nbformat_minor": 0,
  "metadata": {
    "colab": {
      "name": "Assignment7.ipynb",
      "provenance": [],
      "collapsed_sections": []
    },
    "kernelspec": {
      "name": "python3",
      "display_name": "Python 3"
    }
  },
  "cells": [
    {
      "cell_type": "markdown",
      "metadata": {
        "id": "G4wf-LZNzlud"
      },
      "source": [
        "#Q1"
      ]
    },
    {
      "cell_type": "code",
      "metadata": {
        "id": "-v9cGx6OIqtS",
        "colab": {
          "base_uri": "https://localhost:8080/",
          "height": 590
        },
        "outputId": "93195b31-2d21-475a-f0c4-80894513d065"
      },
      "source": [
        "import numpy as np\n",
        "import matplotlib.pyplot as plt\n",
        "\n",
        "x_1 = 5 # Initial guess\n",
        "lr = 0.1 # Learning rate \n",
        "precision = 0.0001 #This tells us when to stop the algorithm\n",
        "step_size = 1 #\n",
        "max_iterations = 10000 # maximum number of iterations\n",
        "i = 0 #iteration counter\n",
        "df = lambda x: 2*x+3 #Gradient of the function \n",
        "\n",
        "#Plotting the function\n",
        "x = np.linspace(-5,5,100)\n",
        "plt.plot(x,x**2+3*x+2)\n",
        "plt.xlabel('x')\n",
        "plt.ylabel('function')\n",
        "plt.title('Gradient descent visualization')\n",
        "step=[]\n",
        "iteration=[]\n",
        "\n",
        "while step_size > precision and i < max_iterations:\n",
        "    x_0= x_1 #Storing the previous value\n",
        "    x_1 = x_1 - lr * df(x_0) #Gradient descent\n",
        "    step_size = abs(x_1 - x_0)\n",
        "    i = i+1\n",
        "    step.append(step_size)\n",
        "    iteration.append(i)\n",
        "    plt.scatter(x_0, x_0**2+3*x_0+2)\n",
        "\n",
        "print(\"The local minimum occurs at\", x_1,\"for\",i,\"iteration\")\n",
        "plt.grid()\n",
        "plt.show()\n",
        "plt.plot(step,iteration)\n",
        "plt.title('step size vs iteration')\n",
        "plt.xlabel('iterations')\n",
        "plt.ylabel('step size')\n",
        "plt.show()"
      ],
      "execution_count": 105,
      "outputs": [
        {
          "output_type": "stream",
          "text": [
            "The local minimum occurs at -1.4996461063384021 for 44 iteration\n"
          ],
          "name": "stdout"
        },
        {
          "output_type": "display_data",
          "data": {
            "image/png": "[encoded data removed]",
            "text/plain": [
              "<Figure size 432x288 with 1 Axes>"
            ]
          },
          "metadata": {
            "tags": [],
            "needs_background": "light"
          }
        },
        {
          "output_type": "display_data",
          "data": {
            "image/png": "[encoded data removed]",
            "text/plain": [
              "<Figure size 432x288 with 1 Axes>"
            ]
          },
          "metadata": {
            "tags": [],
            "needs_background": "light"
          }
        }
      ]
    },
    {
      "cell_type": "markdown",
      "metadata": {
        "id": "2BQooN041DSd"
      },
      "source": [
        "#Q2"
      ]
    },
    {
      "cell_type": "code",
      "metadata": {
        "id": "KyiYOwJJCqyg",
        "colab": {
          "base_uri": "https://localhost:8080/",
          "height": 332
        },
        "outputId": "391d9a6c-a675-49cd-c4f4-71e9e9f15f25"
      },
      "source": [
        "from matplotlib import cm\n",
        "from mpl_toolkits.mplot3d import Axes3D\n",
        "import math\n",
        "import matplotlib.pyplot as plt\n",
        "import numpy as np\n",
        "\n",
        "#initial guess\n",
        "x_1 = 2 \n",
        "y_1 = 3\n",
        "\n",
        "rate = 0.1 # Learning rate\n",
        "precision = 0.0001\n",
        "step_size = 1\n",
        "max_iterations = 10000 # maximum number of iterations\n",
        "iters = 0 #iteration counter\n",
        "df = lambda x: 2*x #Gradient of function(same w.r.t x and y)\n",
        "step=[]\n",
        "iteration=[]\n",
        "while step_size > precision and i< max_iterations:\n",
        "    x_0 = x_1 \n",
        "    x_1 = x_1 - rate * df(x_0) #Grad descent\n",
        "    y_0 = y_1\n",
        "    y_1 = y_1-rate*df(y_0) #Grad descent\n",
        "    step_size = np.sqrt((x_1-x_0)**2+(y_1-y_0)**2) #Change in x\n",
        "    i = i+1 #iteration count\n",
        "    step.append(step_size)\n",
        "    iteration.append(i)\n",
        "    \n",
        "print(\"The local minimum occurs at x = \", x_1,\"and y = \",y_1 ,\" in \",i,\"iterations\")\n",
        "plt.plot(step,iteration)\n",
        "plt.title('step size vs iteration')\n",
        "plt.xlabel('iterations')\n",
        "plt.ylabel('step size')\n",
        "plt.show()"
      ],
      "execution_count": 104,
      "outputs": [
        {
          "output_type": "stream",
          "text": [
            "The local minimum occurs at x =  0.00021267647932558662 and y =  0.00031901471898837996  in  85 iterations\n"
          ],
          "name": "stdout"
        },
        {
          "output_type": "display_data",
          "data": {
            "image/png": "[encoded data removed]",
            "text/plain": [
              "<Figure size 432x288 with 1 Axes>"
            ]
          },
          "metadata": {
            "tags": [],
            "needs_background": "light"
          }
        }
      ]
    },
    {
      "cell_type": "markdown",
      "metadata": {
        "id": "mk9J3Z1R1F7v"
      },
      "source": [
        "#Q3--AND GATE"
      ]
    },
    {
      "cell_type": "code",
      "metadata": {
        "id": "MIQKeenbwcdY"
      },
      "source": [
        "class Perceptron:\n",
        "  \n",
        "  def __init__ (self):\n",
        "    self.w = None\n",
        "    self.b = None\n",
        "    \n",
        "  def model(self, x):\n",
        "    return 1 if (np.dot(self.w, x) >= self.b) else 0\n",
        "    \n",
        "  def predict(self, X):\n",
        "    Y = []\n",
        "    for x in X:\n",
        "      result = self.model(x)\n",
        "      Y.append(result)\n",
        "    return np.array(Y)\n",
        "    \n",
        "  def fit(self, X, Y, lr = 0.1):\n",
        "    \n",
        "    self.w = np.ones(X.shape[1])\n",
        "    self.b = 1\n",
        "  \n",
        "    for x, y in zip(X, Y):\n",
        "      y_pred = self.model(x)\n",
        "      if y == 1 and y_pred == 0:\n",
        "        self.w = self.w + lr * x\n",
        "        self.b = self.b - lr * 1\n",
        "      elif y == 0 and y_pred == 1:\n",
        "        self.w = self.w - lr * x\n",
        "        self.b = self.b + lr * 1\n",
        "    return self.w,self.b  \n"
      ],
      "execution_count": 115,
      "outputs": []
    },
    {
      "cell_type": "code",
      "metadata": {
        "id": "6nPkXIeg0wW_"
      },
      "source": [
        "X=np.array([[0,0],[0,1],[1,0],[1,1]])\n",
        "Y=np.array([0,0,0,1])"
      ],
      "execution_count": 116,
      "outputs": []
    },
    {
      "cell_type": "code",
      "metadata": {
        "id": "FF94XpT3EnI4"
      },
      "source": [
        "perceptron = Perceptron() #class instance\n",
        "w,b=perceptron.fit(X,Y)\n",
        "Y_test=perceptron.predict(X)"
      ],
      "execution_count": 117,
      "outputs": []
    },
    {
      "cell_type": "code",
      "metadata": {
        "colab": {
          "base_uri": "https://localhost:8080/"
        },
        "id": "Dj8IGwTJ07dA",
        "outputId": "4b04aa44-9897-4b18-e0d7-f46afbae7377"
      },
      "source": [
        "Y_test"
      ],
      "execution_count": 109,
      "outputs": [
        {
          "output_type": "execute_result",
          "data": {
            "text/plain": [
              "array([0, 0, 0, 1])"
            ]
          },
          "metadata": {
            "tags": []
          },
          "execution_count": 109
        }
      ]
    },
    {
      "cell_type": "code",
      "metadata": {
        "id": "RqDF3BG3Ez6E",
        "colab": {
          "base_uri": "https://localhost:8080/",
          "height": 300
        },
        "outputId": "1a7f0f4f-9213-48ab-9ccc-d2793b59fced"
      },
      "source": [
        "plt.scatter(1,1,marker='.',color='black')\n",
        "plt.scatter(1,0,marker='*',color='blue')\n",
        "plt.scatter(0,1,marker='*',color='blue')\n",
        "plt.scatter(0,0,marker='*',color='blue')\n",
        "plt.legend(['1','0'])\n",
        "y = (b-w[0]*x)/w[1]\n",
        "plt.plot(x,y,color='k')\n",
        "plt.xlim(-.5,1.5)\n",
        "plt.ylim(-.5,1.5)\n",
        "plt.xlabel(\"x1\")\n",
        "plt.ylabel(\"x2\")"
      ],
      "execution_count": 130,
      "outputs": [
        {
          "output_type": "execute_result",
          "data": {
            "text/plain": [
              "Text(0, 0.5, 'x2')"
            ]
          },
          "metadata": {
            "tags": []
          },
          "execution_count": 130
        },
        {
          "output_type": "display_data",
          "data": {
            "image/png": "[encoded data removed]",
            "text/plain": [
              "<Figure size 432x288 with 1 Axes>"
            ]
          },
          "metadata": {
            "tags": [],
            "needs_background": "light"
          }
        }
      ]
    },
    {
      "cell_type": "markdown",
      "metadata": {
        "id": "1cyDxMw5-LUP"
      },
      "source": [
        "#XOR Gate"
      ]
    },
    {
      "cell_type": "code",
      "metadata": {
        "colab": {
          "base_uri": "https://localhost:8080/",
          "height": 282
        },
        "id": "mVjfX7JS8AmD",
        "outputId": "0f5707cb-d19f-4b62-c7b5-5fc35690775d"
      },
      "source": [
        "plt.scatter(1,1,marker='.',color='green')\n",
        "plt.scatter(1,0,marker='*',color='green')\n",
        "plt.scatter(0,1,marker='*',color='green')\n",
        "plt.scatter(0,0,marker='.',color='blue')\n",
        "plt.legend(['1','0'])"
      ],
      "execution_count": 131,
      "outputs": [
        {
          "output_type": "execute_result",
          "data": {
            "text/plain": [
              "<matplotlib.legend.Legend at 0x7efc03dcf198>"
            ]
          },
          "metadata": {
            "tags": []
          },
          "execution_count": 131
        },
        {
          "output_type": "display_data",
          "data": {
            "image/png": "[encoded data removed]",
            "text/plain": [
              "<Figure size 432x288 with 1 Axes>"
            ]
          },
          "metadata": {
            "tags": [],
            "needs_background": "light"
          }
        }
      ]
    },
    {
      "cell_type": "markdown",
      "metadata": {
        "id": "shiCRYCN_8jj"
      },
      "source": [
        "XOR gate is not linearly separable,therefore it cannot be classified using perceptron algorithm"
      ]
    }
  ]
}