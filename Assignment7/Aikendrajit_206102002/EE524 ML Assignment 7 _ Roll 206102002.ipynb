{
 "cells": [
  {
   "cell_type": "markdown",
   "metadata": {},
   "source": [
    "# EE 524 Machine Learning Lab: Assignment 7"
   ]
  },
  {
   "cell_type": "markdown",
   "metadata": {},
   "source": [
    "- by Aikendrajit Roll no.: 206102002"
   ]
  },
  {
   "cell_type": "markdown",
   "metadata": {},
   "source": [
    "  "
   ]
  },
  {
   "cell_type": "markdown",
   "metadata": {},
   "source": [
    "**Gradient Descent** Most of the Machine Learning problems boil down to optimization of loss functions. For convex loss functions, optimization is done using gradient descent. Find the concept for gradient descent here:"
   ]
  },
  {
   "cell_type": "markdown",
   "metadata": {},
   "source": [
    "1. **2D function** Let the function be: f(x) = (x)^2 + 3*(x) + 2\n",
    "Use the gradient descent algorithm to find the minima of this function."
   ]
  },
  {
   "cell_type": "code",
   "execution_count": 537,
   "metadata": {},
   "outputs": [],
   "source": [
    "f = lambda x: x ** 2 + 3 * x + 2    #given function\n",
    "df = lambda x: 2*x + 3      #Gradient of our function \n",
    "\n",
    "current_x = 3       # The algorithm starts at x=3\n",
    "learn_rate = 0.08     # Learning rate\n",
    "precision = 0.00001 \n",
    "step_size = 1   #initialize step size as 1\n",
    "iterations = 0    #initialize iteration count"
   ]
  },
  {
   "cell_type": "code",
   "execution_count": 538,
   "metadata": {
    "scrolled": false
   },
   "outputs": [
    {
     "name": "stdout",
     "output_type": "stream",
     "text": [
      "Iteration: 1 \tX value is: 2.2800000000000002\n",
      "Iteration: 2 \tX value is: 1.6752000000000002\n",
      "Iteration: 3 \tX value is: 1.1671680000000002\n",
      "Iteration: 4 \tX value is: 0.7404211200000002\n",
      "Iteration: 5 \tX value is: 0.3819537408000001\n",
      "Iteration: 6 \tX value is: 0.08084114227200007\n",
      "Iteration: 7 \tX value is: -0.17209344049151998\n",
      "Iteration: 8 \tX value is: -0.3845584900128768\n",
      "Iteration: 9 \tX value is: -0.5630291316108165\n",
      "Iteration: 10 \tX value is: -0.7129444705530859\n",
      "Iteration: 11 \tX value is: -0.8388733552645922\n",
      "Iteration: 12 \tX value is: -0.9446536184222574\n",
      "Iteration: 13 \tX value is: -1.0335090394746962\n",
      "Iteration: 14 \tX value is: -1.1081475931587448\n",
      "Iteration: 15 \tX value is: -1.1708439782533455\n",
      "Iteration: 16 \tX value is: -1.2235089417328102\n",
      "Iteration: 17 \tX value is: -1.2677475110555605\n",
      "Iteration: 18 \tX value is: -1.3049079092866709\n",
      "Iteration: 19 \tX value is: -1.3361226438008036\n",
      "Iteration: 20 \tX value is: -1.362343020792675\n",
      "Iteration: 21 \tX value is: -1.384368137465847\n",
      "Iteration: 22 \tX value is: -1.4028692354713115\n",
      "Iteration: 23 \tX value is: -1.4184101577959016\n",
      "Iteration: 24 \tX value is: -1.4314645325485573\n",
      "Iteration: 25 \tX value is: -1.4424302073407882\n",
      "Iteration: 26 \tX value is: -1.4516413741662622\n",
      "Iteration: 27 \tX value is: -1.4593787542996601\n",
      "Iteration: 28 \tX value is: -1.4658781536117145\n",
      "Iteration: 29 \tX value is: -1.4713376490338401\n",
      "Iteration: 30 \tX value is: -1.4759236251884258\n",
      "Iteration: 31 \tX value is: -1.4797758451582776\n",
      "Iteration: 32 \tX value is: -1.4830117099329532\n",
      "Iteration: 33 \tX value is: -1.4857298363436806\n",
      "Iteration: 34 \tX value is: -1.4880130625286918\n",
      "Iteration: 35 \tX value is: -1.4899309725241012\n",
      "Iteration: 36 \tX value is: -1.4915420169202451\n",
      "Iteration: 37 \tX value is: -1.4928952942130058\n",
      "Iteration: 38 \tX value is: -1.4940320471389248\n",
      "Iteration: 39 \tX value is: -1.4949869195966967\n",
      "Iteration: 40 \tX value is: -1.4957890124612252\n",
      "Iteration: 41 \tX value is: -1.4964627704674291\n",
      "Iteration: 42 \tX value is: -1.4970287271926406\n",
      "Iteration: 43 \tX value is: -1.497504130841818\n",
      "Iteration: 44 \tX value is: -1.4979034699071272\n",
      "Iteration: 45 \tX value is: -1.4982389147219868\n",
      "Iteration: 46 \tX value is: -1.4985206883664688\n",
      "Iteration: 47 \tX value is: -1.4987573782278338\n",
      "Iteration: 48 \tX value is: -1.4989561977113803\n",
      "Iteration: 49 \tX value is: -1.4991232060775594\n",
      "Iteration: 50 \tX value is: -1.4992634931051498\n",
      "Iteration: 51 \tX value is: -1.4993813342083258\n",
      "Iteration: 52 \tX value is: -1.4994803207349936\n",
      "Iteration: 53 \tX value is: -1.4995634694173947\n",
      "Iteration: 54 \tX value is: -1.4996333143106115\n",
      "Iteration: 55 \tX value is: -1.4996919840209137\n",
      "Iteration: 56 \tX value is: -1.4997412665775676\n",
      "Iteration: 57 \tX value is: -1.4997826639251568\n",
      "Iteration: 58 \tX value is: -1.4998174376971316\n",
      "Iteration: 59 \tX value is: -1.4998466476655905\n",
      "Iteration: 60 \tX value is: -1.499871184039096\n",
      "Iteration: 61 \tX value is: -1.4998917945928405\n",
      "Iteration: 62 \tX value is: -1.499909107457986\n",
      "Iteration: 63 \tX value is: -1.4999236502647082\n",
      "Iteration: 64 \tX value is: -1.499935866222355\n",
      "Iteration: 65 \tX value is: -1.4999461276267783\n",
      "Iteration: 66 \tX value is: -1.4999547472064938\n",
      "\n",
      "The local minimum occurs at -1.4999547472064938\n"
     ]
    }
   ],
   "source": [
    "while step_size > precision and iterations < 1000:     #max iterations that the algorithm can iterate is 1000\n",
    "    previous_x = current_x      #store current_x value in previous_x\n",
    "    current_x = current_x - learn_rate * df(previous_x)    #gradient descent or X value\n",
    "    step_size = abs(current_x - previous_x)    #change in x\n",
    "    iterations = iterations + 1    #iteration count\n",
    "    print(\"Iteration:\",iterations,\"\\tX value is:\",current_x)    #Print iterations and X value\n",
    "    \n",
    "print(\"\\nThe local minimum occurs at\", current_x)\n",
    "\n",
    "minimum_value = current_x ** 2 + current_x * 3 + 2"
   ]
  },
  {
   "cell_type": "code",
   "execution_count": 539,
   "metadata": {},
   "outputs": [
    {
     "name": "stdout",
     "output_type": "stream",
     "text": [
      "The local minimum occurs at: -1.4999547472064938\n",
      "The number of iterations till the minimum value occurs is: 66\n",
      "The minimum value of the function is: -0.24999999795218475\n"
     ]
    }
   ],
   "source": [
    "print(\"The local minimum occurs at:\", current_x)\n",
    "print(\"The number of iterations till the minimum value occurs is:\",iterations)\n",
    "print(\"The minimum value of the function is:\", minimum_value)"
   ]
  },
  {
   "cell_type": "markdown",
   "metadata": {},
   "source": [
    "  "
   ]
  },
  {
   "cell_type": "markdown",
   "metadata": {},
   "source": [
    "2. **3D function** Let the function be f(x1, x2) = x1^2 + x2^2.\n",
    "Minimize this function using the gradient descent algorithm."
   ]
  },
  {
   "cell_type": "code",
   "execution_count": 540,
   "metadata": {},
   "outputs": [],
   "source": [
    "f = lambda x: x1 ** 2 + x2 ** 2    #given function\n",
    "df_x1 = lambda x1: 2*x1     #Gradient of our function wrt x1\n",
    "df_x2 = lambda x2: 2*x2     #Gradient of our function wrt x2\n",
    "\n",
    "current_x1 = 2       # The algorithm starts at x=2\n",
    "current_x2 = 2       # The algorithm starts at x=2\n",
    "learn_rate = 0.01     # Learning rate\n",
    "precision = 0.0001 \n",
    "step_size = 1   #initialize step size as 1\n",
    "iterations1 = 0    #initialize iteration1 count\n",
    "iterations2 = 0    #initialize iteration2 count"
   ]
  },
  {
   "cell_type": "code",
   "execution_count": 541,
   "metadata": {},
   "outputs": [
    {
     "name": "stdout",
     "output_type": "stream",
     "text": [
      "The number of iterations for df_x1: 298\n",
      "The local minimum occurs at 0.004857362907020876\n"
     ]
    }
   ],
   "source": [
    "while step_size > precision and iterations1 < 1000:     #max iterations that the algorithm can iterate is 1000\n",
    "    previous_x1 = current_x1      #store current_x value in previous_x\n",
    "    current_x1 = current_x1 - learn_rate * df_x1(previous_x1)    #gradient descent or X1 value\n",
    "    step_size = abs(current_x1 - previous_x1)    #change in x\n",
    "    iterations1 = iterations1 + 1    #iteration count \n",
    "print(\"The number of iterations for df_x1:\", iterations1)\n",
    "print(\"The local minimum occurs at\", current_x1)"
   ]
  },
  {
   "cell_type": "code",
   "execution_count": 542,
   "metadata": {},
   "outputs": [],
   "source": [
    "f = lambda x: x1 ** 2 + x2 ** 2    #given function\n",
    "df_x2 = lambda x2: 2*x2     #Gradient of our function wrt x2\n",
    "\n",
    "current_x2 = 2       # The algorithm starts at x=2\n",
    "learn_rate = 0.01     # Learning rate\n",
    "precision = 0.001 \n",
    "step_size = 1   #initialize step size as 1\n",
    "iterations2 = 0    #initialize iteration2 count"
   ]
  },
  {
   "cell_type": "code",
   "execution_count": 543,
   "metadata": {
    "scrolled": false
   },
   "outputs": [
    {
     "name": "stdout",
     "output_type": "stream",
     "text": [
      "The number of iterations for df_x2: 184\n",
      "The local minimum occurs at 0.04859906602448039\n",
      "The minimum value of the given function is: 0.002385463192862307\n"
     ]
    }
   ],
   "source": [
    "while step_size > precision and iterations2 < 1000:     #max iterations that the algorithm can iterate is 1000\n",
    "    previous_x2 = current_x2      #store current_x value in previous_x\n",
    "    current_x2 = current_x2 - learn_rate * df_x2(previous_x2)    #gradient descent or X1 value\n",
    "    step_size = abs(current_x2 - previous_x2)    #change in x\n",
    "    iterations2 = iterations2 + 1    #iteration count \n",
    "print(\"The number of iterations for df_x2:\", iterations2)\n",
    "print(\"The local minimum occurs at\", current_x2)\n",
    "\n",
    "minimum_value = current_x1 ** 2 + current_x2 ** 2\n",
    "print(\"The minimum value of the given function is:\", minimum_value)"
   ]
  },
  {
   "cell_type": "markdown",
   "metadata": {},
   "source": [
    "  "
   ]
  },
  {
   "cell_type": "markdown",
   "metadata": {},
   "source": [
    "  "
   ]
  },
  {
   "cell_type": "markdown",
   "metadata": {},
   "source": [
    "3. **Boolean Function Learning** Consider the boolean functions:\n",
    "\n",
    "y = f(x1, x2) = x1.x2\n",
    "\n",
    "y = f(x1, x2) = x1 ex-or x2\n",
    "\n",
    "Train a Perceptron with 2 inputs, and 1 output to learn these functions. Use the threshold according to the function. Use the Perceptron Learning Algorithm for this. Plot the data points with the 2 output classes(True and False) and the boundary that you learnt using the Perceptron Learning Algorithm."
   ]
  },
  {
   "cell_type": "markdown",
   "metadata": {},
   "source": [
    "  "
   ]
  },
  {
   "cell_type": "markdown",
   "metadata": {},
   "source": [
    "**AND** function"
   ]
  },
  {
   "cell_type": "code",
   "execution_count": 564,
   "metadata": {},
   "outputs": [],
   "source": [
    "import numpy as np # for mathematical operations\n",
    "\n",
    "import matplotlib.pyplot as plt   # for plot\n",
    "from matplotlib import cm   # for plot with color patterns"
   ]
  },
  {
   "cell_type": "code",
   "execution_count": 565,
   "metadata": {},
   "outputs": [],
   "source": [
    "# for the function y = f(x1, x2) = x1.x2"
   ]
  },
  {
   "cell_type": "code",
   "execution_count": 566,
   "metadata": {},
   "outputs": [],
   "source": [
    "def AND(x1, x2):\n",
    "    if x1 and x2:\n",
    "        return True\n",
    "    else:\n",
    "        return False"
   ]
  },
  {
   "cell_type": "code",
   "execution_count": 567,
   "metadata": {},
   "outputs": [
    {
     "name": "stdout",
     "output_type": "stream",
     "text": [
      "  Input    : Output\n",
      "\n",
      "y = f(0, 0): False\n",
      "y = f(0, 1): False\n",
      "y = f(1, 0): False\n",
      "y = f(1, 1): True\n"
     ]
    }
   ],
   "source": [
    "print(\"  Input    : Output\")\n",
    "print(\"\\ny = f(0, 0):\",AND(0,0))\n",
    "print(\"y = f(0, 1):\",AND(0,1))\n",
    "print(\"y = f(1, 0):\",AND(1,0))\n",
    "print(\"y = f(1, 1):\",AND(1,1))"
   ]
  },
  {
   "cell_type": "code",
   "execution_count": 568,
   "metadata": {},
   "outputs": [
    {
     "data": {
      "text/plain": [
       "Text(0.5, 1.0, 'AND Gate decision boundary')"
      ]
     },
     "execution_count": 568,
     "metadata": {},
     "output_type": "execute_result"
    },
    {
     "data": {
      "image/png": "[encoded data removed]",
      "text/plain": [
       "<Figure size 432x288 with 1 Axes>"
      ]
     },
     "metadata": {
      "needs_background": "light"
     },
     "output_type": "display_data"
    }
   ],
   "source": [
    "fig, ax = plt.subplots()\n",
    "xmin, xmax = -0.2, 1.2\n",
    "X = np.arange(xmin, xmax, 0.1)\n",
    "ax.scatter(0, 0, color=\"r\")\n",
    "ax.scatter(0, 1, color=\"r\")\n",
    "ax.scatter(1, 0, color=\"r\")\n",
    "ax.scatter(1, 1, color=\"g\")\n",
    "ax.set_xlim([xmin, xmax])\n",
    "ax.set_ylim([-0.4, 1.4])\n",
    "\n",
    "plt.grid()\n",
    "plt.plot()\n",
    "plt.title('AND Gate decision boundary')"
   ]
  },
  {
   "cell_type": "markdown",
   "metadata": {},
   "source": [
    "### Perceptron Learning model: AND gate"
   ]
  },
  {
   "cell_type": "code",
   "execution_count": 569,
   "metadata": {},
   "outputs": [],
   "source": [
    "# for AND gate\n",
    "# inputs: input or featured data\n",
    "# output: output data\n",
    "# x0 is a dummy variable for the bias term\n",
    "    # x0  x1  x2\n",
    "inputs = [[1., 0., 0.],                                  \n",
    "          [1., 0., 1.],                                 \n",
    "          [1., 1., 0.],                                  \n",
    "          [1., 1., 1.]]\n",
    "\n",
    "   # Desired outputs\n",
    "output = [0.,                                            \n",
    "          0.,                                            \n",
    "          0.,                                            \n",
    "          1.]"
   ]
  },
  {
   "cell_type": "code",
   "execution_count": 570,
   "metadata": {},
   "outputs": [],
   "source": [
    "thres = 0.0     # threshold taken as 0\n",
    "learn_rate = 0.1   # learning rate\n",
    "t = 50      # number of iterations"
   ]
  },
  {
   "cell_type": "code",
   "execution_count": 571,
   "metadata": {},
   "outputs": [],
   "source": [
    "def perceptron_train(inputs, output, z, learn_rate, t):    \n",
    "    # Initializing parameters for the Perceptron\n",
    "    # for weights\n",
    "    w = np.zeros(len(inputs[0]))        \n",
    "    n = 0                          \n",
    "\n",
    "    # Initializing additional parameters to compute Sum of Square Errors\n",
    "    predict_vec = np.ones(len(output))     # vector for predictions\n",
    "    errors = np.ones(len(output))       # vector for errors (actual - predictions)\n",
    "    V = []                         # vector for the SSE cost function\n",
    " \n",
    "    while n < t:                \n",
    "# summation step\n",
    "        for i in range(0, len(inputs)):                 \n",
    "            f = np.dot(inputs[i], w)                      \n",
    "# activation function\n",
    "            if f > thres:                               \n",
    "                output_pre = 1.                               \n",
    "            else:                                   \n",
    "                output_pre = 0.\n",
    "            predict_vec[i] = output_pre                             \n",
    "\n",
    "            # updating the weights\n",
    "            for j in range(0, len(w)):             \n",
    "                w[j] = w[j] + learn_rate*(output[i]-output_pre)*inputs[i][j]\n",
    "\n",
    "            n += 1     \n",
    "\n",
    "  # computing the sum-of-squared errors\n",
    "        for i in range(0,len(output)):     \n",
    "            errors[i] = (output[i]-predict_vec[i])**2\n",
    "        V.append(0.5*np.sum(errors))\n",
    "       \n",
    "    return w, V"
   ]
  },
  {
   "cell_type": "code",
   "execution_count": 572,
   "metadata": {},
   "outputs": [
    {
     "name": "stdout",
     "output_type": "stream",
     "text": [
      "The weights are:\n",
      "[-0.2  0.2  0.1] \n",
      "\n",
      "The sum-of-squared errors are:\n",
      "[0.5, 1.5, 1.5, 1.0, 0.5, 0.0, 0.0, 0.0, 0.0, 0.0, 0.0, 0.0, 0.0]\n"
     ]
    }
   ],
   "source": [
    "print(\"The weights are:\")\n",
    "print(perceptron_train(inputs, output, thres, learn_rate, t)[0], \"\\n\")\n",
    "\n",
    "print(\"The sum-of-squared errors are:\")\n",
    "print(perceptron_train(inputs, output, thres, learn_rate, t)[1])"
   ]
  },
  {
   "cell_type": "code",
   "execution_count": 573,
   "metadata": {},
   "outputs": [
    {
     "data": {
      "text/plain": [
       "Text(0.5, 1.0, 'Perceptron Convergence graph for AND gate')"
      ]
     },
     "execution_count": 573,
     "metadata": {},
     "output_type": "execute_result"
    },
    {
     "data": {
      "image/png": "[encoded data removed]",
      "text/plain": [
       "<Figure size 432x288 with 1 Axes>"
      ]
     },
     "metadata": {
      "needs_background": "light"
     },
     "output_type": "display_data"
    }
   ],
   "source": [
    "V = perceptron_train(inputs, output, thres, learn_rate, t)[1]     # pulling out the sum-of-squared errors from the tuple\n",
    "epoch = np.linspace(1,len(V),len(V))\n",
    "\n",
    "%matplotlib inline  \n",
    "plt.plot(epoch, V)\n",
    "plt.xlabel('Epoch')\n",
    "plt.ylabel('SSE')\n",
    "plt.title('Perceptron Convergence graph for AND gate')"
   ]
  },
  {
   "cell_type": "code",
   "execution_count": 574,
   "metadata": {},
   "outputs": [],
   "source": [
    "#from the above perceptron convergence graph, we have seen that\n",
    "# the graph converges from the 6th epoch "
   ]
  },
  {
   "cell_type": "markdown",
   "metadata": {},
   "source": [
    "**EX-OR** function"
   ]
  },
  {
   "cell_type": "code",
   "execution_count": 575,
   "metadata": {},
   "outputs": [],
   "source": [
    "# for the function y = f(x1, x2) = x1 ex-or x2"
   ]
  },
  {
   "cell_type": "code",
   "execution_count": 576,
   "metadata": {},
   "outputs": [],
   "source": [
    "def OR(x1, x2):\n",
    "    if x1 or x2:\n",
    "        return True\n",
    "    else:\n",
    "        return False\n",
    "    \n",
    "def NOT(x):\n",
    "    if x:\n",
    "        return False\n",
    "    else:\n",
    "        return True\n",
    "    \n",
    "def XOR(x1, x2):\n",
    "    return OR((AND(NOT(x1), x2)), AND(x1, NOT(x2)))"
   ]
  },
  {
   "cell_type": "code",
   "execution_count": 577,
   "metadata": {},
   "outputs": [
    {
     "name": "stdout",
     "output_type": "stream",
     "text": [
      "  Input    : Output\n",
      "\n",
      "y = f(0, 0): False\n",
      "y = f(0, 1): True\n",
      "y = f(1, 0): True\n",
      "y = f(1, 1): False\n"
     ]
    }
   ],
   "source": [
    "print(\"  Input    : Output\")\n",
    "print(\"\\ny = f(0, 0):\",XOR(0,0))\n",
    "print(\"y = f(0, 1):\",XOR(0,1))\n",
    "print(\"y = f(1, 0):\",XOR(1,0))\n",
    "print(\"y = f(1, 1):\",XOR(1,1))"
   ]
  },
  {
   "cell_type": "code",
   "execution_count": 578,
   "metadata": {},
   "outputs": [
    {
     "data": {
      "text/plain": [
       "Text(0.5, 1.0, 'XOR Gate decision boundary')"
      ]
     },
     "execution_count": 578,
     "metadata": {},
     "output_type": "execute_result"
    },
    {
     "data": {
      "image/png": "[encoded data removed]",
      "text/plain": [
       "<Figure size 432x288 with 1 Axes>"
      ]
     },
     "metadata": {
      "needs_background": "light"
     },
     "output_type": "display_data"
    }
   ],
   "source": [
    "fig, ax = plt.subplots()\n",
    "xmin, xmax = -0.2, 1.2\n",
    "X = np.arange(xmin, xmax, 0.1)\n",
    "ax.scatter(0, 0, color=\"r\")\n",
    "ax.scatter(0, 1, color=\"g\")\n",
    "ax.scatter(1, 0, color=\"g\")\n",
    "ax.scatter(1, 1, color=\"r\")\n",
    "ax.set_xlim([xmin, xmax])\n",
    "ax.set_ylim([-0.4, 1.4])\n",
    "\n",
    "plt.grid()\n",
    "plt.plot()\n",
    "plt.title(\"XOR Gate decision boundary\")"
   ]
  },
  {
   "cell_type": "code",
   "execution_count": 579,
   "metadata": {},
   "outputs": [],
   "source": [
    "# for XOR gate\n",
    "# inputs: input or featured data\n",
    "# output: output data\n",
    "# x0 is a dummy variable for the bias term\n",
    "         # x0  x1  x2\n",
    "inputs = [[1., 0., 0.],                                  \n",
    "          [1., 0., 1.],                                 \n",
    "          [1., 1., 0.],                                  \n",
    "          [1., 1., 1.]]\n",
    "\n",
    "   # Desired outputs\n",
    "output = [0.,                                            \n",
    "          1.,                                            \n",
    "          1.,                                            \n",
    "          0.]"
   ]
  },
  {
   "cell_type": "code",
   "execution_count": 580,
   "metadata": {},
   "outputs": [],
   "source": [
    "thres = 0.0     # threshold taken as 0\n",
    "learn_rate = 0.1   # learning rate\n",
    "t = 50      # number of iterations"
   ]
  },
  {
   "cell_type": "code",
   "execution_count": 581,
   "metadata": {},
   "outputs": [],
   "source": [
    "def perceptron_train(inputs, output, z, learn_rate, t):    \n",
    "    # Initializing parameters for the Perceptron\n",
    "    # for weights\n",
    "    w = np.zeros(len(inputs[0]))        \n",
    "    n = 0                          \n",
    "\n",
    "    # Initializing additional parameters to compute Sum of Square Errors\n",
    "    predict_vec = np.ones(len(output))     # vector for predictions\n",
    "    errors = np.ones(len(output))       # vector for errors (actual - predictions)\n",
    "    V = []                         # vector for the SSE cost function\n",
    " \n",
    "    while n < t:                \n",
    "# summation step\n",
    "        for i in range(0, len(inputs)):                 \n",
    "            f = np.dot(inputs[i], w)                      \n",
    "# activation function\n",
    "            if f > thres:                               \n",
    "                output_pre = 1.                               \n",
    "            else:                                   \n",
    "                output_pre = 0.\n",
    "            predict_vec[i] = output_pre                             \n",
    "\n",
    "            # updating the weights\n",
    "            for j in range(0, len(w)):             \n",
    "                w[j] = w[j] + learn_rate*(output[i]-output_pre)*inputs[i][j]\n",
    "\n",
    "            n += 1     \n",
    "\n",
    "  # computing the sum-of-squared errors\n",
    "        for i in range(0,len(output)):     \n",
    "            errors[i] = (output[i]-predict_vec[i])**2\n",
    "        V.append(0.5*np.sum(errors))\n",
    "       \n",
    "    return w, V"
   ]
  },
  {
   "cell_type": "code",
   "execution_count": 582,
   "metadata": {},
   "outputs": [
    {
     "name": "stdout",
     "output_type": "stream",
     "text": [
      "The weights are:\n",
      "[ 0.1 -0.1  0. ] \n",
      "\n",
      "The sum-of-squared errors are:\n",
      "[1.0, 1.5, 2.0, 2.0, 2.0, 2.0, 2.0, 2.0, 2.0, 2.0, 2.0, 2.0, 2.0]\n"
     ]
    }
   ],
   "source": [
    "print(\"The weights are:\")\n",
    "print(perceptron_train(inputs, output, thres, learn_rate, t)[0], \"\\n\")\n",
    "\n",
    "print(\"The sum-of-squared errors are:\")\n",
    "print(perceptron_train(inputs, output, thres, learn_rate, t)[1])"
   ]
  },
  {
   "cell_type": "code",
   "execution_count": null,
   "metadata": {},
   "outputs": [],
   "source": []
  }
 ],
 "metadata": {
  "kernelspec": {
   "display_name": "Python 3",
   "language": "python",
   "name": "python3"
  },
  "language_info": {
   "codemirror_mode": {
    "name": "ipython",
    "version": 3
   },
   "file_extension": ".py",
   "mimetype": "text/x-python",
   "name": "python",
   "nbconvert_exporter": "python",
   "pygments_lexer": "ipython3",
   "version": "3.7.6"
  }
 },
 "nbformat": 4,
 "nbformat_minor": 4
}
